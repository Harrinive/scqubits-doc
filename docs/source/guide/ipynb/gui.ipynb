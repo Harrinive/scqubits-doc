{
 "cells": [
  {
   "cell_type": "code",
   "execution_count": 4,
   "id": "actual-functionality",
   "metadata": {
    "nbsphinx": "hidden"
   },
   "outputs": [],
   "source": [
    "%matplotlib inline\n",
    "%config InlineBackend.figure_format = 'svg'"
   ]
  },
  {
   "cell_type": "markdown",
   "id": "particular-senator",
   "metadata": {},
   "source": [
    "# GUI for Beginners"
   ]
  },
  {
   "cell_type": "markdown",
   "id": "collective-latter",
   "metadata": {},
   "source": [
    "Some of the simplest functions of scqubits can be accessed through a graphical user interface. The utilization of the `GUI` class from a jupyter notebook starts with importing the `scqubits` library"
   ]
  },
  {
   "cell_type": "code",
   "execution_count": 5,
   "id": "determined-amber",
   "metadata": {},
   "outputs": [],
   "source": [
    "import scqubits as scq"
   ]
  },
  {
   "cell_type": "markdown",
   "id": "twenty-ontario",
   "metadata": {},
   "source": [
    "To display the interface, simply run the following:"
   ]
  },
  {
   "cell_type": "code",
   "execution_count": 3,
   "id": "mathematical-centre",
   "metadata": {
    "scrolled": false
   },
   "outputs": [
    {
     "data": {
      "application/vnd.jupyter.widget-view+json": {
       "model_id": "548a8b4d01f0499e82446cd48d841223",
       "version_major": 2,
       "version_minor": 0
      },
      "text/plain": [
       "VBox(children=(HBox(children=(ToggleButtons(description='Qubits:', layout=Layout(width='800px'), options=('Tra…"
      ]
     },
     "metadata": {},
     "output_type": "display_data"
    },
    {
     "data": {
      "application/vnd.jupyter.widget-view+json": {
       "model_id": "2144b6aaa6ed4225b8a67d87b6b7d8f8",
       "version_major": 2,
       "version_minor": 0
      },
      "text/plain": [
       "Output(layout=Layout(width='975px'))"
      ]
     },
     "metadata": {},
     "output_type": "display_data"
    },
    {
     "data": {
      "text/plain": []
     },
     "execution_count": 3,
     "metadata": {},
     "output_type": "execute_result"
    }
   ],
   "source": [
    "scq.GUI()"
   ]
  },
  {
   "cell_type": "markdown",
   "id": "labeled-intersection",
   "metadata": {},
   "source": [
    "![title](gui_output.png)"
   ]
  },
  {
   "cell_type": "code",
   "execution_count": null,
   "id": "suffering-liechtenstein",
   "metadata": {},
   "outputs": [],
   "source": []
  }
 ],
 "metadata": {
  "celltoolbar": "Edit Metadata",
  "kernelspec": {
   "display_name": "Python 3",
   "language": "python",
   "name": "python3"
  },
  "language_info": {
   "codemirror_mode": {
    "name": "ipython",
    "version": 3
   },
   "file_extension": ".py",
   "mimetype": "text/x-python",
   "name": "python",
   "nbconvert_exporter": "python",
   "pygments_lexer": "ipython3",
   "version": "3.8.5"
  },
  "toc": {
   "base_numbering": 1,
   "nav_menu": {},
   "number_sections": false,
   "sideBar": true,
   "skip_h1_title": true,
   "title_cell": "Table of Contents",
   "title_sidebar": "Contents",
   "toc_cell": false,
   "toc_position": {},
   "toc_section_display": true,
   "toc_window_display": true
  }
 },
 "nbformat": 4,
 "nbformat_minor": 5
}