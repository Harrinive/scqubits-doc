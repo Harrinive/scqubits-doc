{
 "cells": [
  {
   "cell_type": "markdown",
   "id": "a1533a21-0277-472a-af2e-b40a2e9e0c39",
   "metadata": {
    "pycharm": {
     "name": "#%% md\n"
    }
   },
   "source": [
    "# Custom Circuits\n",
    "With the `Circuit` class one can define and analyze custom circuits. The `Circuit` and `SymbolicCircuit` classes work hand in hand to **identify the periodic and extended degrees of freedom, and to eliminate the non-dynamical cyclic and frozen modes**. With this, the symbolic expression of the Hamiltonian is generated in terms of an appropriate choice of variables. \n",
    "\n",
    "The `Circuit` class also performs the **numerical diagonalization of the circuit Hamiltonian. Hierarchical diagonalization can be enabled for better runtime/memory perfomance.**"
   ]
  },
  {
   "cell_type": "markdown",
   "id": "470b2969",
   "metadata": {},
   "source": [
    "## Defining a custom circuit\n",
    "Any superconducting circuit consists of **capacitances**, **inductances**, and **Josephson junctions**. "
   ]
  },
  {
   "cell_type": "markdown",
   "id": "4b930329",
   "metadata": {
    "pycharm": {
     "name": "#%% md\n"
    }
   },
   "source": [
    "<div class=\"alert alert-info\">\n",
    "    \n",
    "Custom circuit definition\n",
    "    \n",
    "A custom circuit is specified via its graph consisting of nodes and branches. Start by labeling all circuit nodes with integer numbers n=1,2,3,... Every branch is a circuit element connecting two nodes.\n",
    "    \n",
    "For each branch:\n",
    "   \n",
    "- specify branch type: `JJ`, `L`, `C` for Josephson junction, inductance, and capacitance\n",
    "- give the labels of two nodes connected by the branch\n",
    "- provide circuit-element parameters (EJ and ECJ, EL, and EC, respectively)\n",
    "</div>\n",
    "\n",
    "\n",
    "As a concrete and familiar example, consider the circuit of the zero-pi qubit (nodes already labeled):\n",
    "   \n",
    "![zeropi](./zeropi-circ.jpg)\n",
    "\n",
    "   \n",
    "The graph of any custom circuit is stored in simple YAML format using the syntax illustrated here:"
   ]
  },
  {
   "cell_type": "code",
   "execution_count": null,
   "id": "480aba4d",
   "metadata": {},
   "outputs": [],
   "source": [
    "zp_yaml = \"\"\"# zero-pi circuit\n",
    "nodes: 4\n",
    "branches:\n",
    "- [\"JJ\", 1, 2, EJ = 10, 20]\n",
    "- [\"JJ\", 3, 4, 10, 20]\n",
    "- [\"L\", 2, 3, 0.008]\n",
    "- [\"L\", 4, 1, 0.008]\n",
    "- [\"C\", 1, 3, 0.02]\n",
    "- [\"C\", 2, 4, 0.02]\n",
    "\"\"\""
   ]
  },
  {
   "cell_type": "markdown",
   "id": "744085e7-bb67-4670-b5e8-6505e6b5dcd3",
   "metadata": {
    "pycharm": {
     "name": "#%% md\n"
    }
   },
   "source": [
    "Alternatively, circuit specifications can be stored and loaded as `yaml` files with the same syntax. The graph description of the circuit is needed for creating an instance of the `Circuit` class. \n",
    "\n",
    "\n",
    "### More on syntax for entering custom circuits\n",
    "\n",
    "The example above illustrates most of the syntax rules to be followed. Each branch is represented by \n",
    "\n",
    "```\"<branch-type>\", <node_1>, <node_2>, <param-1> [, <param-2>]```\n",
    "\n",
    "**Branch types and parameters:**\n",
    "\n",
    "- `C`:  branch parameter is the charging energy $E_C = \\frac{e^2}{2C}$\n",
    "- `L`:  branch parameter is the inductive energy $E_L = \\frac{\\Phi_0^2}{(2\\pi)^2 L}$\n",
    "- `JJ`: branch parameters are the Josephson energy $E_J$ and junction charging energy $E_{CJ}$\n",
    "\n",
    "*Example:* `\"C\", 1, 3, 0.02` is a capacitance connecting nodes 1 and node 3, with charging energy 0.02 GHz.\n",
    "\n",
    "**Symbolic vs. numerical branch branch parameters:**\n",
    "\n",
    "- Branch parameters can be provided as float values, using the energy units set globally (default: GHz)\n",
    "- A symbol name can be specified along with the value (e.g., `EJ = 10`). Where appropriate, symbolic expressions are given in terms of such provided symbol names.\n",
    "\n",
    "    \n",
    "**Ground node:**\n",
    "\n",
    "A physical ground node (if to be included in the circuit), always has the label 0. It does not count towards the total number of nodes."
   ]
  },
  {
   "cell_type": "markdown",
   "id": "03507a0d-627c-494e-940f-b0e7077aa01b",
   "metadata": {
    "pycharm": {
     "name": "#%% md\n"
    }
   },
   "source": [
    "## Creating a `Circuit` object\n",
    "Using the above string defining the zero-pi qubit, we can easily create a `Circuit` object:"
   ]
  },
  {
   "cell_type": "code",
   "execution_count": null,
   "id": "e47f75b9",
   "metadata": {
    "pycharm": {
     "name": "#%%\n"
    }
   },
   "outputs": [],
   "source": [
    "import scqubits as scq\n",
    "zero_pi = scq.Circuit.from_yaml(zp_yaml, from_file=False, ext_basis=\"discretized\")"
   ]
  },
  {
   "cell_type": "markdown",
   "id": "af445950",
   "metadata": {
    "pycharm": {
     "name": "#%% md\n"
    }
   },
   "source": [
    "Here, `ext_basis` can be set to `\"discretized\"` or `\"harmonic\"`, and corresponds to the choice of using \"spatial\" discretization or decomposition in the harmonic oscillator basis for extended degrees of freedom.\n",
    "\n",
    "\n",
    "This creation of a `Circuit` automatically runs methods for circuit analysis, quantization, and construction of the circuit Hamiltonian matrix. For instance, we can directly access the **symbolic expression of the circuit Hamiltonian**:"
   ]
  },
  {
   "cell_type": "code",
   "execution_count": null,
   "id": "a6cd2a58",
   "metadata": {
    "pycharm": {
     "name": "#%%\n"
    }
   },
   "outputs": [],
   "source": [
    "zero_pi.sym_hamiltonian()"
   ]
  },
  {
   "cell_type": "markdown",
   "id": "df160b48",
   "metadata": {
    "pycharm": {
     "name": "#%% md\n"
    }
   },
   "source": [
    "All generalized coordinates are denoted by $\\theta_i$; the conjugate charges are given by $Q_i$ for extended degrees of freedom, and by $n_i$ for periodic degrees of freedom.\n",
    "\n",
    ".. note:\n",
    "   The coordinates chosen here generally differ from the node variables. In their construction, periodic and extended \n",
    "   degrees of freedom are identified and separated. Furthermore, variable elimination is implemented for cyclic and \n",
    "   frozen degrees of freedom (if applicable).\n",
    "   \n",
    "\n",
    "The **symbolic Lagrangian in terms of node variables** can be accessed via "
   ]
  },
  {
   "cell_type": "code",
   "execution_count": null,
   "id": "149bf652",
   "metadata": {
    "pycharm": {
     "name": "#%%\n"
    }
   },
   "outputs": [],
   "source": [
    "zero_pi.sym_lagrangian()"
   ]
  },
  {
   "cell_type": "markdown",
   "id": "99d63d24",
   "metadata": {},
   "source": [
    "The equivalent expression of the **Lagrangian in terms of the transformed variables** used in `sym_hamiltonian` is:"
   ]
  },
  {
   "cell_type": "code",
   "execution_count": null,
   "id": "586142df",
   "metadata": {},
   "outputs": [],
   "source": [
    "zero_pi.sym_lagrangian(vars_type=\"new\")"
   ]
  },
  {
   "cell_type": "markdown",
   "id": "d82001cc",
   "metadata": {
    "pycharm": {
     "name": "#%% md\n"
    }
   },
   "source": [
    "The classification of the different variables is recorded in `var_categories`:"
   ]
  },
  {
   "cell_type": "code",
   "execution_count": null,
   "id": "eb2e0e25",
   "metadata": {
    "pycharm": {
     "name": "#%%\n"
    }
   },
   "outputs": [],
   "source": [
    "zero_pi.var_categories"
   ]
  },
  {
   "cell_type": "markdown",
   "id": "a3d6f170",
   "metadata": {
    "pycharm": {
     "name": "#%% md\n"
    }
   },
   "source": [
    "The transformation matrix which maps the new variables ($\\theta_i$) to node the variables ($\\varphi_i$) can be inspected through `transformation_matrix`."
   ]
  },
  {
   "cell_type": "code",
   "execution_count": null,
   "id": "8d0f5ff4",
   "metadata": {
    "pycharm": {
     "name": "#%%\n"
    }
   },
   "outputs": [],
   "source": [
    "zero_pi.transformation_matrix"
   ]
  },
  {
   "cell_type": "markdown",
   "id": "272160d7",
   "metadata": {
    "pycharm": {
     "name": "#%% md\n"
    }
   },
   "source": [
    "Each variable index comes with a **cutoff for basis truncation**. A list of the attribute names of these cutoffs can be accessed using:"
   ]
  },
  {
   "cell_type": "code",
   "execution_count": null,
   "id": "9386728a",
   "metadata": {
    "pycharm": {
     "name": "#%%\n"
    }
   },
   "outputs": [],
   "source": [
    "zero_pi.cutoff_names"
   ]
  },
  {
   "cell_type": "markdown",
   "id": "1581f945",
   "metadata": {
    "pycharm": {
     "name": "#%% md\n"
    }
   },
   "source": [
    "We must next set these cutoffs to suitable values.\n",
    "\n",
    "<div class=\"alert alert-warning\">\n",
    "    Convergence checks required\n",
    "    \n",
    "    Setting appropriate cutoff values and confirming convergence is the user's responsibility!\n",
    "</div>"
   ]
  },
  {
   "cell_type": "code",
   "execution_count": null,
   "id": "f82413f7",
   "metadata": {
    "pycharm": {
     "name": "#%%\n"
    }
   },
   "outputs": [],
   "source": [
    "zero_pi.cutoff_n_1 = 5\n",
    "zero_pi.cutoff_phi_2 = 10\n",
    "zero_pi.cutoff_phi_3 = 10"
   ]
  },
  {
   "cell_type": "markdown",
   "id": "daabe957",
   "metadata": {},
   "source": [
    "Now, we can call `eigenvals()` to obtain **low-lying eigenenergies of the circuit Hamiltonian**: "
   ]
  },
  {
   "cell_type": "code",
   "execution_count": null,
   "id": "fc2e64f7",
   "metadata": {},
   "outputs": [],
   "source": [
    "zero_pi.eigenvals()"
   ]
  },
  {
   "cell_type": "markdown",
   "id": "363425c6",
   "metadata": {
    "pycharm": {
     "name": "#%% md\n"
    }
   },
   "source": [
    "Increasing the above cutoff values reveals that these eigenvalues have not converged yet. Increasing cutoff values increases the Hilbert space dimension and, thus, increases memory requirements and runtime. A strategy that can help mitigate this problem is the use of hierarchical diagonalization.\n",
    "\n",
    "## Hierarchical diagonalization\n",
    "The expression from `sym_hamiltonian` shows that $\\theta_2$ corresponds to the harmonic zeta mode of the zero-pi qubit. The remaining variables $\\theta_1$ and $\\theta_3$ form the primary qubit degrees of freedom and may be considered a \"separate\", weakly coupled subsystem. \n",
    "\n",
    "This idea of a **subsystem hierarchy is made explicit by grouping circuit variable indices in a nested list**:"
   ]
  },
  {
   "cell_type": "code",
   "execution_count": null,
   "id": "c758ba14",
   "metadata": {
    "pycharm": {
     "name": "#%%\n"
    }
   },
   "outputs": [],
   "source": [
    "system_hierarchy = [[1,3], [2]]"
   ]
  },
  {
   "cell_type": "markdown",
   "id": "5e218906",
   "metadata": {
    "pycharm": {
     "name": "#%% md\n"
    }
   },
   "source": [
    "This nested list groups variables $1$ and $3$ into one subsystem, and makes variable $2$ a separate subsystem. \n",
    "\n",
    "List nesting extends to multiple layers, so that more complex hierarchies can be captured.  \n",
    "For example, a zero-pi qubit coupled to an oscillator (variable $4$) could be associated with the hierarchy `[[[1,3], [2]], [4]]`.\n",
    "\n",
    "For convenience, a default list of truncated Hilbert space dimensions is generated by `truncation_template`:"
   ]
  },
  {
   "cell_type": "code",
   "execution_count": null,
   "id": "4c304866",
   "metadata": {
    "pycharm": {
     "name": "#%%\n"
    }
   },
   "outputs": [],
   "source": [
    "from scqubits.core.circuit import truncation_template\n",
    "truncation_template(system_hierarchy)"
   ]
  },
  {
   "cell_type": "markdown",
   "id": "cae9048e",
   "metadata": {
    "pycharm": {
     "name": "#%% md\n"
    }
   },
   "source": [
    "This default is meant to provide a list of the right shape whose entries should of course be adjusted. \n",
    "\n",
    "**To enable hierarchical diagonalization, the system hierarchy and truncation scheme info are handed over to** `set_system_hierarchy`:"
   ]
  },
  {
   "cell_type": "code",
   "execution_count": null,
   "id": "aa28782d",
   "metadata": {
    "pycharm": {
     "name": "#%%\n"
    }
   },
   "outputs": [],
   "source": [
    "zero_pi.set_system_hierarchy(system_hierarchy=system_hierarchy, subsystem_trunc_dims=[150, 80])"
   ]
  },
  {
   "cell_type": "markdown",
   "id": "254e04aa",
   "metadata": {
    "pycharm": {
     "name": "#%% md\n"
    }
   },
   "source": [
    "Once the hierarchy is set, subsystem Hamiltonians can be viewed via"
   ]
  },
  {
   "cell_type": "code",
   "execution_count": null,
   "id": "5dec4742",
   "metadata": {
    "pycharm": {
     "name": "#%%\n"
    }
   },
   "outputs": [],
   "source": [
    "zero_pi.sym_hamiltonian(subsystem_index=0)  # show Hamiltonian for subsystem 0"
   ]
  },
  {
   "cell_type": "markdown",
   "id": "19f17eda",
   "metadata": {
    "pycharm": {
     "name": "#%% md\n"
    }
   },
   "source": [
    "Hamiltonian terms describing the coupling between two subsystems are displayed via"
   ]
  },
  {
   "cell_type": "code",
   "execution_count": null,
   "id": "bca4e0fb",
   "metadata": {
    "pycharm": {
     "name": "#%%\n"
    }
   },
   "outputs": [],
   "source": [
    "zero_pi.sym_interaction((0,1))  # show coupling terms between subsystems 0 and 1"
   ]
  },
  {
   "cell_type": "markdown",
   "id": "8372344b",
   "metadata": {
    "pycharm": {
     "name": "#%% md\n"
    }
   },
   "source": [
    "(For the symmetric zero-pi qubit, the zeta mode and the primary qubit degrees of freedom decouple.)\n",
    "\n",
    "Each subsystem has access to circuit methods, like `eigenvals`. Here are the unconverged (!) eigenenergies for the zeta mode:"
   ]
  },
  {
   "cell_type": "code",
   "execution_count": null,
   "id": "0c396cec",
   "metadata": {
    "pycharm": {
     "name": "#%%\n"
    }
   },
   "outputs": [],
   "source": [
    "zero_pi.subsystems[1].eigenvals()"
   ]
  },
  {
   "cell_type": "markdown",
   "id": "3671927a",
   "metadata": {
    "pycharm": {
     "name": "#%% md\n"
    }
   },
   "source": [
    "Hierarchical diagonalization allows us to increase variable-specific cutoffs without exploding the dimension of the joint Hilbert space."
   ]
  },
  {
   "cell_type": "code",
   "execution_count": null,
   "id": "7542d15b",
   "metadata": {
    "pycharm": {
     "name": "#%%\n"
    }
   },
   "outputs": [],
   "source": [
    "zero_pi.cutoff_n_1 = 10\n",
    "zero_pi.cutoff_ext_2 = 100\n",
    "zero_pi.cutoff_ext_3 = 50\n",
    "\n",
    "zero_pi.subsystems[1].eigenvals()"
   ]
  },
  {
   "cell_type": "markdown",
   "id": "753a09fe",
   "metadata": {
    "pycharm": {
     "name": "#%% md\n"
    }
   },
   "source": [
    "## External magn. flux, offset charges\n",
    "\n",
    "All external magnetic fluxes and offset charges can are set via attributes of the circuit class. A list of the corresponding attribute names is obtained via:"
   ]
  },
  {
   "cell_type": "code",
   "execution_count": null,
   "id": "c5660110",
   "metadata": {
    "pycharm": {
     "name": "#%%\n"
    }
   },
   "outputs": [],
   "source": [
    "zero_pi.external_fluxes"
   ]
  },
  {
   "cell_type": "code",
   "execution_count": null,
   "id": "71d352cb",
   "metadata": {
    "pycharm": {
     "name": "#%%\n"
    }
   },
   "outputs": [],
   "source": [
    "zero_pi.offset_charges"
   ]
  },
  {
   "cell_type": "markdown",
   "id": "e8105253",
   "metadata": {},
   "source": [
    "Fluxes and offset charges are changed simply by assigning values to the associated attributes:"
   ]
  },
  {
   "cell_type": "code",
   "execution_count": null,
   "id": "30baa319",
   "metadata": {
    "pycharm": {
     "name": "#%%\n"
    }
   },
   "outputs": [],
   "source": [
    "zero_pi.Φ1 = 0.5\n",
    "zero_pi.ng_1 = 0.6"
   ]
  },
  {
   "cell_type": "markdown",
   "id": "9c8fd14d",
   "metadata": {
    "pycharm": {
     "name": "#%% md\n"
    }
   },
   "source": [
    "## Visualization\n",
    "### Simple parameter sweeps\n",
    "Plotting the energy spectrum versus one of the circuit parameters works just as for other qubit classes. For example:"
   ]
  },
  {
   "cell_type": "code",
   "execution_count": null,
   "id": "8a6ecef5",
   "metadata": {
    "pycharm": {
     "name": "#%%\n"
    }
   },
   "outputs": [],
   "source": [
    "import numpy as np\n",
    "# zero_pi.plot_evals_vs_paramvals(\"Φ1\", np.linspace(0,1,21))"
   ]
  },
  {
   "cell_type": "markdown",
   "id": "08276e68",
   "metadata": {
    "pycharm": {
     "name": "#%% md\n"
    }
   },
   "source": [
    "\n",
    "### Plotting the potential\n",
    "Potential of the circuit can also be plotted using the method `plot_potential`. To see how the potential expression looks like, we can call the attribute `potential_symbolic`."
   ]
  },
  {
   "cell_type": "code",
   "execution_count": null,
   "id": "112b6a8e",
   "metadata": {
    "pycharm": {
     "name": "#%%\n"
    }
   },
   "outputs": [],
   "source": [
    "zero_pi.potential_symbolic"
   ]
  },
  {
   "cell_type": "markdown",
   "id": "f4691a4a",
   "metadata": {
    "pycharm": {
     "name": "#%% md\n"
    }
   },
   "source": [
    "There are three degrees of freedoms in this potential for which ranges need to be specified. The variables like external flux can also be specified, else they are fetched from the Circuit attributes. Do note that only a maximum of two ranges can be specified as we can only plot in 3D. The method returns a line plot when only one range is specified."
   ]
  },
  {
   "cell_type": "code",
   "execution_count": null,
   "id": "a1947717",
   "metadata": {
    "pycharm": {
     "name": "#%%\n"
    }
   },
   "outputs": [],
   "source": [
    "zero_pi.plot_potential(θ1=np.linspace(-6*np.pi, 6*np.pi), θ3=np.linspace(-12*np.pi, 12*np.pi), θ2 = 0)"
   ]
  },
  {
   "cell_type": "markdown",
   "id": "b7953ce2",
   "metadata": {
    "pycharm": {
     "name": "#%% md\n"
    }
   },
   "source": [
    "### Plotting the wavefunction\n",
    "`plot_wavefunction` method is used to plot the wavefunction. It takes two arguments, which specify the choice of the wavefunction to be plotted and the variable indices along which it needs to be plotted. Again, a maximum of two variable indices can be requested to make a plot."
   ]
  },
  {
   "cell_type": "code",
   "execution_count": null,
   "id": "805035c9",
   "metadata": {
    "pycharm": {
     "name": "#%%\n"
    }
   },
   "outputs": [],
   "source": [
    "zero_pi.plot_wavefunction(n=0, var_indices=(1,3))"
   ]
  },
  {
   "cell_type": "markdown",
   "id": "274eec17",
   "metadata": {
    "pycharm": {
     "name": "#%% md\n"
    }
   },
   "source": [
    "## Extra features\n",
    "\n",
    "- The variable transformation chosen by scqubits may not always match the user's preference. A preferred transformation can be specified via the `initiate_circuit` method. \n",
    "- Grouping of external flux variables with specific circuit branches is arbitrary in the case of time-independent flux. The user can provide the list of branches with which external fluxes are grouped. (Splitting flux between multiple branches is not supported.)\n",
    "\n",
    "In the case of zero-pi use of these options are illustrated as follows."
   ]
  },
  {
   "cell_type": "code",
   "execution_count": 79,
   "id": "732da669",
   "metadata": {
    "pycharm": {
     "name": "#%%\n"
    }
   },
   "outputs": [],
   "source": [
    "zero_pi = scq.Circuit.from_yaml(zp_yaml, from_file=False, ext_basis=\"harmonic\", basis_completion=\"simple\")"
   ]
  },
  {
   "cell_type": "code",
   "execution_count": 80,
   "id": "b0cd3a15",
   "metadata": {
    "pycharm": {
     "name": "#%%\n"
    }
   },
   "outputs": [
    {
     "data": {
      "text/latex": [
       "$\\displaystyle - EJ \\cos{\\left(1.0 θ_{1} - 1.0 θ_{3} \\right)} + 0.01 Q_{2}^{2} + 40.0 Q_{3}^{2} + 0.04 n_{1}^{2} + 0.08 n_{1} ng_{1} + 0.04 ng_{1}^{2} + 0.032 θ_{2}^{2} + 0.008 θ_{3}^{2} - 10.0 \\cos{\\left(- Φ_{1} + 1.0 θ_{1} + 1.0 θ_{3} \\right)}$"
      ],
      "text/plain": [
       "-EJ*cos(1.0*θ1 - 1.0*θ3) + 0.01*Q2**2 + 40.0*Q3**2 + 0.04*n1**2 + 0.08*n1*ng_1 + 0.04*ng_1**2 + 0.032*θ2**2 + 0.008*θ3**2 - 10.0*cos(-Φ1 + 1.0*θ1 + 1.0*θ3)"
      ]
     },
     "execution_count": 80,
     "metadata": {},
     "output_type": "execute_result"
    }
   ],
   "source": [
    "zero_pi.sym_hamiltonian()"
   ]
  },
  {
   "cell_type": "code",
   "execution_count": 81,
   "id": "32246cde",
   "metadata": {
    "pycharm": {
     "name": "#%%\n"
    }
   },
   "outputs": [
    {
     "data": {
      "text/plain": [
       "[Branch(JJ, 1, 2),\n",
       " Branch(JJ, 3, 4),\n",
       " Branch(L, 2, 3),\n",
       " Branch(L, 4, 1),\n",
       " Branch(C, 1, 3),\n",
       " Branch(C, 2, 4)]"
      ]
     },
     "execution_count": 81,
     "metadata": {},
     "output_type": "execute_result"
    }
   ],
   "source": [
    "zero_pi.branches"
   ]
  },
  {
   "cell_type": "code",
   "execution_count": 84,
   "id": "1aaf2cda",
   "metadata": {
    "pycharm": {
     "name": "#%%\n"
    }
   },
   "outputs": [],
   "source": [
    "closure_branches = [zero_pi.branches[3]]\n",
    "\n",
    "trans_mat = np.array([[ -1,  -1,  1,  1],\n",
    "                       [ 1,  1,  1,  1],\n",
    "                       [ 1,  -1, -1,  1],\n",
    "                       [ -1,  1,  -1,  1]])*0.5\n",
    "\n",
    "system_hierarchy = [[1,2],[3]]"
   ]
  },
  {
   "cell_type": "code",
   "execution_count": 85,
   "id": "e069f758",
   "metadata": {
    "pycharm": {
     "name": "#%%\n"
    }
   },
   "outputs": [],
   "source": [
    "zero_pi.initiate_circuit(transformation_matrix=trans_mat, \n",
    "                         system_hierarchy=system_hierarchy, \n",
    "                         subsystem_trunc_dims=[50, 100], \n",
    "                         closure_branches=closure_branches)"
   ]
  },
  {
   "cell_type": "code",
   "execution_count": null,
   "id": "c428819a",
   "metadata": {
    "pycharm": {
     "name": "#%%\n"
    }
   },
   "outputs": [],
   "source": [
    "zero_pi.sym_hamiltonian()"
   ]
  },
  {
   "cell_type": "code",
   "execution_count": 86,
   "id": "1cb4bcb4",
   "metadata": {
    "pycharm": {
     "name": "#%%\n"
    }
   },
   "outputs": [
    {
     "data": {
      "text/plain": [
       "array([0.        , 0.03577709, 0.07155418, 0.10733126, 0.14310835,\n",
       "       0.17888544])"
      ]
     },
     "execution_count": 86,
     "metadata": {},
     "output_type": "execute_result"
    }
   ],
   "source": [
    "zero_pi.Φ1 = 0.0\n",
    "zero_pi.ng_1 = 0.0\n",
    "\n",
    "zero_pi.cutoff_n_1 = 6\n",
    "zero_pi.cutoff_ext_2 = 80\n",
    "zero_pi.cutoff_ext_3 = 100\n",
    "eigs = zero_pi.eigenvals()\n",
    "eigs - eigs[0]"
   ]
  },
  {
   "cell_type": "markdown",
   "id": "fcb3a657",
   "metadata": {
    "pycharm": {
     "name": "#%% md\n"
    }
   },
   "source": [
    "## Tips: handling large circuits\n",
    "\n",
    "- The method `from_yaml` includes the optional argument `basis_completion` with options `\"simple\"` and `\"standard\"`. These represent the two methods in which the identity matrix is generated to complete the transformation matrix to transform the node variables to new variables $\\theta_i$. `\"standard\"` refers to an Identity, while `\"simple\"` refers to a matrix generated using itertools where each column has more than one non zero entries. Depending on the scenario, one of the above two options can result in a simpler Hamiltonian, resulting in a significant improvement in diagonalization time."
   ]
  },
  {
   "cell_type": "code",
   "execution_count": null,
   "id": "f5f8bbd3",
   "metadata": {},
   "outputs": [],
   "source": [
    "# TODO: need more tips "
   ]
  }
 ],
 "metadata": {
  "kernelspec": {
   "display_name": "Python 3 (ipykernel)",
   "language": "python",
   "name": "python3"
  },
  "language_info": {
   "codemirror_mode": {
    "name": "ipython",
    "version": 3
   },
   "file_extension": ".py",
   "mimetype": "text/x-python",
   "name": "python",
   "nbconvert_exporter": "python",
   "pygments_lexer": "ipython3",
   "version": "3.8.10"
  }
 },
 "nbformat": 4,
 "nbformat_minor": 5
}
