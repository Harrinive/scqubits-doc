{
 "cells": [
  {
   "cell_type": "markdown",
   "id": "a1533a21-0277-472a-af2e-b40a2e9e0c39",
   "metadata": {
    "pycharm": {
     "name": "#%% md\n"
    }
   },
   "source": [
    "# Custom Circuits\n",
    "The `Circuit` class provides functionality for the symbolic and numerical analysis of custom circuits.\n",
    "\n",
    "For a custom circuit, the code **identifies the periodic and extended degrees of freedom, and eliminates the free and frozen modes**. With this, the **symbolic expression of the Hamiltonian** is generated in terms of an appropriate choice of variables.\n",
    "\n",
    "The `Circuit` class also performs the **numerical diagonalization of the circuit Hamiltonian. Hierarchical diagonalization can be enabled for better runtime/memory perfomance.**"
   ]
  },
  {
   "cell_type": "markdown",
   "id": "470b2969",
   "metadata": {
    "pycharm": {
     "name": "#%% md\n"
    }
   },
   "source": [
    "## Defining a custom circuit\n",
    "The `Circuit` class supports all superconducting circuits consisting of **capacitances**, **inductances**, and **Josephson junctions**."
   ]
  },
  {
   "cell_type": "markdown",
   "id": "4b930329",
   "metadata": {
    "pycharm": {
     "name": "#%% md\n"
    }
   },
   "source": [
    "<div class=\"alert alert-info\">\n",
    "    \n",
    "Custom circuit definition\n",
    "    \n",
    "A custom circuit is specified in graph format: it is composed of nodes and branches. To get started, label all circuit nodes with integer numbers n=1,2,3,... Every branch connecting two nodes corresponds to a circuit element.\n",
    "    \n",
    "For each branch:\n",
    "   \n",
    "- specify branch type: `JJ`, `L`, `C` for Josephson junction, inductance, and capacitance\n",
    "- give the labels of the two nodes connected by the branch\n",
    "- provide circuit-element parameters (EJ and ECJ, EL, and EC, respectively)\n",
    "</div>\n",
    "\n",
    "\n",
    "As a concrete and familiar example, consider the circuit of the zero-pi qubit (nodes already labeled):\n",
    "   \n",
    "![zeropi](./zeropi-circ.jpg)\n",
    "\n",
    "   \n",
    "The graph of any custom circuit is stored in simple YAML format using the syntax illustrated here:"
   ]
  },
  {
   "cell_type": "code",
   "execution_count": 1,
   "id": "480aba4d",
   "metadata": {
    "pycharm": {
     "name": "#%%\n"
    },
    "tags": []
   },
   "outputs": [],
   "source": [
    "zp_yaml = \"\"\"# zero-pi\n",
    "branches:\n",
    "- [\"JJ\", 1,2, EJ = 10, 20]\n",
    "- [\"JJ\", 3,4, EJ, 20]\n",
    "- [\"L\", 2,3, 0.008]\n",
    "- [\"L\", 4,1, 0.008]\n",
    "- [\"C\", 1,3, 0.02]\n",
    "- [\"C\", 2,4, 0.02]\n",
    "\"\"\""
   ]
  },
  {
   "cell_type": "markdown",
   "id": "744085e7-bb67-4670-b5e8-6505e6b5dcd3",
   "metadata": {
    "pycharm": {
     "name": "#%% md\n"
    }
   },
   "source": [
    "Alternatively, circuit specifications can be stored and loaded as `yaml` files, following the same syntax. The graph serves as input to create an instance of the `Circuit` class. \n",
    "\n",
    "\n",
    "### More on syntax for entering custom circuits\n",
    "\n",
    "The example above illustrates most of the syntax rules to be followed. Each branch is represented by \n",
    "\n",
    "```\"<branch-type>\", <node_1>, <node_2>, <param-1> [, <param-2>]```\n",
    "\n",
    "**Branch types and parameters:**\n",
    "\n",
    "- `C`:  branch parameter is the charging energy $E_C = \\frac{e^2}{2C}$\n",
    "- `L`:  branch parameter is the inductive energy $E_L = \\frac{\\Phi_0^2}{(2\\pi)^2 L}$\n",
    "- `JJ`: branch parameters are the Josephson energy $E_J$ and junction charging energy $E_{CJ}$\n",
    "\n",
    "*Example:* `\"C\", 1, 3, 0.02` is a capacitance connecting nodes 1 and node 3, with charging energy 0.02 GHz.\n",
    "\n",
    "**Symbolic vs. numerical branch parameters:**\n",
    "\n",
    "- Branch parameters can be provided as float values, using the energy units set globally (default: GHz)\n",
    "- A symbol name can be specified along with a default value (e.g., `EJ = 10`). Note that the same symbol can be used to set any other branch parameters in the description. For instance, in the YAML description `zp_yaml` the parameter $EJ$ sets the junction energies for the junctions connecting nodes $(1, 2)$ and $(3, 4).$\n",
    "- Symbolic output will generally maintain symbolic parameter names. However, for charging energies of systems with more than four nodes, numerical values are the default, since capacitance-matrix inversion makes expressions lengthy.\n",
    "\n",
    "    \n",
    "**Ground node:**\n",
    "\n",
    "- The user can choose whether to include an explicit ground node. This ground node must then be labeled with `0`, and serves as a reference node whose flux is always $\\phi_0 = 0$."
   ]
  },
  {
   "cell_type": "markdown",
   "id": "03507a0d-627c-494e-940f-b0e7077aa01b",
   "metadata": {
    "pycharm": {
     "name": "#%% md\n"
    }
   },
   "source": [
    "## Creating a `Circuit` object\n",
    "Using the above string defining the zero-pi qubit, we can easily create a `Circuit` object:"
   ]
  },
  {
   "cell_type": "code",
   "execution_count": 2,
   "id": "e47f75b9",
   "metadata": {
    "pycharm": {
     "name": "#%%\n"
    },
    "tags": []
   },
   "outputs": [],
   "source": [
    "import scqubits as scq\n",
    "import numpy as np\n",
    "zero_pi = scq.Circuit(zp_yaml, from_file=False, ext_basis=\"discretized\")"
   ]
  },
  {
   "cell_type": "markdown",
   "id": "31ceeaad",
   "metadata": {
    "collapsed": false,
    "pycharm": {
     "name": "#%% md\n"
    }
   },
   "source": [
    "Here, `ext_basis` can be set to `\"discretized\"` or `\"harmonic\"`. This chooses the type of basis for the extended degrees of freedom. \"discretized\" employs \"spatial\" discretization; meanwhile, \"harmonic\" prompts a decomposition in a suitable harmonic-oscillator basis.\n",
    "\n",
    "\n",
    "The creation of a `Circuit` object automatically runs methods for circuit analysis, quantization, and construction of the circuit Hamiltonian matrix. For instance, we can directly access the **symbolic expression of the circuit Hamiltonian**:"
   ]
  },
  {
   "cell_type": "code",
   "execution_count": 43,
   "id": "328440b5",
   "metadata": {
    "collapsed": false,
    "pycharm": {
     "name": "#%%\n"
    }
   },
   "outputs": [
    {
     "data": {
      "image/png": "[encoded data removed]",
      "text/latex": [
       "$\\displaystyle \\left(40.0 Q_{3}^{2} + 0.01 Q_{2}^{2} + 0.04 n_{1}^{2} + 0.04 n_{g1}^{2} + 0.0799 n_{1} n_{g1}\\right) - \\left(- 0.008 θ_{3}^{2} - 0.032 θ_{2}^{2} + EJ \\cos{\\left(θ_{1} - 1.0 θ_{3} \\right)} + EJ \\cos{\\left(θ_{1} + θ_{3} - (2πΦ_{1}) \\right)}\\right)$"
      ],
      "text/plain": [
       "       2          2          2            2                            2      \n",
       "40.0⋅Q₃  + 0.01⋅Q₂  + 0.04⋅n₁  + 0.04⋅n_g1  + 0.0799⋅n₁⋅n_g1 + 0.008⋅θ₃  + 0.0\n",
       "\n",
       "     2                                                \n",
       "32⋅θ₂  - EJ⋅cos(θ₁ - θ₃) - EJ⋅cos(θ₁ + θ₃ - (2πΦ_{1}))"
      ]
     },
     "execution_count": 43,
     "metadata": {},
     "output_type": "execute_result"
    }
   ],
   "source": [
    "zero_pi.sym_hamiltonian(float_round=4)"
   ]
  },
  {
   "cell_type": "markdown",
   "id": "5f133c66",
   "metadata": {
    "collapsed": false,
    "pycharm": {
     "name": "#%% md\n"
    }
   },
   "source": [
    "All generalized coordinates are denoted by $\\theta_i$; the conjugate charges are given by $Q_i$ for extended degrees of freedom, and by $n_i$ for periodic degrees of freedom. Offset charges are denoted by $n_{gi}$ and external fluxes are denoted by $\\Phi_i$. A detailed description of external fluxes and offset charges is offered below in [External magnetic flux, offset charges](./custom_circuit.ipynb#External-magnetic-flux,-offset-charges).\n",
    "\n",
    "\n",
    "Notice that the coordinates chosen here generally differ from the node variables. In their construction, periodic and extended \n",
    "degrees of freedom are identified and separated. Furthermore, variable elimination is implemented for free and \n",
    "frozen degrees of freedom (if applicable).\n",
    "   \n",
    "\n",
    "The **symbolic Lagrangian in terms of node variables** can be accessed via "
   ]
  },
  {
   "cell_type": "code",
   "execution_count": 44,
   "id": "d47ed7a5",
   "metadata": {
    "collapsed": false,
    "pycharm": {
     "name": "#%%\n"
    }
   },
   "outputs": [
    {
     "data": {
      "image/png": "[encoded data removed]",
      "text/latex": [
       "$\\displaystyle \\left(0.5 \\dot{φ_1} \\cdot \\left(6.25625 \\dot{φ_1} - 6.25 \\dot{φ_3} - 0.00625 \\dot{φ_2}\\right) + 0.5 \\dot{φ_2} \\left(6.25625 \\dot{φ_2} - 6.25 \\dot{φ_4} - 0.00625 \\dot{φ_1}\\right) + 0.5 \\dot{φ_3} \\left(6.25625 \\dot{φ_3} - 6.25 \\dot{φ_1} - 0.00625 \\dot{φ_4}\\right) + 0.5 \\dot{φ_4} \\left(6.25625 \\dot{φ_4} - 6.25 \\dot{φ_2} - 0.00625 \\dot{φ_3}\\right)\\right) + \\left(- 0.004 \\left(φ_{1} - φ_{4}\\right)^{2} - 0.004 \\left(φ_{3} - φ_{2}\\right)^{2} + EJ \\cos{\\left(φ_{1} - φ_{2} \\right)} + EJ \\cos{\\left((2πΦ_{1}) + φ_{4} - φ_{3} \\right)}\\right)$"
      ],
      "text/plain": [
       "                                                                              \n",
       "0.5⋅\\dot{φ_1}⋅(6.25625⋅\\dot{φ_1} - 6.25⋅\\dot{φ_3} - 0.00625⋅\\dot{φ_2}) + 0.5⋅\\\n",
       "\n",
       "                                                                              \n",
       "dot{φ_2}⋅(6.25625⋅\\dot{φ_2} - 6.25⋅\\dot{φ_4} - 0.00625⋅\\dot{φ_1}) + 0.5⋅\\dot{φ\n",
       "\n",
       "                                                                              \n",
       "_3}⋅(6.25625⋅\\dot{φ_3} - 6.25⋅\\dot{φ_1} - 0.00625⋅\\dot{φ_4}) + 0.5⋅\\dot{φ_4}⋅(\n",
       "\n",
       "                                                                           2  \n",
       "6.25625⋅\\dot{φ_4} - 6.25⋅\\dot{φ_2} - 0.00625⋅\\dot{φ_3}) + - 0.004⋅(φ₁ - φ₄)  -\n",
       "\n",
       "                2                                                \n",
       " 0.004⋅(φ₃ - φ₂)  + EJ⋅cos(φ₁ - φ₂) + EJ⋅cos((2πΦ_{1}) + φ₄ - φ₃)"
      ]
     },
     "execution_count": 44,
     "metadata": {},
     "output_type": "execute_result"
    }
   ],
   "source": [
    "zero_pi.sym_lagrangian(vars_type=\"node\")"
   ]
  },
  {
   "cell_type": "markdown",
   "id": "b4ad27fe",
   "metadata": {
    "collapsed": false,
    "pycharm": {
     "name": "#%% md\n"
    }
   },
   "source": [
    "The equivalent expression of the **Lagrangian in terms of the transformed variables** used in `sym_hamiltonian` is:"
   ]
  },
  {
   "cell_type": "code",
   "execution_count": 45,
   "id": "a9394069",
   "metadata": {
    "collapsed": false,
    "pycharm": {
     "name": "#%%\n"
    }
   },
   "outputs": [
    {
     "data": {
      "image/png": "[encoded data removed]",
      "text/latex": [
       "$\\displaystyle \\left(25.0 \\dot{θ_2}^{2} + 0.00625 \\dot{θ_3}^{2} + 6.25625 \\dot{θ_1}^{2}\\right) + \\left(- 0.008 θ_{3}^{2} - 0.032 θ_{2}^{2} + EJ \\cos{\\left(θ_{1} - 1.0 θ_{3} \\right)} + EJ \\cos{\\left(θ_{1} + θ_{3} - (2πΦ_{1}) \\right)}\\right)$"
      ],
      "text/plain": [
       "              2                    2                    2             2       \n",
       "25.0⋅\\dot{θ_2}  + 0.00625⋅\\dot{θ_3}  + 6.25625⋅\\dot{θ_1}  + - 0.008⋅θ₃  - 0.03\n",
       "\n",
       "    2                                                \n",
       "2⋅θ₂  + EJ⋅cos(θ₁ - θ₃) + EJ⋅cos(θ₁ + θ₃ - (2πΦ_{1}))"
      ]
     },
     "execution_count": 45,
     "metadata": {},
     "output_type": "execute_result"
    }
   ],
   "source": [
    "zero_pi.sym_lagrangian(vars_type=\"new\")"
   ]
  },
  {
   "cell_type": "markdown",
   "id": "2cdda7bb",
   "metadata": {
    "collapsed": false,
    "pycharm": {
     "name": "#%% md\n"
    }
   },
   "source": [
    "The classification of the different variables is recorded in `var_categories`:"
   ]
  },
  {
   "cell_type": "code",
   "execution_count": 46,
   "id": "b5744e4f",
   "metadata": {
    "collapsed": false,
    "pycharm": {
     "name": "#%%\n"
    }
   },
   "outputs": [
    {
     "data": {
      "text/plain": [
       "{'periodic': [1], 'extended': [2, 3], 'free': [], 'frozen': []}"
      ]
     },
     "execution_count": 46,
     "metadata": {},
     "output_type": "execute_result"
    }
   ],
   "source": [
    "zero_pi.var_categories"
   ]
  },
  {
   "cell_type": "markdown",
   "id": "40e28109",
   "metadata": {
    "collapsed": false,
    "pycharm": {
     "name": "#%% md\n"
    }
   },
   "source": [
    "The transformation matrix which maps the new variables ($\\theta_i$) to the node variables ($\\varphi_i$) can be inspected through `transformation_matrix`."
   ]
  },
  {
   "cell_type": "code",
   "execution_count": 47,
   "id": "2305915c",
   "metadata": {
    "collapsed": false,
    "pycharm": {
     "name": "#%%\n"
    }
   },
   "outputs": [
    {
     "data": {
      "text/plain": [
       "array([[ 0., -1.,  1.,  1.],\n",
       "       [ 1., -1.,  0.,  1.],\n",
       "       [ 1.,  1.,  1.,  1.],\n",
       "       [ 0.,  1.,  0.,  1.]])"
      ]
     },
     "execution_count": 47,
     "metadata": {},
     "output_type": "execute_result"
    }
   ],
   "source": [
    "zero_pi.transformation_matrix"
   ]
  },
  {
   "cell_type": "markdown",
   "id": "621f786f",
   "metadata": {
    "collapsed": false,
    "pycharm": {
     "name": "#%% md\n"
    }
   },
   "source": [
    "Alternatively, these mappings can be represented as equations via"
   ]
  },
  {
   "cell_type": "code",
   "execution_count": 48,
   "id": "150de6fd",
   "metadata": {
    "collapsed": false,
    "pycharm": {
     "name": "#%%\n"
    }
   },
   "outputs": [
    {
     "data": {
      "image/png": "[encoded data removed]",
      "text/latex": [
       "$\\displaystyle \\left[ φ_{1} = 1.0 θ_{3} + 1.0 θ_{4} - 1.0 θ_{2}, \\  φ_{2} = 1.0 θ_{1} + 1.0 θ_{4} - 1.0 θ_{2}, \\  φ_{3} = 1.0 θ_{1} + 1.0 θ_{2} + 1.0 θ_{3} + 1.0 θ_{4}, \\  φ_{4} = 1.0 θ_{2} + 1.0 θ_{4}\\right]$"
      ],
      "text/plain": [
       "[φ₁ = 1.0⋅θ₃ + 1.0⋅θ₄ - θ₂, φ₂ = 1.0⋅θ₁ + 1.0⋅θ₄ - θ₂, φ₃ = 1.0⋅θ₁ + 1.0⋅θ₂ + \n",
       "1.0⋅θ₃ + 1.0⋅θ₄, φ₄ = 1.0⋅θ₂ + 1.0⋅θ₄]"
      ]
     },
     "execution_count": 48,
     "metadata": {},
     "output_type": "execute_result"
    }
   ],
   "source": [
    "zero_pi.variable_transformation()"
   ]
  },
  {
   "cell_type": "markdown",
   "id": "f0ede821",
   "metadata": {
    "collapsed": false,
    "pycharm": {
     "name": "#%% md\n"
    }
   },
   "source": [
    "Each variable index comes with a **cutoff for basis truncation**. A list of the attribute names for these cutoffs can be accessed using:"
   ]
  },
  {
   "cell_type": "code",
   "execution_count": 49,
   "id": "5de4829f",
   "metadata": {
    "collapsed": false,
    "pycharm": {
     "name": "#%%\n"
    }
   },
   "outputs": [
    {
     "data": {
      "text/plain": [
       "['cutoff_n_1', 'cutoff_ext_2', 'cutoff_ext_3']"
      ]
     },
     "execution_count": 49,
     "metadata": {},
     "output_type": "execute_result"
    }
   ],
   "source": [
    "zero_pi.cutoff_names"
   ]
  },
  {
   "cell_type": "markdown",
   "id": "470b85f0",
   "metadata": {
    "collapsed": false,
    "pycharm": {
     "name": "#%% md\n"
    }
   },
   "source": [
    "We must next set these cutoffs to suitable values. These attributes represents:\n",
    "\n",
    "- `cutoff_n_<i>` - use all the integer charge states in the range `[-cutoff_n_<i>, cutoff_n_<i>]` for the periodic degree of freedom $i$.\n",
    "- `cutoff_ext_<i>` - depends on what is set for `ext_basis`. When `ext_basis` is set to\n",
    "    - `\"discretized\"`: sets the number of points used to discretize the \"spatial\" range given by the attribute `discretized_phi_range` for the extended degree of freedom $i$.\n",
    "    - `\"extended\"`: sets the number of harmonic oscillator states used as the basis set for the extended degree of freedom $i$."
   ]
  },
  {
   "cell_type": "code",
   "execution_count": 50,
   "id": "2ea7a0fa",
   "metadata": {
    "collapsed": false,
    "pycharm": {
     "name": "#%%\n"
    }
   },
   "outputs": [],
   "source": [
    "zero_pi.cutoff_n_1 = 5\n",
    "zero_pi.cutoff_ext_2 = 10\n",
    "zero_pi.cutoff_ext_3 = 10"
   ]
  },
  {
   "cell_type": "markdown",
   "id": "daaf5b19",
   "metadata": {
    "collapsed": false,
    "pycharm": {
     "name": "#%% md\n"
    }
   },
   "source": [
    "All the discretized variable ranges can be viewed as:"
   ]
  },
  {
   "cell_type": "code",
   "execution_count": 51,
   "id": "20e9d29a",
   "metadata": {
    "collapsed": false,
    "pycharm": {
     "name": "#%%\n"
    }
   },
   "outputs": [
    {
     "data": {
      "image/png": "[encoded data removed]",
      "text/latex": [
       "$\\displaystyle \\left\\{ 2 : \\left( -18.8495559215388, \\  18.8495559215388\\right), \\  3 : \\left( -18.8495559215388, \\  18.8495559215388\\right)\\right\\}$"
      ],
      "text/plain": [
       "{2: (-18.84955592153876, 18.84955592153876), 3: (-18.84955592153876, 18.849555\n",
       "92153876)}"
      ]
     },
     "execution_count": 51,
     "metadata": {},
     "output_type": "execute_result"
    }
   ],
   "source": [
    "zero_pi.discretized_phi_range"
   ]
  },
  {
   "cell_type": "markdown",
   "id": "52405a87",
   "metadata": {
    "collapsed": false,
    "pycharm": {
     "name": "#%% md\n"
    }
   },
   "source": [
    "These are the default range settings $[-6\\pi, 6\\pi]$; discretized variable ranges can be changed with "
   ]
  },
  {
   "cell_type": "code",
   "execution_count": 52,
   "id": "7be6ebb6",
   "metadata": {
    "collapsed": false,
    "pycharm": {
     "name": "#%%\n"
    }
   },
   "outputs": [],
   "source": [
    "zero_pi.set_discretized_phi_range(var_indices=(2,3), phi_range=(-6*np.pi, 6*np.pi))"
   ]
  },
  {
   "cell_type": "markdown",
   "id": "671f46a5",
   "metadata": {
    "collapsed": false,
    "pycharm": {
     "name": "#%% md\n"
    }
   },
   "source": [
    "Now, we can call `eigenvals()` to obtain **low-lying eigenenergies of the circuit Hamiltonian**: "
   ]
  },
  {
   "cell_type": "code",
   "execution_count": 53,
   "id": "1eacc9bc",
   "metadata": {
    "collapsed": false,
    "pycharm": {
     "name": "#%%\n"
    }
   },
   "outputs": [
    {
     "data": {
      "text/plain": [
       "array([-13.25816395, -13.25645441, -13.24363991, -13.24193037,\n",
       "       -12.134373  , -12.13436007])"
      ]
     },
     "execution_count": 53,
     "metadata": {},
     "output_type": "execute_result"
    }
   ],
   "source": [
    "zero_pi.eigenvals()"
   ]
  },
  {
   "cell_type": "markdown",
   "id": "7341a800",
   "metadata": {
    "collapsed": false,
    "pycharm": {
     "name": "#%% md\n"
    }
   },
   "source": [
    "Increasing the above cutoff values reveals that these eigenvalues have not converged yet. Increasing cutoff values increases the Hilbert space dimension and, thus, increases memory requirements and runtime. A strategy that can help mitigate this problem is the use of hierarchical diagonalization.\n",
    "\n",
    "## Hierarchical diagonalization\n",
    "\n",
    "For a large circuit with many degrees of freedoms, a possibly efficient way of obtaining low-lying eigenenergies and eigenstates is to partition the system into several subsystems, and to use the low-lying energy eigenstates of each subsystems as basis states to diagonalize the full system Hamiltonian. The schematic diagram below illustrates how hierarchical diagonalization is performed:\n",
    "\n",
    "![HD](./custom_circuit_HD.svg)\n",
    "\n",
    "For the example of the zero-pi qubit, the expression from `sym_hamiltonian` shows that $\\theta_2$ corresponds to the harmonic zeta mode of the zero-pi qubit. The remaining variables $\\theta_1$ and $\\theta_3$ form the primary qubit degrees of freedom and may be considered a \"separate\", weakly coupled subsystem. \n",
    "\n",
    "This idea of a **subsystem hierarchy is made explicit by grouping circuit variable indices in a nested list**:"
   ]
  },
  {
   "cell_type": "code",
   "execution_count": 54,
   "id": "54b5878b",
   "metadata": {
    "collapsed": false,
    "pycharm": {
     "name": "#%%\n"
    }
   },
   "outputs": [],
   "source": [
    "system_hierarchy = [[1,3], [2]]"
   ]
  },
  {
   "cell_type": "markdown",
   "id": "51a06fba",
   "metadata": {
    "collapsed": false,
    "pycharm": {
     "name": "#%% md\n"
    }
   },
   "source": [
    "This nested list groups variables $1$ and $3$ into one subsystem, and makes variable $2$ a separate subsystem. \n",
    "\n",
    "List nesting extends to multiple layers, so that more complex hierarchies can be captured.  \n",
    "For example, a zero-pi qubit coupled to an oscillator (variable $4$) could be associated with the hierarchy `[[[1,3], [2]], [4]]`.\n",
    "\n",
    "For convenience, a default list of truncated Hilbert space dimensions is generated by `truncation_template`:"
   ]
  },
  {
   "cell_type": "code",
   "execution_count": 55,
   "id": "961ed016",
   "metadata": {
    "collapsed": false,
    "pycharm": {
     "name": "#%%\n"
    }
   },
   "outputs": [
    {
     "data": {
      "image/png": "[encoded data removed]",
      "text/latex": [
       "$\\displaystyle \\left[ 6, \\  6\\right]$"
      ],
      "text/plain": [
       "[6, 6]"
      ]
     },
     "execution_count": 55,
     "metadata": {},
     "output_type": "execute_result"
    }
   ],
   "source": [
    "scq.truncation_template(system_hierarchy)"
   ]
  },
  {
   "cell_type": "markdown",
   "id": "4c62db36",
   "metadata": {
    "collapsed": false,
    "pycharm": {
     "name": "#%% md\n"
    }
   },
   "source": [
    "This template obtained this way is meant to provide a list of the right shape. The entries specifying the truncation levels should, of course, be adjusted. \n",
    "\n",
    "**To enable hierarchical diagonalization, the system hierarchy and truncation scheme info are handed over to** `configure`:"
   ]
  },
  {
   "cell_type": "code",
   "execution_count": 56,
   "id": "6a14afc0",
   "metadata": {
    "collapsed": false,
    "pycharm": {
     "name": "#%%\n"
    }
   },
   "outputs": [],
   "source": [
    "zero_pi.cutoff_n_1 = 15\n",
    "zero_pi.cutoff_ext_2 = 50\n",
    "zero_pi.cutoff_ext_3 = 100\n",
    "zero_pi.configure(system_hierarchy=system_hierarchy, subsystem_trunc_dims=[150, 30])"
   ]
  },
  {
   "cell_type": "markdown",
   "id": "31d5792c",
   "metadata": {
    "collapsed": false,
    "pycharm": {
     "name": "#%% md\n"
    }
   },
   "source": [
    "Once the hierarchy is set, subsystem Hamiltonians can be viewed via"
   ]
  },
  {
   "cell_type": "code",
   "execution_count": 57,
   "id": "5dce6168",
   "metadata": {
    "collapsed": false,
    "pycharm": {
     "name": "#%%\n"
    }
   },
   "outputs": [
    {
     "data": {
      "image/png": "[encoded data removed]",
      "text/latex": [
       "$\\displaystyle \\left(40.0 Q_{3}^{2} + 0.04 n_{1}^{2} + 0.0799 n_{1} n_{g1}\\right) - \\left(- 0.008 θ_{3}^{2} + EJ \\cos{\\left(θ_{1} - 1.0 θ_{3} \\right)} + EJ \\cos{\\left(θ_{1} + θ_{3} - 1.0 (2πΦ_{1}) \\right)}\\right)$"
      ],
      "text/plain": [
       "       2          2                            2                              \n",
       "40.0⋅Q₃  + 0.04⋅n₁  + 0.0799⋅n₁⋅n_g1 + 0.008⋅θ₃  - EJ⋅cos(θ₁ - θ₃) - EJ⋅cos(θ₁\n",
       "\n",
       "                  \n",
       " + θ₃ - (2πΦ_{1}))"
      ]
     },
     "execution_count": 57,
     "metadata": {},
     "output_type": "execute_result"
    }
   ],
   "source": [
    "zero_pi.sym_hamiltonian(subsystem_index=0, float_round=4)  # show Hamiltonian for subsystem 0"
   ]
  },
  {
   "cell_type": "markdown",
   "id": "094fa357",
   "metadata": {
    "collapsed": false,
    "pycharm": {
     "name": "#%% md\n"
    }
   },
   "source": [
    "Hamiltonian terms describing the coupling between two subsystems are displayed via"
   ]
  },
  {
   "cell_type": "code",
   "execution_count": 58,
   "id": "fc79b905",
   "metadata": {
    "collapsed": false,
    "pycharm": {
     "name": "#%%\n"
    }
   },
   "outputs": [
    {
     "data": {
      "image/png": "[encoded data removed]",
      "text/latex": [
       "$\\displaystyle 0$"
      ],
      "text/plain": [
       "0"
      ]
     },
     "execution_count": 58,
     "metadata": {},
     "output_type": "execute_result"
    }
   ],
   "source": [
    "zero_pi.sym_interaction((0,1))  # show coupling terms between subsystems 0 and 1"
   ]
  },
  {
   "cell_type": "markdown",
   "id": "6e25c8b0",
   "metadata": {
    "collapsed": false,
    "pycharm": {
     "name": "#%% md\n"
    }
   },
   "source": [
    "(For the symmetric zero-pi qubit, the zeta mode and the primary qubit degrees of freedom decouple.)\n",
    "\n",
    "Each subsystem has access to circuit methods, like `eigenvals`. Here are the eigenenergies for the zeta mode:"
   ]
  },
  {
   "cell_type": "code",
   "execution_count": 59,
   "id": "76f9110a",
   "metadata": {
    "collapsed": false,
    "pycharm": {
     "name": "#%%\n"
    }
   },
   "outputs": [
    {
     "data": {
      "text/plain": [
       "array([-3.69168558, -3.69074173, -2.89788343, -2.89687692, -2.7780433 ,\n",
       "       -2.76968065])"
      ]
     },
     "execution_count": 59,
     "metadata": {},
     "output_type": "execute_result"
    }
   ],
   "source": [
    "zero_pi.subsystems[0].eigenvals()"
   ]
  },
  {
   "cell_type": "markdown",
   "id": "f8f4035d",
   "metadata": {
    "collapsed": false,
    "pycharm": {
     "name": "#%% md\n"
    }
   },
   "source": [
    "Hierarchical diagonalization allows us to increase variable-specific cutoffs without exploding the dimension of the joint Hilbert space."
   ]
  },
  {
   "cell_type": "code",
   "execution_count": 60,
   "id": "0e23084e",
   "metadata": {
    "collapsed": false,
    "pycharm": {
     "name": "#%%\n"
    }
   },
   "outputs": [
    {
     "data": {
      "text/plain": [
       "array([-3.67391281, -3.67296897, -3.63965049, -3.63870665, -3.60404645,\n",
       "       -3.60310261])"
      ]
     },
     "execution_count": 60,
     "metadata": {},
     "output_type": "execute_result"
    }
   ],
   "source": [
    "zero_pi.eigenvals()"
   ]
  },
  {
   "cell_type": "markdown",
   "id": "d29443a4",
   "metadata": {
    "collapsed": false,
    "pycharm": {
     "name": "#%% md\n"
    }
   },
   "source": [
    "## External magnetic flux, offset charges\n",
    "\n",
    "All external magnetic fluxes and offset charges are set to zero by default. They are modified by assigning the desired values to the attributes of the class instance.\n",
    "\n",
    "Each offset charge $n_{gi}$ is associated with a variable $\\theta_i$. Only periodic variables have offset charges relevant to the physics. For extended variables, offset charges (as long as time-independent) can always be eliminated from the Hamiltonian by suitable gauge transformations. A list of adjustable offset charge-parameters and their relation to the node offset charges $\\{q_{g\\mu}\\}$ is provided by:"
   ]
  },
  {
   "cell_type": "code",
   "execution_count": 4,
   "id": "83750b53",
   "metadata": {
    "collapsed": false,
    "pycharm": {
     "name": "#%%\n"
    }
   },
   "outputs": [
    {
     "data": {
      "image/png": "[encoded data removed]",
      "text/latex": [
       "$\\displaystyle \\left[ n_{g1} = 1.0 q_{g3} + 1.0 q_{g4} - 1.0 q_{g2}\\right]$"
      ],
      "text/plain": [
       "[n_g1 = 1.0⋅q_g3 + 1.0⋅q_g4 - q_g2]"
      ]
     },
     "execution_count": 4,
     "metadata": {},
     "output_type": "execute_result"
    }
   ],
   "source": [
    "zero_pi.offset_charge_transformation()"
   ]
  },
  {
   "cell_type": "markdown",
   "id": "3d975000",
   "metadata": {
    "collapsed": false,
    "pycharm": {
     "name": "#%% md\n"
    }
   },
   "source": [
    "Each external flux $\\Phi_i$ is associated with a branch in a closed loop of circuit. All the external fluxes, along with their associated closure branches and loop (provided as a list of branches), can be accessed via:"
   ]
  },
  {
   "cell_type": "code",
   "execution_count": 3,
   "id": "8f409b84",
   "metadata": {
    "collapsed": false,
    "pycharm": {
     "name": "#%%\n"
    }
   },
   "outputs": [
    {
     "data": {
      "text/plain": [
       "{Φ1: (Branch(JJ, 3, 4, id_str: 1),\n",
       "  [Branch(JJ, 1, 2, id_str: 0),\n",
       "   Branch(L, 2, 3, id_str: 2),\n",
       "   Branch(L, 4, 1, id_str: 3),\n",
       "   Branch(JJ, 3, 4, id_str: 1)])}"
      ]
     },
     "execution_count": 3,
     "metadata": {},
     "output_type": "execute_result"
    }
   ],
   "source": [
    "zero_pi.sym_external_fluxes()"
   ]
  },
  {
   "cell_type": "markdown",
   "id": "79e3bd36",
   "metadata": {
    "collapsed": false,
    "pycharm": {
     "name": "#%% md\n"
    }
   },
   "source": [
    "External fluxes (in unit of $2\\pi$) and offset charges can be adjusted by simply:"
   ]
  },
  {
   "cell_type": "code",
   "execution_count": 63,
   "id": "cd2d1ff2",
   "metadata": {
    "collapsed": false,
    "pycharm": {
     "name": "#%%\n"
    }
   },
   "outputs": [],
   "source": [
    "zero_pi.Φ1 = 0.5\n",
    "zero_pi.ng1 = 0.6"
   ]
  },
  {
   "cell_type": "markdown",
   "id": "db8df111",
   "metadata": {
    "collapsed": false,
    "pycharm": {
     "name": "#%% md\n"
    }
   },
   "source": [
    "## Visualization\n",
    "### Simple parameter sweeps\n",
    "Plotting the energy spectrum with varying one of the circuit parameters works just as for other qubit classes. For example:"
   ]
  },
  {
   "cell_type": "code",
   "execution_count": 64,
   "id": "a2f03080",
   "metadata": {
    "collapsed": false,
    "pycharm": {
     "name": "#%%\n"
    }
   },
   "outputs": [
    {
     "data": {
      "application/vnd.jupyter.widget-view+json": {
       "model_id": "c6f6336dbd354df6ac29716a287a2488",
       "version_major": 2,
       "version_minor": 0
      },
      "text/plain": [
       "Spectral data:   0%|          | 0/21 [00:00<?, ?it/s]"
      ]
     },
     "metadata": {},
     "output_type": "display_data"
    },
    {
     "data": {
      "image/png": "[encoded data removed]",
      "text/plain": [
       "<Figure size 432x288 with 1 Axes>"
      ]
     },
     "metadata": {
      "needs_background": "light"
     },
     "output_type": "display_data"
    }
   ],
   "source": [
    "import numpy as np\n",
    "sweep_fig, sweep_ax = zero_pi.plot_evals_vs_paramvals(\"Φ1\", np.linspace(0,1,21))"
   ]
  },
  {
   "cell_type": "markdown",
   "id": "6c317ddb",
   "metadata": {
    "collapsed": false,
    "pycharm": {
     "name": "#%% md\n"
    }
   },
   "source": [
    "### Potential: symbolic expression and visualization\n",
    "The expression of the potential is obtained from `sym_potential`:"
   ]
  },
  {
   "cell_type": "code",
   "execution_count": 5,
   "id": "1a9926e8",
   "metadata": {
    "collapsed": false,
    "pycharm": {
     "name": "#%%\n"
    }
   },
   "outputs": [
    {
     "data": {
      "image/png": "[encoded data removed]",
      "text/latex": [
       "$\\displaystyle 0.008 θ_{3}^{2} + 0.032 θ_{2}^{2} - EJ \\cos{\\left(θ_{1} - 1.0 θ_{3} \\right)} - EJ \\cos{\\left(θ_{1} + θ_{3} - (2πΦ_{1}) \\right)}$"
      ],
      "text/plain": [
       "        2           2                                                \n",
       "0.008⋅θ₃  + 0.032⋅θ₂  - EJ⋅cos(θ₁ - θ₃) - EJ⋅cos(θ₁ + θ₃ - (2πΦ_{1}))"
      ]
     },
     "execution_count": 5,
     "metadata": {},
     "output_type": "execute_result"
    }
   ],
   "source": [
    "zero_pi.sym_potential()"
   ]
  },
  {
   "cell_type": "markdown",
   "id": "845c8262",
   "metadata": {
    "collapsed": false,
    "pycharm": {
     "name": "#%% md\n"
    }
   },
   "source": [
    "The potential can be visualized using `plot_potential`.\n",
    "\n",
    "For the zero-pi example, there are three degrees of freedoms $(\\theta_1, \\theta_2, \\theta_3)$. We can either fix all but two, or all but one variable. This produces either a contour plot of the potential within the selected 2d region, "
   ]
  },
  {
   "cell_type": "code",
   "execution_count": 32,
   "id": "d1e40fd2",
   "metadata": {
    "collapsed": false,
    "pycharm": {
     "name": "#%%\n"
    }
   },
   "outputs": [
    {
     "data": {
      "image/png": "[encoded data removed]",
      "text/plain": [
       "<Figure size 432x288 with 2 Axes>"
      ]
     },
     "metadata": {
      "needs_background": "light"
     },
     "output_type": "display_data"
    }
   ],
   "source": [
    "fig_pot_2D, ax_pot_2D = zero_pi.plot_potential(θ1=np.linspace(-np.pi, np.pi), \n",
    "                       θ3=np.linspace(-6*np.pi, 6*np.pi, 200), \n",
    "                       θ2 = 0.)"
   ]
  },
  {
   "cell_type": "markdown",
   "id": "85aed1fd",
   "metadata": {
    "collapsed": false,
    "pycharm": {
     "name": "#%% md\n"
    }
   },
   "source": [
    "or a line plot when only one variable is specified with a range:"
   ]
  },
  {
   "cell_type": "code",
   "execution_count": 30,
   "id": "326a1e41",
   "metadata": {
    "collapsed": false,
    "pycharm": {
     "name": "#%%\n"
    }
   },
   "outputs": [
    {
     "data": {
      "text/plain": [
       "(<Figure size 432x288 with 1 Axes>,\n",
       " <AxesSubplot:xlabel='$\\\\theta_{1}$', ylabel='Potential energy in GHz'>)"
      ]
     },
     "execution_count": 30,
     "metadata": {},
     "output_type": "execute_result"
    },
    {
     "data": {
      "image/png": "[encoded data removed]",
      "text/plain": [
       "<Figure size 432x288 with 1 Axes>"
      ]
     },
     "metadata": {
      "needs_background": "light"
     },
     "output_type": "display_data"
    }
   ],
   "source": [
    "fig_pot_1D, ax_pot_1D = zero_pi.plot_potential(θ1=np.linspace(-np.pi, np.pi), θ3=0, θ2 = 0)"
   ]
  },
  {
   "cell_type": "markdown",
   "id": "1d3ae872",
   "metadata": {
    "collapsed": false,
    "pycharm": {
     "name": "#%% md\n"
    }
   },
   "source": [
    "### Plotting the wavefunction\n",
    "Plots for the probability density of the wavefunction are obtained with `plot_wavefunction`. This method takes two arguments: `which` specifies the energy eigenstate for which the wavefunction is plotted, `var_indices` specifies the variable axis along which the wavefunction is plotted. The probability density is summed over the non-specified variable indices."
   ]
  },
  {
   "cell_type": "code",
   "execution_count": 40,
   "id": "ca286cb4",
   "metadata": {
    "collapsed": false,
    "pycharm": {
     "name": "#%%\n"
    }
   },
   "outputs": [
    {
     "data": {
      "image/png": "[encoded data removed]",
      "text/plain": [
       "<Figure size 432x288 with 1 Axes>"
      ]
     },
     "metadata": {
      "needs_background": "light"
     },
     "output_type": "display_data"
    }
   ],
   "source": [
    "wfn_plot_1D, wfn_ax_1D = zero_pi.plot_wavefunction(which=0, var_indices=(3,))"
   ]
  },
  {
   "cell_type": "markdown",
   "id": "2ddd2e07",
   "metadata": {
    "collapsed": false,
    "pycharm": {
     "name": "#%% md\n"
    }
   },
   "source": [
    "A maximum of two variable indices can be specified for a plot:"
   ]
  },
  {
   "cell_type": "code",
   "execution_count": null,
   "id": "fc6c7de9",
   "metadata": {
    "collapsed": false,
    "pycharm": {
     "name": "#%%\n"
    }
   },
   "outputs": [],
   "source": [
    "wfn_plot_2D, wfn_ax_2D = zero_pi.plot_wavefunction(which=0, var_indices=(1,3))"
   ]
  },
  {
   "cell_type": "markdown",
   "id": "35fbc2ed",
   "metadata": {
    "collapsed": false,
    "pycharm": {
     "name": "#%% md\n"
    }
   },
   "source": [
    "To avoid diagonalizing the system for every call of `plot_wavefunction`, we can\n",
    "diagonalize the system once using eigensys and use it to plot the wavefunction repeatedly.     "
   ]
  },
  {
   "cell_type": "code",
   "execution_count": null,
   "id": "fb99c5dc",
   "metadata": {
    "collapsed": false,
    "pycharm": {
     "name": "#%%\n"
    }
   },
   "outputs": [],
   "source": [
    "eigensys = zero_pi.eigensys()\n",
    "wfn_plot_2D, wfn_ax_2D = zero_pi.plot_wavefunction(which=1, var_indices=(1,3), esys=eigensys)"
   ]
  },
  {
   "cell_type": "markdown",
   "id": "3094a47d",
   "metadata": {
    "collapsed": false,
    "pycharm": {
     "name": "#%% md\n"
    }
   },
   "source": [
    "## Extra features"
   ]
  },
  {
   "cell_type": "markdown",
   "id": "1f48eb5b",
   "metadata": {
    "collapsed": false,
    "pycharm": {
     "name": "#%% md\n"
    }
   },
   "source": [
    "### Regroup external fluxes\n",
    "Grouping of external flux variables with specific circuit branches is not unique in the case of time-independent flux. The user can provide the list of branches with which external fluxes are grouped. (Splitting flux between multiple branches is currently not supported.)"
   ]
  },
  {
   "cell_type": "code",
   "execution_count": 33,
   "id": "1c10f4cd",
   "metadata": {
    "collapsed": false,
    "pycharm": {
     "name": "#%%\n"
    }
   },
   "outputs": [
    {
     "data": {
      "text/plain": [
       "[Branch(JJ, 1, 2, id: 1),\n",
       " Branch(JJ, 3, 4, id: 2),\n",
       " Branch(L, 2, 3, id: 3),\n",
       " Branch(L, 4, 1, id: 4),\n",
       " Branch(C, 1, 3, id: 5),\n",
       " Branch(C, 2, 4, id: 6)]"
      ]
     },
     "execution_count": 33,
     "metadata": {},
     "output_type": "execute_result"
    }
   ],
   "source": [
    "zero_pi.branches"
   ]
  },
  {
   "cell_type": "code",
   "execution_count": 34,
   "id": "52f03c9c",
   "metadata": {
    "collapsed": false,
    "pycharm": {
     "name": "#%%\n"
    }
   },
   "outputs": [],
   "source": [
    "closure_branches = [zero_pi.branches[3]]\n",
    "zero_pi.configure(closure_branches=closure_branches)"
   ]
  },
  {
   "cell_type": "markdown",
   "id": "07132226",
   "metadata": {
    "collapsed": false,
    "pycharm": {
     "name": "#%% md\n"
    }
   },
   "source": [
    "### Customize variable transformations\n",
    "It is possible to carry out variable transformations with a user-defined transformation matrix. For example, if we want to work with a more commonly seen set of variables for zero-pi circuit:"
   ]
  },
  {
   "cell_type": "code",
   "execution_count": 35,
   "id": "32ed232d",
   "metadata": {
    "collapsed": false,
    "pycharm": {
     "name": "#%%\n"
    }
   },
   "outputs": [],
   "source": [
    "zero_pi = scq.Circuit.from_yaml(zp_yaml, from_file=False, ext_basis=\"harmonic\")"
   ]
  },
  {
   "cell_type": "code",
   "execution_count": 36,
   "id": "a6541dec",
   "metadata": {
    "collapsed": false,
    "pycharm": {
     "name": "#%%\n"
    }
   },
   "outputs": [
    {
     "data": {
      "image/png": "[encoded data removed]",
      "text/latex": [
       "$\\displaystyle \\left[ φ_{1} = 0.5 θ_{3} + 0.5 θ_{4} - 0.5 θ_{1} - 0.5 θ_{2}, \\  φ_{2} = 0.5 θ_{1} + 0.5 θ_{2} + 0.5 θ_{3} + 0.5 θ_{4}, \\  φ_{3} = 0.5 θ_{1} + 0.5 θ_{4} - 0.5 θ_{2} - 0.5 θ_{3}, \\  φ_{4} = 0.5 θ_{2} + 0.5 θ_{4} - 0.5 θ_{1} - 0.5 θ_{3}\\right]$"
      ],
      "text/plain": [
       "[φ₁ = 0.5⋅θ₃ + 0.5⋅θ₄ - 0.5⋅θ₁ - 0.5⋅θ₂, φ₂ = 0.5⋅θ₁ + 0.5⋅θ₂ + 0.5⋅θ₃ + 0.5⋅θ\n",
       "₄, φ₃ = 0.5⋅θ₁ + 0.5⋅θ₄ - 0.5⋅θ₂ - 0.5⋅θ₃, φ₄ = 0.5⋅θ₂ + 0.5⋅θ₄ - 0.5⋅θ₁ - 0.5\n",
       "⋅θ₃]"
      ]
     },
     "execution_count": 36,
     "metadata": {},
     "output_type": "execute_result"
    }
   ],
   "source": [
    "trans_mat = np.array([[ -1,  -1,  1,  1],\n",
    "                       [ 1,  1,  1,  1],\n",
    "                       [ 1,  -1, -1,  1],\n",
    "                       [ -1,  1,  -1,  1]])*0.5\n",
    "zero_pi.configure(transformation_matrix=trans_mat)\n",
    "zero_pi.variable_transformation()"
   ]
  },
  {
   "cell_type": "code",
   "execution_count": 38,
   "id": "f0edc28f",
   "metadata": {
    "collapsed": false,
    "pycharm": {
     "name": "#%%\n"
    }
   },
   "outputs": [
    {
     "data": {
      "image/png": "[encoded data removed]",
      "text/latex": [
       "$\\displaystyle \\left(40.0 Q_{2}^{2} + 0.03996 n_{1}^{2} + 0.03996 n_{g1}^{2} + 0.04 Q_{3}^{2} + 0.07992 n_{1} n_{g1}\\right) - \\left(- 0.008 θ_{2}^{2} - 0.008 θ_{3}^{2} + EJ \\cos{\\left(θ_{1} + θ_{2} \\right)} + EJ \\cos{\\left((2πΦ_{1}) + θ_{2} - 1.0 θ_{1} \\right)}\\right)$"
      ],
      "text/plain": [
       "       2             2               2          2                             \n",
       "40.0⋅Q₂  + 0.03996⋅n₁  + 0.03996⋅n_g1  + 0.04⋅Q₃  + 0.07992⋅n₁⋅n_g1 + 0.008⋅θ₂\n",
       "\n",
       "2           2                                                \n",
       "  + 0.008⋅θ₃  - EJ⋅cos(θ₁ + θ₂) - EJ⋅cos((2πΦ_{1}) + θ₂ - θ₁)"
      ]
     },
     "execution_count": 38,
     "metadata": {},
     "output_type": "execute_result"
    }
   ],
   "source": [
    "zero_pi.sym_hamiltonian()"
   ]
  },
  {
   "cell_type": "markdown",
   "id": "e6b6587d",
   "metadata": {},
   "source": [
    "### Pure LC circuits"
   ]
  },
  {
   "cell_type": "markdown",
   "id": "255cc112",
   "metadata": {},
   "source": [
    "For circuits with only inductors and capacitors, the variable transformations that produces normal modes of the circuit is automatically applied, which results in a fully decoupled system."
   ]
  },
  {
   "cell_type": "code",
   "execution_count": 39,
   "id": "eaf01f85",
   "metadata": {},
   "outputs": [
    {
     "data": {
      "image/png": "[encoded data removed]",
      "text/latex": [
       "$\\displaystyle \\left(0.069281 Q_{3}^{2} + 0.047265 Q_{2}^{2} + 0.024363 Q_{1}^{2}\\right) + \\left(0.004686 θ_{2}^{2} + 0.001237 θ_{1}^{2} + 0.007548 θ_{3}^{2}\\right)$"
      ],
      "text/plain": [
       "           2              2              2              2              2      \n",
       "0.069281⋅Q₃  + 0.047265⋅Q₂  + 0.024363⋅Q₁  + 0.004686⋅θ₂  + 0.001237⋅θ₁  + 0.0\n",
       "\n",
       "        2\n",
       "07548⋅θ₃ "
      ]
     },
     "execution_count": 39,
     "metadata": {},
     "output_type": "execute_result"
    }
   ],
   "source": [
    "LC_yaml = \"\"\"# pure LC circuit\n",
    "branches:\n",
    "- [\"L\", 1,3, 0.008]\n",
    "- [\"L\", 2,4, 0.005]\n",
    "- [\"L\", 1,4, 0.003]\n",
    "- [\"C\", 1,3, 0.02]\n",
    "- [\"C\", 2,3, 0.04]\n",
    "- [\"C\", 3,4, 0.01]\n",
    "- [\"C\", 1,2, 0.05]\n",
    "\"\"\"\n",
    "LC = scq.Circuit.from_yaml(LC_yaml, from_file=False, ext_basis=\"harmonic\")\n",
    "LC.sym_hamiltonian()"
   ]
  },
  {
   "cell_type": "markdown",
   "id": "eeebaa8a",
   "metadata": {},
   "source": [
    "Notice that only harmonic basis can be used for pure LC circuits, as the eigenstates of the systems are the tensor products of harmonic oscillator eigenstates, and using discretized basis is not favored in either numerical or analytical perspectives."
   ]
  },
  {
   "cell_type": "markdown",
   "id": "fcb3a657",
   "metadata": {
    "pycharm": {
     "name": "#%% md\n"
    }
   },
   "source": [
    "## Tips\n",
    "\n",
    "### Options for automatic variable transformation\n",
    "- After the periodic, frozen and free variables are identified, the transformation matrix is completed by adding on a set of linearly-independent vectors. This heuristic method for generating the transformation matrix may not always provide the \"ideal\" or expected choice of variables.\n",
    "- As an alternative, missing column vectors in the transformation matrix may be filled by suitable canonical basis vectors (drawn from the identity matrix). This choice is made by setting `basis_completion=\"canonical\"` when creating the `Circuit` object. (The default is `\"heuristic\"`.)"
   ]
  },
  {
   "cell_type": "markdown",
   "id": "0886befc",
   "metadata": {
    "pycharm": {
     "name": "#%% md\n"
    }
   },
   "source": [
    "### Handling large circuits\n",
    "- For large circuits, the Hilbert space dimension grows exponentially with cutoffs. Numerical diagonalization is therefore challenging for large cutoffs, both in terms of runtime and memory. It is recommended to start diagonalization with small cutoffs, and gradually increase them as needed. This applies to both the direct and hierarchical diagonalization methods.\n",
    "- For hierarchical diagonalization: as diagonalization for systems with three or more variables takes much longer than for smaller systems, it is recommended to try and group less than three nodes for each subsystem, and build a hierarchy of subsystems.\n",
    "- Note that convergence of the eigenergies for large circuits can differ significantly according to the variable transformation used. It is advisable to (i) try changing the `basis_completion` option, (ii) define a custom transformation matrix, or (iii) add/remove the reference ground node in the YAML description of the circuit. "
   ]
  }
 ],
 "metadata": {
  "kernelspec": {
   "display_name": "Python 3.10.4 ('scqubits')",
   "language": "python",
   "name": "python3"
  },
  "language_info": {
   "codemirror_mode": {
    "name": "ipython",
    "version": 3
   },
   "file_extension": ".py",
   "mimetype": "text/x-python",
   "name": "python",
   "nbconvert_exporter": "python",
   "pygments_lexer": "ipython3",
   "version": "3.10.4"
  },
  "vscode": {
   "interpreter": {
    "hash": "c8d4bf36a74824303709ac4e007bea7414f53aa465ed117f157b5ab5806c56f7"
   }
  }
 },
 "nbformat": 4,
 "nbformat_minor": 5
}
