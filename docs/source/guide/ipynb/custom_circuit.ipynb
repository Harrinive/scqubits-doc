{
 "cells": [
  {
   "cell_type": "markdown",
   "id": "a1533a21-0277-472a-af2e-b40a2e9e0c39",
   "metadata": {
    "pycharm": {
     "name": "#%% md\n"
    }
   },
   "source": [
    "# Custom circuits:  quantization & spectra\n",
    "The `Circuit` class allows one to define and analyze custom circuits. The `Circuit` and `SymbolicCircuit` classes work hand in hand to find and separate all periodic and extended degrees of freedom, and to eliminate the non-dynamical cyclic and frozen modes. With this, the symbolic expression of the Hamiltonian is generated in terms of an appropriate choice of variables. \n",
    "\n",
    "The `Circuit` class finally performs the numerical diagonalization of the circuit Hamiltonian. Hierarchical diagonalization is utilized for better perfomance, if the user provides a specification of the intended hierarchy of subsystems."
   ]
  },
  {
   "cell_type": "markdown",
   "id": "470b2969",
   "metadata": {},
   "source": [
    "## Defining a custom circuit\n",
    "Any superconducting circuit consists of **capacitances**, **inductances**, and **Josephson junctions**. "
   ]
  },
  {
   "cell_type": "markdown",
   "id": "4b930329",
   "metadata": {
    "pycharm": {
     "name": "#%% md\n"
    }
   },
   "source": [
    "<div class=\"alert alert-info\">\n",
    "    \n",
    "Custom circuit definition\n",
    "    \n",
    "A custom circuit is specified via its graph consisting of nodes and branches. Start by labeling all circuit nodes with integer numbers n=1,2,3,... Every branch is a circuit element connecting two nodes.\n",
    "    \n",
    "For each branch:\n",
    "   \n",
    "- specify branch type: `JJ`, `L`, `C` for Josephson junction, inductance, and capacitance\n",
    "- give the labels of two nodes connected by the branch\n",
    "- provide circuit-element parameters (EJ and ECJ, EL, and EC, respectively)\n",
    "</div>\n",
    "\n",
    "\n",
    "As a concrete and familiar example, consider the circuit of the zero-pi qubit (nodes already labeled):\n",
    "   \n",
    "![zeropi](./zeropi-circ.jpg)\n",
    "\n",
    "   \n",
    "The graph of any custom circuit is stored in simple YAML format using the syntax illustrated here:"
   ]
  },
  {
   "cell_type": "code",
   "execution_count": 1,
   "id": "480aba4d",
   "metadata": {},
   "outputs": [],
   "source": [
    "zp_yaml = \"\"\"# zero-pi circuit\n",
    "nodes: 4\n",
    "branches:\n",
    "- [\"JJ\", 1, 2, EJ = 10, 20]\n",
    "- [\"JJ\", 3, 4, 10, 20]\n",
    "- [\"L\", 2, 3, 0.008]\n",
    "- [\"L\", 4, 1, 0.008]\n",
    "- [\"C\", 1, 3, 0.02]\n",
    "- [\"C\", 2, 4, 0.02]\n",
    "\"\"\""
   ]
  },
  {
   "cell_type": "markdown",
   "id": "744085e7-bb67-4670-b5e8-6505e6b5dcd3",
   "metadata": {
    "pycharm": {
     "name": "#%% md\n"
    }
   },
   "source": [
    "Alternatively, circuit specifications can be stored and loaded as `yaml` files with the same syntax. The graph description of the circuit is needed for creating an instance of the `Circuit` class. \n",
    "\n",
    "\n",
    "### More on syntax for entering custom circuits\n",
    "\n",
    "The example above illustrates most of the syntax rules to be followed. Each branch is represented by \n",
    "\n",
    "```\"<branch-type>\", <node_1>, <node_2>, <param-1> [, <param-2>]```\n",
    "\n",
    "**Branch types and parameters:**\n",
    "\n",
    "- `C`:  branch parameter is the charging energy $E_C = \\frac{e^2}{2C}$\n",
    "- `L`:  branch parameter is the inductive energy $E_L = \\frac{\\Phi_0^2}{(2\\pi)^2 L}$\n",
    "- `JJ`: branch parameters are the Josephson energy $E_J$ and junction charging energy $E_{CJ}$\n",
    "\n",
    "*Example:* `\"C\", 1, 3, 0.02` is a capacitance connecting nodes 1 and node 3, with charging energy 0.02 GHz.\n",
    "\n",
    "**Symbolic vs. numerical branch branch parameters:**\n",
    "\n",
    "- Branch parameters can be provided as float values, using the energy units set globally (default: GHz)\n",
    "- A symbol name can be specified along with the value (e.g., `EJ = 10`). Where appropriate, symbolic expressions are given in terms of such provided symbol names.\n",
    "\n",
    "TODO: clarify: only initialized once. Do note that if it is initialized again, the default value will be set to the very last initialization (This functionality will be changed to an exception being raised in the future).\n",
    "    \n",
    "**Ground node:**\n",
    "\n",
    "A physical ground node (if to be included in the circuit), always has the label 0. It does not count towards the total number of nodes."
   ]
  },
  {
   "cell_type": "markdown",
   "id": "03507a0d-627c-494e-940f-b0e7077aa01b",
   "metadata": {
    "pycharm": {
     "name": "#%% md\n"
    }
   },
   "source": [
    "## Creating a `Circuit` object\n",
    "Using the above string defining the zero-pi qubit, we can easily create a `Circuit` object:"
   ]
  },
  {
   "cell_type": "code",
   "execution_count": 2,
   "id": "e47f75b9",
   "metadata": {
    "pycharm": {
     "name": "#%%\n"
    }
   },
   "outputs": [],
   "source": [
    "import scqubits as scq\n",
    "zero_pi = scq.Circuit.from_yaml(zp_yaml, from_file=False, ext_basis=\"discretized\")"
   ]
  },
  {
   "cell_type": "markdown",
   "id": "af445950",
   "metadata": {
    "pycharm": {
     "name": "#%% md\n"
    }
   },
   "source": [
    "Here, `ext_basis` can be set to `\"discretized\"` or `\"harmonic\"`, and corresponds to the choice of using \"spatial\" discretization or decomposition in the harmonic oscillator basis for extended degrees of freedom.\n",
    "\n",
    "\n",
    "This creation of a `Circuit` automatically runs methods for circuit analysis, quantization, and construction of the circuit Hamiltonian matrix. For instance, we can directly access the **symbolic expression of the circuit Hamiltonian**:"
   ]
  },
  {
   "cell_type": "code",
   "execution_count": 8,
   "id": "a6cd2a58",
   "metadata": {
    "pycharm": {
     "name": "#%%\n"
    }
   },
   "outputs": [
    {
     "data": {
      "text/latex": [
       "$\\displaystyle - EJ \\cos{\\left(1.0 θ_{1} - 1.0 θ_{3} \\right)} + 0.01 Q_{2}^{2} + 40.0 Q_{3}^{2} + 0.04 n_{1}^{2} + 0.08 n_{1} ng_{1} + 0.04 ng_{1}^{2} + 0.032 θ_{2}^{2} + 0.008 θ_{3}^{2} - 10.0 \\cos{\\left(- Φ_{1} + 1.0 θ_{1} + 1.0 θ_{3} \\right)}$"
      ],
      "text/plain": [
       "-EJ*cos(1.0*θ1 - 1.0*θ3) + 0.01*Q2**2 + 40.0*Q3**2 + 0.04*n1**2 + 0.08*n1*ng_1 + 0.04*ng_1**2 + 0.032*θ2**2 + 0.008*θ3**2 - 10.0*cos(-Φ1 + 1.0*θ1 + 1.0*θ3)"
      ]
     },
     "execution_count": 8,
     "metadata": {},
     "output_type": "execute_result"
    }
   ],
   "source": [
    "zero_pi.sym_hamiltonian()"
   ]
  },
  {
   "cell_type": "markdown",
   "id": "df160b48",
   "metadata": {
    "pycharm": {
     "name": "#%% md\n"
    }
   },
   "source": [
    "All generalized coordinates are denoted by $\\theta_i$; the conjugate charges are given by $Q_i$ for extended degrees of freedom, and by $n_i$ for periodic degrees of freedom.\n",
    "\n",
    ".. note:\n",
    "   The coordinates chosen here generally differ from the node variables. In their construction, periodic and extended \n",
    "   degrees of freedom are identified and separated. Furthermore, variable elimination is implemented for cyclic and \n",
    "   frozen degrees of freedom (if applicable).\n",
    "   \n",
    "\n",
    "The **symbolic Lagrangian in terms of node variables** can be accessed via "
   ]
  },
  {
   "cell_type": "code",
   "execution_count": 4,
   "id": "149bf652",
   "metadata": {
    "pycharm": {
     "name": "#%%\n"
    }
   },
   "outputs": [
    {
     "data": {
      "text/latex": [
       "$\\displaystyle EJ \\cos{\\left(φ_{1} - φ_{2} \\right)} + 0.5 \\dot{φ_1} \\left(6.256 \\dot{φ_1} - 0.006 \\dot{φ_2} - 6.25 \\dot{φ_3}\\right) + 0.5 \\dot{φ_2} \\left(- 0.006 \\dot{φ_1} + 6.256 \\dot{φ_2} - 6.25 \\dot{φ_4}\\right) + 0.5 \\dot{φ_3} \\left(- 6.25 \\dot{φ_1} + 6.256 \\dot{φ_3} - 0.006 \\dot{φ_4}\\right) + 0.5 \\dot{φ_4} \\left(- 6.25 \\dot{φ_2} - 0.006 \\dot{φ_3} + 6.256 \\dot{φ_4}\\right) - 0.004 \\left(φ_{1} - φ_{4}\\right)^{2} - 0.004 \\left(- φ_{2} + φ_{3}\\right)^{2} + 10.0 \\cos{\\left(Φ_{1} - φ_{3} + φ_{4} \\right)}$"
      ],
      "text/plain": [
       "EJ*cos(φ1 - φ2) + 0.5*\\dot{φ_1}*(6.256*\\dot{φ_1} - 0.006*\\dot{φ_2} - 6.25*\\dot{φ_3}) + 0.5*\\dot{φ_2}*(-0.006*\\dot{φ_1} + 6.256*\\dot{φ_2} - 6.25*\\dot{φ_4}) + 0.5*\\dot{φ_3}*(-6.25*\\dot{φ_1} + 6.256*\\dot{φ_3} - 0.006*\\dot{φ_4}) + 0.5*\\dot{φ_4}*(-6.25*\\dot{φ_2} - 0.006*\\dot{φ_3} + 6.256*\\dot{φ_4}) - 0.004*(φ1 - φ4)**2 - 0.004*(-φ2 + φ3)**2 + 10.0*cos(Φ1 - φ3 + φ4)"
      ]
     },
     "execution_count": 4,
     "metadata": {},
     "output_type": "execute_result"
    }
   ],
   "source": [
    "zero_pi.sym_lagrangian()"
   ]
  },
  {
   "cell_type": "markdown",
   "id": "eb01b2e4",
   "metadata": {},
   "source": [
    "The equivalent expression of the **Lagrangian in terms of the transformed variables** used in `sym_hamiltonian` is:"
   ]
  },
  {
   "cell_type": "code",
   "execution_count": 9,
   "id": "fa1fc3eb",
   "metadata": {},
   "outputs": [
    {
     "data": {
      "text/latex": [
       "$\\displaystyle EJ \\cos{\\left(1.0 θ_{1} - 1.0 θ_{3} \\right)} + 6.256 \\dot{θ_1}^{2} + 25.0 \\dot{θ_2}^{2} + 0.006 \\dot{θ_3}^{2} - 0.032 θ_{2}^{2} - 0.008 θ_{3}^{2} + 10.0 \\cos{\\left(- Φ_{1} + 1.0 θ_{1} + 1.0 θ_{3} \\right)}$"
      ],
      "text/plain": [
       "EJ*cos(1.0*θ1 - 1.0*θ3) + 6.256*\\dot{θ_1}**2 + 25.0*\\dot{θ_2}**2 + 0.006*\\dot{θ_3}**2 - 0.032*θ2**2 - 0.008*θ3**2 + 10.0*cos(-Φ1 + 1.0*θ1 + 1.0*θ3)"
      ]
     },
     "execution_count": 9,
     "metadata": {},
     "output_type": "execute_result"
    }
   ],
   "source": [
    "zero_pi.sym_lagrangian(vars_type=\"new\")"
   ]
  },
  {
   "cell_type": "markdown",
   "id": "d82001cc",
   "metadata": {
    "pycharm": {
     "name": "#%% md\n"
    }
   },
   "source": [
    "The classification of the different variables is recorded in `var_categories`:"
   ]
  },
  {
   "cell_type": "code",
   "execution_count": 10,
   "id": "eb2e0e25",
   "metadata": {
    "pycharm": {
     "name": "#%%\n"
    }
   },
   "outputs": [
    {
     "data": {
      "text/plain": [
       "{'periodic': [1], 'extended': [2, 3], 'cyclic': [], 'frozen': []}"
      ]
     },
     "execution_count": 10,
     "metadata": {},
     "output_type": "execute_result"
    }
   ],
   "source": [
    "zero_pi.var_categories"
   ]
  },
  {
   "cell_type": "markdown",
   "id": "5272cf21",
   "metadata": {
    "pycharm": {
     "name": "#%% md\n"
    }
   },
   "source": [
    "Here, the type `osc` refers to the extended modes present in the circuit which do not have any cosine potential. "
   ]
  },
  {
   "cell_type": "markdown",
   "id": "a3d6f170",
   "metadata": {
    "pycharm": {
     "name": "#%% md\n"
    }
   },
   "source": [
    "The transformation matrix which transforms the new variables defined using $\\theta_i$ to node variables defined using $\\varphi_i$ can be viewed using the attribute `trans_mat`."
   ]
  },
  {
   "cell_type": "code",
   "execution_count": null,
   "id": "8d0f5ff4",
   "metadata": {
    "pycharm": {
     "name": "#%%\n"
    }
   },
   "outputs": [],
   "source": [
    "zero_pi.transformation_matrix"
   ]
  },
  {
   "cell_type": "markdown",
   "id": "272160d7",
   "metadata": {
    "pycharm": {
     "name": "#%% md\n"
    }
   },
   "source": [
    "Each of the variable index has its corresponding cutoff defined as an attribute. The list of these attributes can be accessed using:"
   ]
  },
  {
   "cell_type": "code",
   "execution_count": null,
   "id": "9386728a",
   "metadata": {
    "pycharm": {
     "name": "#%%\n"
    }
   },
   "outputs": [],
   "source": [
    "zero_pi.cutoff_names"
   ]
  },
  {
   "cell_type": "markdown",
   "id": "1581f945",
   "metadata": {
    "pycharm": {
     "name": "#%% md\n"
    }
   },
   "source": [
    "At this point, all we need to do is to define the cutoffs and call `zero_pi.eigenvals()` to get the eigen energies of the Hamiltonian. "
   ]
  },
  {
   "cell_type": "code",
   "execution_count": null,
   "id": "f82413f7",
   "metadata": {
    "pycharm": {
     "name": "#%%\n"
    }
   },
   "outputs": [],
   "source": [
    "zero_pi.cutoff_n_1 = 5\n",
    "zero_pi.cutoff_phi_2 = 10\n",
    "zero_pi.cutoff_phi_3 = 10\n",
    "zero_pi.eigenvals()"
   ]
  },
  {
   "cell_type": "markdown",
   "id": "363425c6",
   "metadata": {
    "pycharm": {
     "name": "#%% md\n"
    }
   },
   "source": [
    "These eigen values, in this case, are not converged and we need to increase the cutoffs to a large value for convergence. But, this can be expensive for a circuit like zero-pi. Thus, let us try to use hierarchical diagonalization. Looking at the expression generated above from the attribute `hamiltonian_symbolic`, we can see that the variable $\\theta_2$ corresponds to the zeta oscillator in zero-pi. Thus, we can pair the variables $1$ and $3$ to a single subsystem. This can be done in the following way. First, define an object which identifies different different subsystems by grouping of the variables. In this object note that, every subsystem is enclosed in `[...]`."
   ]
  },
  {
   "cell_type": "code",
   "execution_count": null,
   "id": "c758ba14",
   "metadata": {
    "pycharm": {
     "name": "#%%\n"
    }
   },
   "outputs": [],
   "source": [
    "subsystem_indices = [[1,3], [2]]"
   ]
  },
  {
   "cell_type": "markdown",
   "id": "57dde16d",
   "metadata": {
    "pycharm": {
     "name": "#%% md\n"
    }
   },
   "source": [
    "The above object indicates that we would want to pair the indices $1, 3$ into a single subsystem and the variable index $2$ into a separate subsystem. Do note that this can be done recursively. For example, a zero pi qubit can be paired with another oscillator with variable index $4$ using `[[[1,3], [2]], [4]]`. Each subsystem needs to be enclosed in square brackets even if it contains a single variable index. This object can then be given to a method `generate_default_trunc_dims` which generates the object for defining the default truncated dimensions for each of the sybsystems."
   ]
  },
  {
   "cell_type": "code",
   "execution_count": null,
   "id": "c802b3b9",
   "metadata": {
    "pycharm": {
     "name": "#%%\n"
    }
   },
   "outputs": [],
   "source": [
    "from scqubits.core.circuit import generate_default_trunc_dims\n",
    "generate_default_trunc_dims(HD_indices)"
   ]
  },
  {
   "cell_type": "markdown",
   "id": "dcb83300",
   "metadata": {
    "pycharm": {
     "name": "#%% md\n"
    }
   },
   "source": [
    "This object returned has the default truncated dimensions for each of the subsystem indexed in the same order as in `subsystem_indices`. This default truncated dims can now be changed accordingly and given as a parameter along with `subsystem_indices` to the method `initiate_circuit`."
   ]
  },
  {
   "cell_type": "code",
   "execution_count": null,
   "id": "74a49649",
   "metadata": {
    "pycharm": {
     "name": "#%%\n"
    }
   },
   "outputs": [],
   "source": [
    "zero_pi.initiate_circuit(subsystem_indices=subsystem_indices, subsystem_trunc_dims=[150, 80])"
   ]
  },
  {
   "cell_type": "markdown",
   "id": "af53267d",
   "metadata": {
    "pycharm": {
     "name": "#%% md\n"
    }
   },
   "source": [
    "The object `zero_pi` now initiates subsystems accordingly, whose symbolic hamiltonians and interactions can be viewed using the attribute `subsystems_sym` which refers to the symbolic expressions of the Hamiltonian and the interactions with other subsystems. For example, the hamiltonian of the zero'th subsystem can be accessed using"
   ]
  },
  {
   "cell_type": "code",
   "execution_count": null,
   "id": "dfdac698",
   "metadata": {
    "pycharm": {
     "name": "#%%\n"
    }
   },
   "outputs": [],
   "source": [
    "zero_pi.subsystems_sym[0][0]"
   ]
  },
  {
   "cell_type": "markdown",
   "id": "99800814",
   "metadata": {
    "pycharm": {
     "name": "#%% md\n"
    }
   },
   "source": [
    "while its interaction can be accessed using"
   ]
  },
  {
   "cell_type": "code",
   "execution_count": null,
   "id": "7628fc3a",
   "metadata": {
    "pycharm": {
     "name": "#%%\n"
    }
   },
   "outputs": [],
   "source": [
    "zero_pi.subsystems_sym[0][1]"
   ]
  },
  {
   "cell_type": "markdown",
   "id": "025d99c6",
   "metadata": {
    "pycharm": {
     "name": "#%% md\n"
    }
   },
   "source": [
    "Each of the subsystems are also created as an instance of the class `Circuit`. Thus, each subsystem can access all the features as described above. To find the eigenvalues of the subsystem for example: "
   ]
  },
  {
   "cell_type": "code",
   "execution_count": null,
   "id": "a6fe45ff",
   "metadata": {
    "pycharm": {
     "name": "#%%\n"
    }
   },
   "outputs": [],
   "source": [
    "zero_pi.subsystems[0].eigenvals()"
   ]
  },
  {
   "cell_type": "markdown",
   "id": "5149b1be",
   "metadata": {
    "pycharm": {
     "name": "#%% md\n"
    }
   },
   "source": [
    "Since the circuit was re-initiated with `initiate_circuit`, the cutoffs need to be defined again. And this time, since we are using hierarchical diagonalization we can use higher cutoffs."
   ]
  },
  {
   "cell_type": "code",
   "execution_count": null,
   "id": "6290b181",
   "metadata": {
    "pycharm": {
     "name": "#%%\n"
    }
   },
   "outputs": [],
   "source": [
    "zero_pi.cutoff_n_1 = 10\n",
    "zero_pi.cutoff_phi_2 = 100\n",
    "zero_pi.cutoff_phi_3 = 80"
   ]
  },
  {
   "cell_type": "markdown",
   "id": "ecaa8310",
   "metadata": {
    "pycharm": {
     "name": "#%% md\n"
    }
   },
   "source": [
    "All the external flux variables and offset charges can also be set by setting the attributes. To look at the variables for the circuit at hand call: "
   ]
  },
  {
   "cell_type": "code",
   "execution_count": null,
   "id": "06682be5",
   "metadata": {
    "pycharm": {
     "name": "#%%\n"
    }
   },
   "outputs": [],
   "source": [
    "zero_pi.external_flux_vars"
   ]
  },
  {
   "cell_type": "code",
   "execution_count": null,
   "id": "b3a8db2c",
   "metadata": {
    "pycharm": {
     "name": "#%%\n"
    }
   },
   "outputs": [],
   "source": [
    "zero_pi.offset_charge_vars"
   ]
  },
  {
   "cell_type": "code",
   "execution_count": null,
   "id": "39edbe37",
   "metadata": {
    "pycharm": {
     "name": "#%%\n"
    }
   },
   "outputs": [],
   "source": [
    "zero_pi.Φ1 = 0.5\n",
    "zero_pi.ng_1 = 0.6"
   ]
  },
  {
   "cell_type": "markdown",
   "id": "689a3652",
   "metadata": {
    "pycharm": {
     "name": "#%% md\n"
    }
   },
   "source": [
    "Now the eigenvalues and the parameter sweeps can be calculated like any other qubit in scqubits."
   ]
  },
  {
   "cell_type": "code",
   "execution_count": null,
   "id": "cd2917b2",
   "metadata": {
    "pycharm": {
     "name": "#%%\n"
    }
   },
   "outputs": [],
   "source": [
    "eigs = zero_pi.eigenvals()\n",
    "eigs - eigs[0]"
   ]
  },
  {
   "cell_type": "code",
   "execution_count": null,
   "id": "ce8036be",
   "metadata": {
    "pycharm": {
     "name": "#%%\n"
    }
   },
   "outputs": [],
   "source": [
    "import numpy as np\n",
    "zero_pi.plot_evals_vs_paramvals(\"Φ1\", np.linspace(0,1,21))"
   ]
  },
  {
   "cell_type": "markdown",
   "id": "545a60a3",
   "metadata": {
    "pycharm": {
     "name": "#%% md\n"
    }
   },
   "source": [
    "# Putting it all together\n",
    "\n",
    "Putting the code together, this is final result."
   ]
  },
  {
   "cell_type": "code",
   "execution_count": null,
   "id": "ae210f66",
   "metadata": {
    "pycharm": {
     "name": "#%%\n"
    }
   },
   "outputs": [],
   "source": [
    "import scqubits as scq\n",
    "from scqubits.core.circuit import generate_default_trunc_dims\n",
    "import numpy as np\n",
    "\n",
    "zero_pi = scq.Circuit.from_input_file(\"zero-pi-user-manual.yaml\", phi_basis=\"harmonic\")\n",
    "\n",
    "HD_indices = [[1,3], [2]]\n",
    "generate_default_trunc_dims(HD_indices)"
   ]
  },
  {
   "cell_type": "code",
   "execution_count": null,
   "id": "65ae2529",
   "metadata": {
    "pycharm": {
     "name": "#%%\n"
    }
   },
   "outputs": [],
   "source": [
    "zero_pi.initiate_circuit(subsystem_indices=subsystem_indices, subsystem_trunc_dims=[150, 80])\n",
    "\n",
    "zero_pi.cutoff_n_1 = 10\n",
    "zero_pi.cutoff_phi_2 = 90\n",
    "zero_pi.cutoff_phi_3 = 150\n",
    "\n",
    "zero_pi.Φ1 = 0.5\n",
    "zero_pi.ng_1 = 0.6\n",
    "\n",
    "eigs = zero_pi.eigenvals()\n",
    "eigs - eigs[0]"
   ]
  },
  {
   "cell_type": "code",
   "execution_count": null,
   "id": "05a4cb50",
   "metadata": {
    "pycharm": {
     "name": "#%%\n"
    }
   },
   "outputs": [],
   "source": [
    "zero_pi.hamiltonian_symbolic"
   ]
  },
  {
   "cell_type": "code",
   "execution_count": null,
   "id": "f2e34134",
   "metadata": {
    "pycharm": {
     "name": "#%%\n"
    }
   },
   "outputs": [],
   "source": [
    "zero_pi.plot_evals_vs_paramvals(\"Φ1\", np.linspace(0,1,21))"
   ]
  },
  {
   "cell_type": "markdown",
   "id": "48cfb9d8",
   "metadata": {
    "pycharm": {
     "name": "#%% md\n"
    }
   },
   "source": [
    "# Extra features implemented in this module\n",
    "\n",
    "In many cases, it might be possible that the transformation generated by the code is not what the user prefers. In such an instance the user can define a transformation and provide it as an input to the `initiate_circuit` method. The same applies to the external flux variables and to which branches they get associated to. The user can provide the list of branches to which external flux can be associated to (Do note that any limit has not been implemented in the code to allow the user to associate external flux to more than one branch in a superconducting loop; though in this case the user must make sure the external flux assignment is consistent with what is expected from the circuit as the result might not be physical in some cases). In the case of zero-pi for example user can define custom transformation and closure branches as follows:"
   ]
  },
  {
   "cell_type": "code",
   "execution_count": null,
   "id": "71cf9c9d",
   "metadata": {
    "pycharm": {
     "name": "#%%\n"
    }
   },
   "outputs": [],
   "source": [
    "import scqubits as scq\n",
    "from scqubits.core.circuit import generate_default_trunc_dims\n",
    "import numpy as np\n",
    "\n",
    "zero_pi = scq.Circuit.from_input_file(\"zero-pi-user-manual.yaml\", phi_basis=\"harmonic\", basis_completion=\"simple\")"
   ]
  },
  {
   "cell_type": "code",
   "execution_count": null,
   "id": "ce0ede1f",
   "metadata": {
    "pycharm": {
     "name": "#%%\n"
    }
   },
   "outputs": [],
   "source": [
    "zero_pi.hamiltonian_symbolic.expand()"
   ]
  },
  {
   "cell_type": "code",
   "execution_count": null,
   "id": "1429ad78",
   "metadata": {
    "pycharm": {
     "name": "#%%\n"
    }
   },
   "outputs": [],
   "source": [
    "zero_pi.branches"
   ]
  },
  {
   "cell_type": "code",
   "execution_count": null,
   "id": "5a076337",
   "metadata": {
    "pycharm": {
     "name": "#%%\n"
    }
   },
   "outputs": [],
   "source": [
    "closure_branches = [zero_pi.branches[3]]\n",
    "\n",
    "trans_mat = np.array([[ -1,  -1,  1,  1],\n",
    "                       [ 1,  1,  1,  1],\n",
    "                       [ 1,  -1, -1,  1],\n",
    "                       [ -1,  1,  -1,  1]])*0.5\n",
    "subsystem_indices = [[1,2],[3]]\n",
    "generate_default_trunc_dims(subsystem_indices)"
   ]
  },
  {
   "cell_type": "code",
   "execution_count": null,
   "id": "ca70095b",
   "metadata": {
    "pycharm": {
     "name": "#%%\n"
    }
   },
   "outputs": [],
   "source": [
    "zero_pi.initiate_circuit(transformation_matrix=trans_mat, subsystem_indices=subsystem_indices, subsystem_trunc_dims=[50, 100], closure_branches=closure_branches)"
   ]
  },
  {
   "cell_type": "code",
   "execution_count": null,
   "id": "3b1f047d",
   "metadata": {
    "pycharm": {
     "name": "#%%\n"
    }
   },
   "outputs": [],
   "source": [
    "zero_pi.hamiltonian_symbolic.expand()"
   ]
  },
  {
   "cell_type": "code",
   "execution_count": null,
   "id": "712c17d2",
   "metadata": {
    "pycharm": {
     "name": "#%%\n"
    }
   },
   "outputs": [],
   "source": [
    "zero_pi.Φ1 = 0.0\n",
    "zero_pi.ng_1 = 0.0\n",
    "\n",
    "zero_pi.cutoff_n_1 = 6\n",
    "zero_pi.cutoff_phi_2 = 80\n",
    "zero_pi.cutoff_phi_3 = 100\n",
    "eigs = zero_pi.eigenvals()\n",
    "eigs - eigs[0]"
   ]
  },
  {
   "cell_type": "markdown",
   "id": "745cd504",
   "metadata": {
    "pycharm": {
     "name": "#%% md\n"
    }
   },
   "source": [
    "# Plotting the potential\n",
    "Potential of the circuit can also be plotted using the method `plot_potential`. To see how the potential expression looks like, we can call the attribute `potential_symbolic`."
   ]
  },
  {
   "cell_type": "code",
   "execution_count": null,
   "id": "c468308a",
   "metadata": {
    "pycharm": {
     "name": "#%%\n"
    }
   },
   "outputs": [],
   "source": [
    "zero_pi.potential_symbolic"
   ]
  },
  {
   "cell_type": "markdown",
   "id": "9f8f50af",
   "metadata": {
    "pycharm": {
     "name": "#%% md\n"
    }
   },
   "source": [
    "There are three degrees of freedoms in this potential for which ranges need to be specified. The variables like external flux can also be specified, else they are fetched from the Circuit attributes. Do note that only a maximum of two ranges can be specified as we can only plot in 3D. The method returns a line plot when only one range is specified."
   ]
  },
  {
   "cell_type": "code",
   "execution_count": null,
   "id": "913ea89f",
   "metadata": {
    "pycharm": {
     "name": "#%%\n"
    }
   },
   "outputs": [],
   "source": [
    "zero_pi.plot_potential(θ1=np.linspace(-6*np.pi, 6*np.pi), θ2=np.linspace(-6*np.pi, 6*np.pi), θ3 = 6.65)"
   ]
  },
  {
   "cell_type": "markdown",
   "id": "98c4fbb4-9400-420c-94ee-8be44e25dd62",
   "metadata": {
    "pycharm": {
     "name": "#%% md\n"
    }
   },
   "source": [
    "# Tips when dealing with large circuits\n",
    "\n",
    "- When the circuit size is larger than a 4 nodes, it is better to not use many symbols for capacitances in the input file as the symbolic matrix conversion required for symbolic Hamiltonian can be expensive. This functionality will be improved in the future when the symbolic Hamiltonian will only be computed after all the parameters are substiuted.\n",
    "- The methods `from_input_string` and `from_input_file` also take `basis_completion` as a parameter which can take two strings: `\"simple\"` and `\"standard\"`. These represent the two methods in which the identity matrix is generated to complete the transformation matrix to transform the node variables to new variables $\\theta_i$. `\"standard\"` refers to an Identity, while `\"simple\"` refers to a matrix generated using itertools where each column has more than one non zero entries. Depending on the scenario, one of the above two options can result in a simpler Hamiltonian, resulting in a significant improvement in diagonalization time."
   ]
  }
 ],
 "metadata": {
  "kernelspec": {
   "display_name": "Python 3 (ipykernel)",
   "language": "python",
   "name": "python3"
  },
  "language_info": {
   "codemirror_mode": {
    "name": "ipython",
    "version": 3
   },
   "file_extension": ".py",
   "mimetype": "text/x-python",
   "name": "python",
   "nbconvert_exporter": "python",
   "pygments_lexer": "ipython3",
   "version": "3.8.10"
  }
 },
 "nbformat": 4,
 "nbformat_minor": 5
}
