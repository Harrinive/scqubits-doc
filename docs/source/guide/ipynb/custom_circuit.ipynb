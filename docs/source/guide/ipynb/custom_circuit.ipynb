{
 "cells": [
  {
   "cell_type": "markdown",
   "id": "a1533a21-0277-472a-af2e-b40a2e9e0c39",
   "metadata": {
    "pycharm": {
     "name": "#%% md\n"
    }
   },
   "source": [
    "# Custom Circuits\n",
    "With the `Circuit` class one can define and analyze custom circuits. The `Circuit` and `SymbolicCircuit` classes work hand in hand to **identify the periodic and extended degrees of freedom, and to eliminate the non-dynamical cyclic and frozen modes**. With this, the symbolic expression of the Hamiltonian is generated in terms of an appropriate choice of variables. \n",
    "\n",
    "The `Circuit` class also performs the **numerical diagonalization of the circuit Hamiltonian. Hierarchical diagonalization can be enabled for better runtime/memory perfomance.**"
   ]
  },
  {
   "cell_type": "markdown",
   "id": "470b2969",
   "metadata": {},
   "source": [
    "## Defining a custom circuit\n",
    "Any superconducting circuit consists of **capacitances**, **inductances**, and **Josephson junctions**. "
   ]
  },
  {
   "cell_type": "markdown",
   "id": "4b930329",
   "metadata": {
    "pycharm": {
     "name": "#%% md\n"
    }
   },
   "source": [
    "<div class=\"alert alert-info\">\n",
    "    \n",
    "Custom circuit definition\n",
    "    \n",
    "A custom circuit is specified via its graph consisting of nodes and branches. Start by labeling all circuit nodes with integer numbers n=1,2,3,... Every branch is a circuit element connecting two nodes.\n",
    "    \n",
    "For each branch:\n",
    "   \n",
    "- specify branch type: `JJ`, `L`, `C` for Josephson junction, inductance, and capacitance\n",
    "- give the labels of two nodes connected by the branch\n",
    "- provide circuit-element parameters (EJ and ECJ, EL, and EC, respectively)\n",
    "</div>\n",
    "\n",
    "\n",
    "As a concrete and familiar example, consider the circuit of the zero-pi qubit (nodes already labeled):\n",
    "   \n",
    "![zeropi](./zeropi-circ.jpg)\n",
    "\n",
    "   \n",
    "The graph of any custom circuit is stored in simple YAML format using the syntax illustrated here:"
   ]
  },
  {
   "cell_type": "code",
   "execution_count": null,
   "id": "480aba4d",
   "metadata": {
    "execution": {
     "iopub.execute_input": "2022-05-23T16:15:11.842567Z",
     "iopub.status.busy": "2022-05-23T16:15:11.841678Z",
     "iopub.status.idle": "2022-05-23T16:15:11.855717Z",
     "shell.execute_reply": "2022-05-23T16:15:11.854998Z"
    }
   },
   "outputs": [],
   "source": [
    "zp_yaml = \"\"\"# zero-pi circuit\n",
    "nodes: 4\n",
    "branches:\n",
    "- [\"JJ\", 1, 2, EJ=10, 20]\n",
    "- [\"JJ\", 3, 4, 10, 20]\n",
    "- [\"L\", 2, 3, 0.008]\n",
    "- [\"L\", 4, 1, 0.008]\n",
    "- [\"C\", 1, 3, 0.02]\n",
    "- [\"C\", 2, 4, 0.02]\n",
    "\"\"\""
   ]
  },
  {
   "cell_type": "markdown",
   "id": "744085e7-bb67-4670-b5e8-6505e6b5dcd3",
   "metadata": {
    "pycharm": {
     "name": "#%% md\n"
    }
   },
   "source": [
    "Alternatively, circuit specifications can be stored and loaded as `yaml` files with the same syntax. The graph description of the circuit is needed for creating an instance of the `Circuit` class. \n",
    "\n",
    "\n",
    "### More on syntax for entering custom circuits\n",
    "\n",
    "The example above illustrates most of the syntax rules to be followed. Each branch is represented by \n",
    "\n",
    "```\"<branch-type>\", <node_1>, <node_2>, <param-1> [, <param-2>]```\n",
    "\n",
    "**Branch types and parameters:**\n",
    "\n",
    "- `C`:  branch parameter is the charging energy $E_C = \\frac{e^2}{2C}$\n",
    "- `L`:  branch parameter is the inductive energy $E_L = \\frac{\\Phi_0^2}{(2\\pi)^2 L}$\n",
    "- `JJ`: branch parameters are the Josephson energy $E_J$ and junction charging energy $E_{CJ}$\n",
    "\n",
    "*Example:* `\"C\", 1, 3, 0.02` is a capacitance connecting nodes 1 and node 3, with charging energy 0.02 GHz.\n",
    "\n",
    "**Symbolic vs. numerical branch parameters:**\n",
    "\n",
    "- Branch parameters can be provided as float values, using the energy units set globally (default: GHz)\n",
    "- A symbol name can be specified along with the value (e.g., `EJ = 10`). Where appropriate, symbolic expressions are given in terms of such provided symbol names.\n",
    "\n",
    "    \n",
    "**Ground node:**\n",
    "\n",
    "A physical ground node (if to be included in the circuit), always has the label 0. It does not count towards the total number of nodes. For instance, when there are $N$ physical nodes in the circuit, and one of them is grounded, the correct input for the number of nodes should be `nodes: <N-1>`."
   ]
  },
  {
   "cell_type": "markdown",
   "id": "03507a0d-627c-494e-940f-b0e7077aa01b",
   "metadata": {
    "pycharm": {
     "name": "#%% md\n"
    }
   },
   "source": [
    "## Creating a `Circuit` object\n",
    "Using the above string defining the zero-pi qubit, we can easily create a `Circuit` object:"
   ]
  },
  {
   "cell_type": "code",
   "execution_count": null,
   "id": "e47f75b9",
   "metadata": {
    "execution": {
     "iopub.execute_input": "2022-05-23T16:15:11.859997Z",
     "iopub.status.busy": "2022-05-23T16:15:11.859670Z",
     "iopub.status.idle": "2022-05-23T16:15:13.784620Z",
     "shell.execute_reply": "2022-05-23T16:15:13.784198Z"
    },
    "pycharm": {
     "name": "#%%\n"
    }
   },
   "outputs": [],
   "source": [
    "import scqubits as scq\n",
    "zero_pi = scq.Circuit.from_yaml(zp_yaml, from_file=False, ext_basis=\"discretized\")"
   ]
  },
  {
   "cell_type": "markdown",
   "id": "af445950",
   "metadata": {
    "pycharm": {
     "name": "#%% md\n"
    }
   },
   "source": [
    "Here, `ext_basis` can be set to `\"discretized\"` or `\"harmonic\"`, and corresponds to the choice of using \"spatial\" discretization or decomposition in the harmonic oscillator basis for extended degrees of freedom.\n",
    "\n",
    "\n",
    "This creation of a `Circuit` automatically runs methods for circuit analysis, quantization, and construction of the circuit Hamiltonian matrix. For instance, we can directly access the **symbolic expression of the circuit Hamiltonian**:"
   ]
  },
  {
   "cell_type": "code",
   "execution_count": null,
   "id": "a6cd2a58",
   "metadata": {
    "execution": {
     "iopub.execute_input": "2022-05-23T16:15:13.787320Z",
     "iopub.status.busy": "2022-05-23T16:15:13.787106Z",
     "iopub.status.idle": "2022-05-23T16:15:14.060035Z",
     "shell.execute_reply": "2022-05-23T16:15:14.059705Z"
    },
    "pycharm": {
     "name": "#%%\n"
    }
   },
   "outputs": [],
   "source": [
    "zero_pi.sym_hamiltonian()"
   ]
  },
  {
   "cell_type": "markdown",
   "id": "df160b48",
   "metadata": {
    "pycharm": {
     "name": "#%% md\n"
    }
   },
   "source": [
    "All generalized coordinates are denoted by $\\theta_i$; the conjugate charges are given by $Q_i$ for extended degrees of freedom, and by $n_i$ for periodic degrees of freedom. Offset charges are denoted by $n_{gi}$ and external fluxes are denoted by $\\Phi_i$. A detailed description of external fluxes and offset charges can be found in [External magnetic flux, offset charges](./custom_circuit.ipynb#External-magnetic-flux,-offset-charges).\n",
    "\n",
    ".. note:\n",
    "   The coordinates chosen here generally differ from the node variables. In their construction, periodic and extended \n",
    "   degrees of freedom are identified and separated. Furthermore, variable elimination is implemented for cyclic and \n",
    "   frozen degrees of freedom (if applicable).\n",
    "   \n",
    "\n",
    "The **symbolic Lagrangian in terms of node variables** can be accessed via "
   ]
  },
  {
   "cell_type": "code",
   "execution_count": null,
   "id": "149bf652",
   "metadata": {
    "execution": {
     "iopub.execute_input": "2022-05-23T16:15:14.062441Z",
     "iopub.status.busy": "2022-05-23T16:15:14.062291Z",
     "iopub.status.idle": "2022-05-23T16:15:14.303315Z",
     "shell.execute_reply": "2022-05-23T16:15:14.303002Z"
    },
    "pycharm": {
     "name": "#%%\n"
    }
   },
   "outputs": [],
   "source": [
    "zero_pi.sym_lagrangian(vars_type=\"node\")"
   ]
  },
  {
   "cell_type": "markdown",
   "id": "8b891662",
   "metadata": {},
   "source": [
    "The equivalent expression of the **Lagrangian in terms of the transformed variables** used in `sym_hamiltonian` is:"
   ]
  },
  {
   "cell_type": "code",
   "execution_count": null,
   "id": "b8bb2191",
   "metadata": {
    "execution": {
     "iopub.execute_input": "2022-05-23T16:15:14.305146Z",
     "iopub.status.busy": "2022-05-23T16:15:14.305000Z",
     "iopub.status.idle": "2022-05-23T16:15:14.469556Z",
     "shell.execute_reply": "2022-05-23T16:15:14.469224Z"
    }
   },
   "outputs": [],
   "source": [
    "zero_pi.sym_lagrangian(vars_type=\"new\")"
   ]
  },
  {
   "cell_type": "markdown",
   "id": "d82001cc",
   "metadata": {
    "pycharm": {
     "name": "#%% md\n"
    }
   },
   "source": [
    "The classification of the different variables is recorded in `var_categories`:"
   ]
  },
  {
   "cell_type": "code",
   "execution_count": null,
   "id": "eb2e0e25",
   "metadata": {
    "execution": {
     "iopub.execute_input": "2022-05-23T16:15:14.471533Z",
     "iopub.status.busy": "2022-05-23T16:15:14.471390Z",
     "iopub.status.idle": "2022-05-23T16:15:14.473826Z",
     "shell.execute_reply": "2022-05-23T16:15:14.473523Z"
    },
    "pycharm": {
     "name": "#%%\n"
    }
   },
   "outputs": [],
   "source": [
    "zero_pi.var_categories"
   ]
  },
  {
   "cell_type": "markdown",
   "id": "a3d6f170",
   "metadata": {
    "pycharm": {
     "name": "#%% md\n"
    }
   },
   "source": [
    "The transformation matrix which maps the new variables ($\\theta_i$) to the node variables ($\\varphi_i$) can be inspected through `transformation_matrix`."
   ]
  },
  {
   "cell_type": "code",
   "execution_count": null,
   "id": "8d0f5ff4",
   "metadata": {
    "execution": {
     "iopub.execute_input": "2022-05-23T16:15:14.475608Z",
     "iopub.status.busy": "2022-05-23T16:15:14.475473Z",
     "iopub.status.idle": "2022-05-23T16:15:14.479105Z",
     "shell.execute_reply": "2022-05-23T16:15:14.478816Z"
    },
    "pycharm": {
     "name": "#%%\n"
    }
   },
   "outputs": [],
   "source": [
    "zero_pi.transformation_matrix"
   ]
  },
  {
   "cell_type": "markdown",
   "id": "764b6624",
   "metadata": {},
   "source": [
    "Alternatively, these mappings can be represented as equations via"
   ]
  },
  {
   "cell_type": "code",
   "execution_count": null,
   "id": "b6ca9ec8",
   "metadata": {},
   "outputs": [],
   "source": [
    "zero_pi.variable_transformation()"
   ]
  },
  {
   "cell_type": "markdown",
   "id": "272160d7",
   "metadata": {
    "pycharm": {
     "name": "#%% md\n"
    }
   },
   "source": [
    "Each variable index comes with a **cutoff for basis truncation**. A list of the attribute names of these cutoffs can be accessed using:"
   ]
  },
  {
   "cell_type": "code",
   "execution_count": null,
   "id": "9386728a",
   "metadata": {
    "execution": {
     "iopub.execute_input": "2022-05-23T16:15:14.480881Z",
     "iopub.status.busy": "2022-05-23T16:15:14.480759Z",
     "iopub.status.idle": "2022-05-23T16:15:14.483145Z",
     "shell.execute_reply": "2022-05-23T16:15:14.482856Z"
    },
    "pycharm": {
     "name": "#%%\n"
    }
   },
   "outputs": [],
   "source": [
    "zero_pi.cutoff_names"
   ]
  },
  {
   "cell_type": "markdown",
   "id": "1581f945",
   "metadata": {
    "pycharm": {
     "name": "#%% md\n"
    }
   },
   "source": [
    "We must next set these cutoffs to suitable values.\n",
    "\n",
    "<div class=\"alert alert-warning\">\n",
    "    Convergence checks required\n",
    "    \n",
    "    Setting appropriate cutoff values and confirming convergence is the user's responsibility!\n",
    "</div>"
   ]
  },
  {
   "cell_type": "code",
   "execution_count": null,
   "id": "f82413f7",
   "metadata": {
    "execution": {
     "iopub.execute_input": "2022-05-23T16:15:14.484849Z",
     "iopub.status.busy": "2022-05-23T16:15:14.484734Z",
     "iopub.status.idle": "2022-05-23T16:15:14.503635Z",
     "shell.execute_reply": "2022-05-23T16:15:14.503303Z"
    },
    "pycharm": {
     "name": "#%%\n"
    }
   },
   "outputs": [],
   "source": [
    "zero_pi.cutoff_n_1 = 5\n",
    "zero_pi.cutoff_phi_2 = 10\n",
    "zero_pi.cutoff_phi_3 = 10"
   ]
  },
  {
   "cell_type": "markdown",
   "id": "0e1c7afb",
   "metadata": {},
   "source": [
    "Now, we can call `eigenvals()` to obtain **low-lying eigenenergies of the circuit Hamiltonian**: "
   ]
  },
  {
   "cell_type": "code",
   "execution_count": null,
   "id": "49122d7a",
   "metadata": {
    "execution": {
     "iopub.execute_input": "2022-05-23T16:15:14.505487Z",
     "iopub.status.busy": "2022-05-23T16:15:14.505370Z",
     "iopub.status.idle": "2022-05-23T16:15:27.571697Z",
     "shell.execute_reply": "2022-05-23T16:15:27.571254Z"
    }
   },
   "outputs": [],
   "source": [
    "zero_pi.eigenvals()"
   ]
  },
  {
   "cell_type": "code",
   "execution_count": null,
   "id": "c397c6c6",
   "metadata": {},
   "outputs": [],
   "source": [
    "zero_pi.cutoff_n_1"
   ]
  },
  {
   "cell_type": "markdown",
   "id": "363425c6",
   "metadata": {
    "pycharm": {
     "name": "#%% md\n"
    }
   },
   "source": [
    "Increasing the above cutoff values reveals that these eigenvalues have not converged yet. Increasing cutoff values increases the Hilbert space dimension and, thus, increases memory requirements and runtime. A strategy that can help mitigate this problem is the use of hierarchical diagonalization.\n",
    "\n",
    "## Hierarchical diagonalization\n",
    "\n",
    "For a large circuit with many degrees of freedoms, a possibly efficient way of obtaining its low-lying eigenenergies and eigenstates is to partition the system into several subsystems, and use the low-lying energy eigenstates of each subsystems as basis states to diagonalize the full system Hamiltonian. The schematic diagram below illustrates how hierarchical diagonalization is performed for a system by partitioning it into two subsystems:\n",
    "\n",
    "![HD](./custom_circuit_HD.svg)\n",
    "\n",
    "For the example zero-pi qubit system, the expression from `sym_hamiltonian` shows that $\\theta_2$ corresponds to the harmonic zeta mode of the zero-pi qubit. The remaining variables $\\theta_1$ and $\\theta_3$ form the primary qubit degrees of freedom and may be considered a \"separate\", weakly coupled subsystem. \n",
    "\n",
    "This idea of a **subsystem hierarchy is made explicit by grouping circuit variable indices in a nested list**:"
   ]
  },
  {
   "cell_type": "code",
   "execution_count": null,
   "id": "c758ba14",
   "metadata": {
    "execution": {
     "iopub.execute_input": "2022-05-23T16:15:27.574998Z",
     "iopub.status.busy": "2022-05-23T16:15:27.574825Z",
     "iopub.status.idle": "2022-05-23T16:15:27.577281Z",
     "shell.execute_reply": "2022-05-23T16:15:27.576832Z"
    },
    "pycharm": {
     "name": "#%%\n"
    }
   },
   "outputs": [],
   "source": [
    "system_hierarchy = [[1,3], [2]]"
   ]
  },
  {
   "cell_type": "markdown",
   "id": "5e218906",
   "metadata": {
    "pycharm": {
     "name": "#%% md\n"
    }
   },
   "source": [
    "This nested list groups variables $1$ and $3$ into one subsystem, and makes variable $2$ a separate subsystem. \n",
    "\n",
    "List nesting extends to multiple layers, so that more complex hierarchies can be captured.  \n",
    "For example, a zero-pi qubit coupled to an oscillator (variable $4$) could be associated with the hierarchy `[[[1,3], [2]], [4]]`.\n",
    "\n",
    "For convenience, a default list of truncated Hilbert space dimensions is generated by `truncation_template`:"
   ]
  },
  {
   "cell_type": "code",
   "execution_count": null,
   "id": "4c304866",
   "metadata": {
    "execution": {
     "iopub.execute_input": "2022-05-23T16:15:27.579635Z",
     "iopub.status.busy": "2022-05-23T16:15:27.579492Z",
     "iopub.status.idle": "2022-05-23T16:15:27.582885Z",
     "shell.execute_reply": "2022-05-23T16:15:27.582381Z"
    },
    "pycharm": {
     "name": "#%%\n"
    }
   },
   "outputs": [],
   "source": [
    "from scqubits.core.circuit import truncation_template\n",
    "truncation_template(system_hierarchy)"
   ]
  },
  {
   "cell_type": "markdown",
   "id": "cae9048e",
   "metadata": {
    "pycharm": {
     "name": "#%% md\n"
    }
   },
   "source": [
    "This default is meant to provide a list of the right shape whose entries should of course be adjusted. \n",
    "\n",
    "**To enable hierarchical diagonalization, the system hierarchy and truncation scheme info are handed over to** `set_system_hierarchy`:"
   ]
  },
  {
   "cell_type": "code",
   "execution_count": null,
   "id": "aa28782d",
   "metadata": {
    "execution": {
     "iopub.execute_input": "2022-05-23T16:15:27.585582Z",
     "iopub.status.busy": "2022-05-23T16:15:27.585460Z",
     "iopub.status.idle": "2022-05-23T16:15:27.640844Z",
     "shell.execute_reply": "2022-05-23T16:15:27.640295Z"
    },
    "pycharm": {
     "name": "#%%\n"
    }
   },
   "outputs": [],
   "source": [
    "zero_pi.set_system_hierarchy(system_hierarchy=system_hierarchy, subsystem_trunc_dims=[150, 80])"
   ]
  },
  {
   "cell_type": "markdown",
   "id": "254e04aa",
   "metadata": {
    "pycharm": {
     "name": "#%% md\n"
    }
   },
   "source": [
    "Once the hierarchy is set, subsystem Hamiltonians can be viewed via"
   ]
  },
  {
   "cell_type": "code",
   "execution_count": null,
   "id": "5dec4742",
   "metadata": {
    "execution": {
     "iopub.execute_input": "2022-05-23T16:15:27.643993Z",
     "iopub.status.busy": "2022-05-23T16:15:27.643822Z",
     "iopub.status.idle": "2022-05-23T16:15:27.882299Z",
     "shell.execute_reply": "2022-05-23T16:15:27.881975Z"
    },
    "pycharm": {
     "name": "#%%\n"
    }
   },
   "outputs": [],
   "source": [
    "zero_pi.sym_hamiltonian(subsystem_index=0)  # show Hamiltonian for subsystem 0"
   ]
  },
  {
   "cell_type": "markdown",
   "id": "19f17eda",
   "metadata": {
    "pycharm": {
     "name": "#%% md\n"
    }
   },
   "source": [
    "Hamiltonian terms describing the coupling between two subsystems are displayed via"
   ]
  },
  {
   "cell_type": "code",
   "execution_count": null,
   "id": "bca4e0fb",
   "metadata": {
    "execution": {
     "iopub.execute_input": "2022-05-23T16:15:27.884146Z",
     "iopub.status.busy": "2022-05-23T16:15:27.884000Z",
     "iopub.status.idle": "2022-05-23T16:15:27.888269Z",
     "shell.execute_reply": "2022-05-23T16:15:27.887981Z"
    },
    "pycharm": {
     "name": "#%%\n"
    }
   },
   "outputs": [],
   "source": [
    "zero_pi.sym_interaction((0,1))  # show coupling terms between subsystems 0 and 1"
   ]
  },
  {
   "cell_type": "markdown",
   "id": "8372344b",
   "metadata": {
    "pycharm": {
     "name": "#%% md\n"
    }
   },
   "source": [
    "(For the symmetric zero-pi qubit, the zeta mode and the primary qubit degrees of freedom decouple.)\n",
    "\n",
    "Each subsystem has access to circuit methods, like `eigenvals`. Here are the unconverged (!) eigenenergies for the zeta mode:"
   ]
  },
  {
   "cell_type": "code",
   "execution_count": null,
   "id": "0c396cec",
   "metadata": {
    "execution": {
     "iopub.execute_input": "2022-05-23T16:15:27.890004Z",
     "iopub.status.busy": "2022-05-23T16:15:27.889888Z",
     "iopub.status.idle": "2022-05-23T16:15:27.897336Z",
     "shell.execute_reply": "2022-05-23T16:15:27.897053Z"
    },
    "pycharm": {
     "name": "#%%\n"
    }
   },
   "outputs": [],
   "source": [
    "zero_pi.subsystems[1].eigenvals()"
   ]
  },
  {
   "cell_type": "markdown",
   "id": "3671927a",
   "metadata": {
    "pycharm": {
     "name": "#%% md\n"
    }
   },
   "source": [
    "Hierarchical diagonalization allows us to increase variable-specific cutoffs without exploding the dimension of the joint Hilbert space."
   ]
  },
  {
   "cell_type": "code",
   "execution_count": null,
   "id": "7542d15b",
   "metadata": {
    "execution": {
     "iopub.execute_input": "2022-05-23T16:15:27.899019Z",
     "iopub.status.busy": "2022-05-23T16:15:27.898881Z",
     "iopub.status.idle": "2022-05-23T16:15:27.947569Z",
     "shell.execute_reply": "2022-05-23T16:15:27.947290Z"
    },
    "pycharm": {
     "name": "#%%\n"
    }
   },
   "outputs": [],
   "source": [
    "zero_pi.cutoff_n_1 = 10\n",
    "zero_pi.cutoff_ext_2 = 100\n",
    "zero_pi.cutoff_ext_3 = 50\n",
    "\n",
    "zero_pi.subsystems[1].eigenvals()"
   ]
  },
  {
   "cell_type": "markdown",
   "id": "753a09fe",
   "metadata": {
    "pycharm": {
     "name": "#%% md\n"
    }
   },
   "source": [
    "## External magnetic flux, offset charges\n",
    "\n",
    "All external magnetic fluxes and offset charges are set to zero by default; these can be set to other values. \n",
    "\n",
    "Each offset charge $n_{gi}$ is associated with a variable $\\theta_i$. Only periodic variables have adjustable associated offset charges; offset charges of extended variables can always be eliminated from Hamiltonian by suitable gauge transformations. A list of adjustable offset charge variables and their maps with node offset charges $\\{q_{g\\mu}\\}$ is provided by:"
   ]
  },
  {
   "cell_type": "code",
   "execution_count": null,
   "id": "71d352cb",
   "metadata": {
    "execution": {
     "iopub.execute_input": "2022-05-23T16:15:27.953145Z",
     "iopub.status.busy": "2022-05-23T16:15:27.953013Z",
     "iopub.status.idle": "2022-05-23T16:15:27.955247Z",
     "shell.execute_reply": "2022-05-23T16:15:27.954978Z"
    },
    "pycharm": {
     "name": "#%%\n"
    }
   },
   "outputs": [],
   "source": [
    "zero_pi.offset_charge_transformation()"
   ]
  },
  {
   "cell_type": "markdown",
   "id": "d5be5495",
   "metadata": {},
   "source": [
    "Each external flux $\\Phi_i$ is associated with a branch in a closed loop of circuit. All the external fluxes, with their associated branches and loops (provided as a list of branches), can be accessed via:"
   ]
  },
  {
   "cell_type": "code",
   "execution_count": null,
   "id": "c5660110",
   "metadata": {
    "execution": {
     "iopub.execute_input": "2022-05-23T16:15:27.949356Z",
     "iopub.status.busy": "2022-05-23T16:15:27.949220Z",
     "iopub.status.idle": "2022-05-23T16:15:27.951459Z",
     "shell.execute_reply": "2022-05-23T16:15:27.951159Z"
    },
    "pycharm": {
     "name": "#%%\n"
    }
   },
   "outputs": [],
   "source": [
    "zero_pi.sym_external_fluxes()"
   ]
  },
  {
   "cell_type": "markdown",
   "id": "795bc1c0",
   "metadata": {},
   "source": [
    "External fluxes (in unit of $2\\pi$) and offset charges can be adjusted by simply:"
   ]
  },
  {
   "cell_type": "code",
   "execution_count": null,
   "id": "30baa319",
   "metadata": {
    "execution": {
     "iopub.execute_input": "2022-05-23T16:15:27.960796Z",
     "iopub.status.busy": "2022-05-23T16:15:27.960666Z",
     "iopub.status.idle": "2022-05-23T16:15:27.962522Z",
     "shell.execute_reply": "2022-05-23T16:15:27.962214Z"
    },
    "pycharm": {
     "name": "#%%\n"
    }
   },
   "outputs": [],
   "source": [
    "zero_pi.Φ1 = 0.5\n",
    "zero_pi.ng_1 = 0.6"
   ]
  },
  {
   "cell_type": "markdown",
   "id": "9085099f",
   "metadata": {
    "pycharm": {
     "name": "#%% md\n"
    }
   },
   "source": [
    "## Visualization\n",
    "### Simple parameter sweeps\n",
    "Plotting the energy spectrum with varying one of the circuit parameters works just as for other qubit classes. For example:"
   ]
  },
  {
   "cell_type": "code",
   "execution_count": null,
   "id": "8a6ecef5",
   "metadata": {
    "execution": {
     "iopub.execute_input": "2022-05-23T16:15:27.964264Z",
     "iopub.status.busy": "2022-05-23T16:15:27.964133Z",
     "iopub.status.idle": "2022-05-23T16:15:27.965921Z",
     "shell.execute_reply": "2022-05-23T16:15:27.965631Z"
    },
    "pycharm": {
     "name": "#%%\n"
    }
   },
   "outputs": [],
   "source": [
    "import numpy as np\n",
    "# zero_pi.plot_evals_vs_paramvals(\"Φ1\", np.linspace(0,1,21))"
   ]
  },
  {
   "cell_type": "markdown",
   "id": "428fdd1b",
   "metadata": {},
   "source": [
    "<div class=\"alert alert-warning\">\n",
    "    Work in progress\n",
    "    \n",
    "    Need to wait for Sai to push his changes on fixing `I_operator` issue.\n",
    "</div>"
   ]
  },
  {
   "cell_type": "markdown",
   "id": "08276e68",
   "metadata": {
    "pycharm": {
     "name": "#%% md\n"
    }
   },
   "source": [
    "\n",
    "### Plotting the potential\n",
    "Potential of the circuit can also be plotted using the method `plot_potential`. To see how the potential expression looks like, we can call the attribute `potential_symbolic`:"
   ]
  },
  {
   "cell_type": "code",
   "execution_count": null,
   "id": "112b6a8e",
   "metadata": {
    "execution": {
     "iopub.execute_input": "2022-05-23T16:15:27.967633Z",
     "iopub.status.busy": "2022-05-23T16:15:27.967496Z",
     "iopub.status.idle": "2022-05-23T16:15:27.973835Z",
     "shell.execute_reply": "2022-05-23T16:15:27.973516Z"
    },
    "pycharm": {
     "name": "#%%\n"
    }
   },
   "outputs": [],
   "source": [
    "zero_pi.potential_symbolic"
   ]
  },
  {
   "cell_type": "markdown",
   "id": "f4691a4a",
   "metadata": {
    "pycharm": {
     "name": "#%% md\n"
    }
   },
   "source": [
    "There are three degrees of freedoms $(\\theta_1, \\theta_2, \\theta_3)$ in this potential for which ranges or values need to be specified. Plot ranges for at most two variables can be specified; values need to be specified for all the other variables."
   ]
  },
  {
   "cell_type": "code",
   "execution_count": null,
   "id": "a1947717",
   "metadata": {
    "execution": {
     "iopub.execute_input": "2022-05-23T16:15:27.975608Z",
     "iopub.status.busy": "2022-05-23T16:15:27.975471Z",
     "iopub.status.idle": "2022-05-23T16:15:28.402395Z",
     "shell.execute_reply": "2022-05-23T16:15:28.401993Z"
    },
    "pycharm": {
     "name": "#%%\n"
    }
   },
   "outputs": [],
   "source": [
    "zero_pi.plot_potential(θ1=np.linspace(-np.pi, np.pi), θ3=np.linspace(-10*np.pi, 10*np.pi), θ2 = 0.)"
   ]
  },
  {
   "cell_type": "markdown",
   "id": "d551610d",
   "metadata": {},
   "source": [
    "`plot_potential` returns a line plot when only one variable is specified with a range:"
   ]
  },
  {
   "cell_type": "code",
   "execution_count": null,
   "id": "ee11d03f",
   "metadata": {},
   "outputs": [],
   "source": [
    "zero_pi.plot_potential(θ1=np.linspace(-np.pi, np.pi), θ3=0, θ2 = 0)"
   ]
  },
  {
   "cell_type": "markdown",
   "id": "b7953ce2",
   "metadata": {
    "pycharm": {
     "name": "#%% md\n"
    }
   },
   "source": [
    "### Plotting the wavefunction\n",
    "Wavefunctions can be plotted with `plot_wavefunction` method. It takes two arguments: `n` specifies the energy eigenstate for which the wavefunction is plotted, `var_indices` specifies variables along which the wavefunction needs to be plotted:"
   ]
  },
  {
   "cell_type": "code",
   "execution_count": null,
   "id": "805035c9",
   "metadata": {
    "execution": {
     "iopub.execute_input": "2022-05-23T16:15:28.409582Z",
     "iopub.status.busy": "2022-05-23T16:15:28.409405Z",
     "iopub.status.idle": "2022-05-23T16:15:47.501834Z",
     "shell.execute_reply": "2022-05-23T16:15:47.501477Z"
    },
    "pycharm": {
     "name": "#%%\n"
    }
   },
   "outputs": [],
   "source": [
    "zero_pi.plot_wavefunction(which=0, var_indices=(1,))"
   ]
  },
  {
   "cell_type": "markdown",
   "id": "ee541c1c",
   "metadata": {},
   "source": [
    "<div class=\"alert alert-warning\">\n",
    "    Work in progress\n",
    "    \n",
    "    Need to wait for Sai to push his changes on fixing `I_operator` issue.\n",
    "</div>"
   ]
  },
  {
   "cell_type": "markdown",
   "id": "327aab42",
   "metadata": {},
   "source": [
    "A maximum of two variable indices can be specified for a plot:"
   ]
  },
  {
   "cell_type": "code",
   "execution_count": null,
   "id": "8331c9f3",
   "metadata": {},
   "outputs": [],
   "source": [
    "zero_pi.plot_wavefunction(which=0, var_indices=(1,2))"
   ]
  },
  {
   "cell_type": "markdown",
   "id": "7cdda9f5",
   "metadata": {
    "pycharm": {
     "name": "#%% md\n"
    }
   },
   "source": [
    "## Extra features"
   ]
  },
  {
   "cell_type": "markdown",
   "id": "274eec17",
   "metadata": {
    "pycharm": {
     "name": "#%% md\n"
    }
   },
   "source": [
    "### Regroup external fluxes\n",
    "Grouping of external flux variables with specific circuit branches is arbitrary in the case of time-independent flux. The user can provide the list of branches with which external fluxes are grouped. (Splitting flux between multiple branches is not supported.)"
   ]
  },
  {
   "cell_type": "code",
   "execution_count": null,
   "id": "32246cde",
   "metadata": {
    "execution": {
     "iopub.execute_input": "2022-05-23T16:15:47.792006Z",
     "iopub.status.busy": "2022-05-23T16:15:47.791823Z",
     "iopub.status.idle": "2022-05-23T16:15:47.794810Z",
     "shell.execute_reply": "2022-05-23T16:15:47.794444Z"
    },
    "pycharm": {
     "name": "#%%\n"
    }
   },
   "outputs": [],
   "source": [
    "zero_pi.branches"
   ]
  },
  {
   "cell_type": "code",
   "execution_count": null,
   "id": "5395a355",
   "metadata": {},
   "outputs": [],
   "source": [
    "closure_branches = [zero_pi.branches[3]]\n",
    "zero_pi.set_closure_branches(closure_branches)"
   ]
  },
  {
   "cell_type": "markdown",
   "id": "a36730aa",
   "metadata": {
    "pycharm": {
     "name": "#%% md\n"
    }
   },
   "source": [
    "### Customize variable transformations\n",
    "It is possible to carry out variable transformations with an user-defined transformation matrix. For example, if we want to work with a more-commonly-seen set of variables for zero-pi circuit:"
   ]
  },
  {
   "cell_type": "code",
   "execution_count": null,
   "id": "ed2c35b0",
   "metadata": {},
   "outputs": [],
   "source": [
    "zero_pi.Φ1 = 0.5\n",
    "zero_pi.ng_1 = 0.6"
   ]
  },
  {
   "cell_type": "code",
   "execution_count": null,
   "id": "02411d67",
   "metadata": {},
   "outputs": [],
   "source": [
    "import numpy as np\n",
    "trans_mat = np.array([[ -1,  -1,  1,  1],\n",
    "                       [ 1,  1,  1,  1],\n",
    "                       [ 1,  -1, -1,  1],\n",
    "                       [ -1,  1,  -1,  1]])*0.5\n",
    "zero_pi.configure(transformation_matrix=trans_mat)\n",
    "zero_pi.variable_transformation()"
   ]
  },
  {
   "cell_type": "code",
   "execution_count": null,
   "id": "1bce9aa4",
   "metadata": {},
   "outputs": [],
   "source": [
    "zero_pi.sym_hamiltonian()"
   ]
  },
  {
   "cell_type": "code",
   "execution_count": null,
   "id": "58c0021d",
   "metadata": {},
   "outputs": [],
   "source": [
    "zero_pi.var_categories"
   ]
  },
  {
   "cell_type": "markdown",
   "id": "91e53fed",
   "metadata": {},
   "source": [
    "Notice that all the cutoffs, information about system hierarchy, external fluxes and offset charges are restored to default values when `configure` is called. Therefore, user need to set these attributes:"
   ]
  },
  {
   "cell_type": "markdown",
   "id": "02df0269",
   "metadata": {},
   "source": [
    "<div class=\"alert alert-warning\">\n",
    "    Work in progress\n",
    "    \n",
    "    Still waiting for Sai to decide what do `configure` reset\n",
    "</div>"
   ]
  },
  {
   "cell_type": "code",
   "execution_count": null,
   "id": "378c07c7",
   "metadata": {},
   "outputs": [],
   "source": [
    "zero_pi.cutoff_names"
   ]
  },
  {
   "cell_type": "code",
   "execution_count": null,
   "id": "70f847b5",
   "metadata": {},
   "outputs": [],
   "source": [
    "zero_pi.cutoff_n_1 = 20\n",
    "zero_pi.cutoff_ext_2 = 30\n",
    "zero_pi.cutoff_ext_3 = 40\n",
    "system_hierarchy = [[1,3], [2]]\n",
    "zero_pi.set_system_hierarchy(system_hierarchy=system_hierarchy, subsystem_trunc_dims=[20, 20])"
   ]
  },
  {
   "cell_type": "markdown",
   "id": "95376d47",
   "metadata": {},
   "source": [
    "<div class=\"alert alert-warning\">\n",
    "    Use only `initiate_circuit` to update transformation matrix\n",
    "    \n",
    "    Call `zero_pi.transformation_matrix = trans_mat` will not update the variable transformations.\n",
    "</div>"
   ]
  },
  {
   "cell_type": "markdown",
   "id": "ad87138f",
   "metadata": {},
   "source": [
    "Regrouping external fluxes, specifying custom variable transformations and setting system hierarchy can all be done with a single call of `initiate_circuit`:"
   ]
  },
  {
   "cell_type": "code",
   "execution_count": null,
   "id": "e069f758",
   "metadata": {
    "execution": {
     "iopub.execute_input": "2022-05-23T16:15:47.801914Z",
     "iopub.status.busy": "2022-05-23T16:15:47.801767Z",
     "iopub.status.idle": "2022-05-23T16:15:47.999233Z",
     "shell.execute_reply": "2022-05-23T16:15:47.998601Z"
    },
    "pycharm": {
     "name": "#%%\n"
    }
   },
   "outputs": [],
   "source": [
    "zero_pi.initiate_circuit(transformation_matrix=trans_mat, \n",
    "                         system_hierarchy=system_hierarchy, \n",
    "                         subsystem_trunc_dims=[50, 100], \n",
    "                         closure_branches=zero_pi.closure_branches)"
   ]
  },
  {
   "cell_type": "markdown",
   "id": "fcb3a657",
   "metadata": {
    "pycharm": {
     "name": "#%% md\n"
    }
   },
   "source": [
    "## Tips\n",
    "\n",
    "### Options for automatic variable transformation\n",
    "- After the periodic, frozen and cyclic variables are identified, transformation matrix is completed by taking a set of linearly-independent basis as a reference. The basis set is encoded in a matrix. An identity matrix is used as the reference by default. However, sometimes user may not find the resulting variable transformation convenient. As an alternative, heuristic-based method for generating the basis matrix is available by setting the optional argument `basis_completion=\"simple\"` when creating the `Circuit` object (the default is `\"standard\"`)"
   ]
  },
  {
   "cell_type": "markdown",
   "id": "4299c02f",
   "metadata": {},
   "source": [
    "<div class=\"alert alert-warning\">\n",
    "    Work in progress\n",
    "    \n",
    "    Need Sai to clarify the options for automatic variable transformation. Also need to rename `\"standard\"` as `\"canonical basis vector\"`\n",
    "</div>"
   ]
  },
  {
   "cell_type": "markdown",
   "id": "0886befc",
   "metadata": {},
   "source": [
    "### Handling large circuits\n",
    "- When the circuit contains more than 4 nodes, it is better to not use many symbols for capacitances in the input file as the symbolic matrix conversion required for symbolic Hamiltonian can be expensive. This functionality will be improved in the future.\n",
    "- For large circuits, as the Hilbert space dimension can grow up very fast by increasing cutoffs, numerical diagonalizations with large cutoffs would be challenging in terms of runtime and memory. It is recommended to start diagonalizations with small cutoffs, and gradually increase them as needed. This applies to both the direct and hierarchical diagonalization methods.\n",
    "- For hierarchical diagonalizations: as diagonalizations for systems with 3 or more variables take much longer time than those for a smaller system with 1 or 2 nodes, it is recommended to group less than 3 nodes for each subsystem, and build a hierarchy of subsystems."
   ]
  },
  {
   "cell_type": "markdown",
   "id": "bae9700d",
   "metadata": {},
   "source": [
    "<div class=\"alert alert-warning\">\n",
    "    Work in progress\n",
    "    \n",
    "    Add more tips\n",
    "</div>"
   ]
  }
 ],
 "metadata": {
  "kernelspec": {
   "display_name": "Python 3 (ipykernel)",
   "language": "python",
   "name": "python3"
  },
  "language_info": {
   "codemirror_mode": {
    "name": "ipython",
    "version": 3
   },
   "file_extension": ".py",
   "mimetype": "text/x-python",
   "name": "python",
   "nbconvert_exporter": "python",
   "pygments_lexer": "ipython3",
   "version": "3.10.4"
  }
 },
 "nbformat": 4,
 "nbformat_minor": 5
}
