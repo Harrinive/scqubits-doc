{
 "cells": [
  {
   "cell_type": "code",
   "execution_count": 1,
   "metadata": {
    "ExecuteTime": {
     "end_time": "2016-09-05T09:09:54.232690",
     "start_time": "2016-09-05T09:09:53.862693"
    },
    "init_cell": true,
    "pycharm": {
     "is_executing": false
    },
    "scrolled": true
   },
   "outputs": [],
   "source": [
    "%matplotlib inline\n",
    "%config InlineBackend.figure_format = 'svg'\n",
    "from IPython.display import Image\n",
    "\n",
    "import scqubits as scq\n",
    "import scqubits.utils.sweep_plotting as splot\n",
    "\n",
    "import qutip as qt\n",
    "\n",
    "import numpy as np"
   ]
  },
  {
   "cell_type": "markdown",
   "metadata": {},
   "source": [
    "# Composite Hilbert Spaces, QuTiP Interface"
   ]
  },
  {
   "cell_type": "markdown",
   "metadata": {},
   "source": [
    "The `HilbertSpace` class provides data structures and methods for handling composite Hilbert spaces which may consist of multiple qubits or qubits and oscillators coupled to each other. To harness the power of QuTiP, a toolbox for studying stationary and dynamical properties of closed and open quantum systems (and much more), `HilbertSpace` provides a convenient interface: it generates `qutip.qobj` objects which are then directly handled by QuTiP."
   ]
  },
  {
   "cell_type": "markdown",
   "metadata": {},
   "source": [
    "## Example: two transmons coupled to a harmonic mode\n",
    "\n",
    "Transmon qubits can be capacitively coupled to a common harmonic mode, realized by an LC oscillator or a transmission-line resonator. The Hamiltonian describing such a composite system is given by:\n",
    "\\begin{equation}\n",
    "H=H_\\text{tmon,1} + H_\\text{tmon,2} + \\omega_r a^\\dagger a + \\sum_{j=1,2}g_j n_j(a+a^\\dagger),\n",
    "\\end{equation}\n",
    "where $j=1,2$ enumerates the two transmon qubits, $\\omega_r$ is the (angular) frequency of the resonator. Furthermore, $n_j$ is the charge number operator for qubit $j$, and $g_j$ is the coupling strength between qubit $j$ and the resonator.\n",
    "\n",
    "### Create Hilbert space components\n",
    "\n",
    "The first step consists of creating the objects describing the individual building blocks of the full Hilbert space. Here, these will be the two transmons and one oscillator:"
   ]
  },
  {
   "cell_type": "code",
   "execution_count": 2,
   "metadata": {
    "ExecuteTime": {
     "end_time": "2016-08-23T15:16:24.535943",
     "start_time": "2016-08-23T15:16:24.523929"
    },
    "pycharm": {
     "is_executing": false
    }
   },
   "outputs": [],
   "source": [
    "tmon1 = scq.Transmon(\n",
    "    EJ=40.0,\n",
    "    EC=0.2,\n",
    "    ng=0.3,\n",
    "    ncut=40,\n",
    "    truncated_dim=4     # after diagonalization, we will keep 3 levels\n",
    ")\n",
    "\n",
    "tmon2 = scq.Transmon(\n",
    "    EJ=15.0,\n",
    "    EC=0.15,\n",
    "    ng=0.0,\n",
    "    ncut=30,\n",
    "    truncated_dim=4\n",
    ")\n",
    "\n",
    "resonator = scq.Oscillator(\n",
    "    E_osc=4.5,\n",
    "    truncated_dim=4  # up to 3 photons (0,1,2,3)\n",
    ")"
   ]
  },
  {
   "cell_type": "markdown",
   "metadata": {},
   "source": [
    "The `HilbertSpace` object is then created in one of two ways. The first is by utilizing the GUI, as shown below. Once created, a print call to this object outputs a summary of the composite Hilbert space. The image below is an example of the GUI."
   ]
  },
  {
   "cell_type": "markdown",
   "metadata": {},
   "source": [
    "![title](hilbertspace_gui.png)"
   ]
  },
  {
   "cell_type": "code",
   "execution_count": 3,
   "metadata": {},
   "outputs": [
    {
     "data": {
      "application/vnd.jupyter.widget-view+json": {
       "model_id": "9a52e3f060f34c87afb815a972d868b3",
       "version_major": 2,
       "version_minor": 0
      },
      "text/plain": [
       "VBox(children=(HBox(children=(VBox(children=(HBox(children=(Label(value='Select subsystems (Ctrl-Click)'), But…"
      ]
     },
     "metadata": {},
     "output_type": "display_data"
    },
    {
     "data": {
      "application/vnd.jupyter.widget-view+json": {
       "model_id": "94df160273134d3cb71b2d878f15c32c",
       "version_major": 2,
       "version_minor": 0
      },
      "text/plain": [
       "Output()"
      ]
     },
     "metadata": {},
     "output_type": "display_data"
    }
   ],
   "source": [
    "g = 0.1\n",
    "hilbertspace_gui = scq.HilbertSpace.create()\n"
   ]
  },
  {
   "cell_type": "markdown",
   "metadata": {},
   "source": [
    "GUI use is optional, of course. The following shows how to achieve the same creation using code."
   ]
  },
  {
   "cell_type": "code",
   "execution_count": 5,
   "metadata": {
    "ExecuteTime": {
     "end_time": "2016-08-23T15:16:25.169276",
     "start_time": "2016-08-23T15:16:25.141240"
    },
    "pycharm": {
     "is_executing": false
    }
   },
   "outputs": [
    {
     "name": "stdout",
     "output_type": "stream",
     "text": [
      "HilbertSpace:  subsystems\n",
      "-------------------------\n",
      "\n",
      "Transmon------------|\n",
      "                    | EJ: 40.0\n",
      "                    | EC: 0.2\n",
      "                    | ng: 0.3\n",
      "                    | ncut: 40\n",
      "                    | truncated_dim: 4\n",
      "                    |\n",
      "                    | dim: 81\n",
      "\n",
      "\n",
      "Transmon------------|\n",
      "                    | EJ: 15.0\n",
      "                    | EC: 0.15\n",
      "                    | ng: 0.0\n",
      "                    | ncut: 30\n",
      "                    | truncated_dim: 4\n",
      "                    |\n",
      "                    | dim: 61\n",
      "\n",
      "\n",
      "Oscillator----------|\n",
      "                    | E_osc: 4.5\n",
      "                    | truncated_dim: 4\n",
      "                    |\n",
      "                    | dim: 4\n",
      "\n",
      "\n"
     ]
    }
   ],
   "source": [
    "hilbertspace = scq.HilbertSpace([tmon1, tmon2, resonator])\n",
    "print(hilbertspace)"
   ]
  },
  {
   "cell_type": "markdown",
   "metadata": {},
   "source": [
    "One useful method of the `HilbertSpace` class is `.bare_hamiltonian()`. This yields the bare Hamiltonian of the non-interacting subsystems, expressed as a `qutip.Qobj`:"
   ]
  },
  {
   "cell_type": "code",
   "execution_count": 6,
   "metadata": {},
   "outputs": [
    {
     "data": {
      "text/latex": [
       "Quantum object: dims = [[4, 4, 4], [4, 4, 4]], shape = (64, 64), type = oper, isherm = True\\begin{equation*}\\left(\\begin{array}{*{11}c}-48.968 & 0.0 & 0.0 & 0.0 & 0.0 & \\cdots & 0.0 & 0.0 & 0.0 & 0.0 & 0.0\\\\0.0 & -44.468 & 0.0 & 0.0 & 0.0 & \\cdots & 0.0 & 0.0 & 0.0 & 0.0 & 0.0\\\\0.0 & 0.0 & -39.968 & 0.0 & 0.0 & \\cdots & 0.0 & 0.0 & 0.0 & 0.0 & 0.0\\\\0.0 & 0.0 & 0.0 & -35.468 & 0.0 & \\cdots & 0.0 & 0.0 & 0.0 & 0.0 & 0.0\\\\0.0 & 0.0 & 0.0 & 0.0 & -44.881 & \\cdots & 0.0 & 0.0 & 0.0 & 0.0 & 0.0\\\\\\vdots & \\vdots & \\vdots & \\vdots & \\vdots & \\ddots & \\vdots & \\vdots & \\vdots & \\vdots & \\vdots\\\\0.0 & 0.0 & 0.0 & 0.0 & 0.0 & \\cdots & -4.723 & 0.0 & 0.0 & 0.0 & 0.0\\\\0.0 & 0.0 & 0.0 & 0.0 & 0.0 & \\cdots & 0.0 & -14.477 & 0.0 & 0.0 & 0.0\\\\0.0 & 0.0 & 0.0 & 0.0 & 0.0 & \\cdots & 0.0 & 0.0 & -9.977 & 0.0 & 0.0\\\\0.0 & 0.0 & 0.0 & 0.0 & 0.0 & \\cdots & 0.0 & 0.0 & 0.0 & -5.477 & 0.0\\\\0.0 & 0.0 & 0.0 & 0.0 & 0.0 & \\cdots & 0.0 & 0.0 & 0.0 & 0.0 & -0.977\\\\\\end{array}\\right)\\end{equation*}"
      ],
      "text/plain": [
       "Quantum object: dims = [[4, 4, 4], [4, 4, 4]], shape = (64, 64), type = oper, isherm = True\n",
       "Qobj data =\n",
       "[[-48.96753061   0.           0.         ...   0.           0.\n",
       "    0.        ]\n",
       " [  0.         -44.46753061   0.         ...   0.           0.\n",
       "    0.        ]\n",
       " [  0.           0.         -39.96753061 ...   0.           0.\n",
       "    0.        ]\n",
       " ...\n",
       " [  0.           0.           0.         ...  -9.97661845   0.\n",
       "    0.        ]\n",
       " [  0.           0.           0.         ...   0.          -5.47661845\n",
       "    0.        ]\n",
       " [  0.           0.           0.         ...   0.           0.\n",
       "   -0.97661845]]"
      ]
     },
     "execution_count": 6,
     "metadata": {},
     "output_type": "execute_result"
    }
   ],
   "source": [
    "bare_hamiltonian = hilbertspace.bare_hamiltonian()\n",
    "bare_hamiltonian"
   ]
  },
  {
   "cell_type": "markdown",
   "metadata": {},
   "source": [
    "### Set up the interaction between subsystems"
   ]
  },
  {
   "cell_type": "markdown",
   "metadata": {},
   "source": [
    "There are 3 options that may be utilized when defining an interaction.\n",
    "\n",
    "#### Option 1: \n",
    "\n",
    "A standard interaction term involving multiple subsystems S=1,2,3,... is of the form\n",
    "\n",
    "$V = g A_1 A_2 A_3 \\cdots$\n",
    "\n",
    "or\n",
    "\n",
    "$V = g B_1 B_2 B_3 \\cdots + \\text{h.c.}$\n",
    "\n",
    "where the operators $A_j$, $B_j$ act on subsystem j, and operators $A_j$ are expected to be Hermitean. \n",
    "\n",
    "This structure is captured by using the `add_interaction` method in the most simple case. "
   ]
  },
  {
   "cell_type": "code",
   "execution_count": 4,
   "metadata": {
    "pycharm": {
     "is_executing": false
    }
   },
   "outputs": [
    {
     "ename": "NameError",
     "evalue": "name 'hilbertspace' is not defined",
     "output_type": "error",
     "traceback": [
      "\u001b[1;31m---------------------------------------------------------------------------\u001b[0m",
      "\u001b[1;31mNameError\u001b[0m                                 Traceback (most recent call last)",
      "\u001b[1;32m<ipython-input-4-c1ae061c39fa>\u001b[0m in \u001b[0;36m<module>\u001b[1;34m\u001b[0m\n\u001b[0;32m      3\u001b[0m \u001b[0moperator2\u001b[0m \u001b[1;33m=\u001b[0m \u001b[0mresonator\u001b[0m\u001b[1;33m.\u001b[0m\u001b[0mcreation_operator\u001b[0m\u001b[1;33m(\u001b[0m\u001b[1;33m)\u001b[0m \u001b[1;33m+\u001b[0m \u001b[0mresonator\u001b[0m\u001b[1;33m.\u001b[0m\u001b[0mannihilation_operator\u001b[0m\u001b[1;33m(\u001b[0m\u001b[1;33m)\u001b[0m\u001b[1;33m\u001b[0m\u001b[1;33m\u001b[0m\u001b[0m\n\u001b[0;32m      4\u001b[0m \u001b[1;33m\u001b[0m\u001b[0m\n\u001b[1;32m----> 5\u001b[1;33m hilbertspace.add_interaction(\n\u001b[0m\u001b[0;32m      6\u001b[0m     \u001b[0mg\u001b[0m\u001b[1;33m=\u001b[0m\u001b[0mg1\u001b[0m\u001b[1;33m,\u001b[0m\u001b[1;33m\u001b[0m\u001b[1;33m\u001b[0m\u001b[0m\n\u001b[0;32m      7\u001b[0m     \u001b[0mop1\u001b[0m\u001b[1;33m=\u001b[0m\u001b[1;33m(\u001b[0m\u001b[0moperator1\u001b[0m\u001b[1;33m,\u001b[0m \u001b[0mtmon1\u001b[0m\u001b[1;33m)\u001b[0m\u001b[1;33m,\u001b[0m\u001b[1;33m\u001b[0m\u001b[1;33m\u001b[0m\u001b[0m\n",
      "\u001b[1;31mNameError\u001b[0m: name 'hilbertspace' is not defined"
     ]
    }
   ],
   "source": [
    "g1 = 0.1  # coupling resonator-tmon1 (without charge matrix elements)\n",
    "operator1 = tmon1.n_operator()\n",
    "operator2 = resonator.creation_operator() + resonator.annihilation_operator()\n",
    "\n",
    "hilbertspace.add_interaction(\n",
    "    g=g1,\n",
    "    op1=(operator1, tmon1),\n",
    "    op2=(operator2, resonator)\n",
    ")\n",
    "\n",
    "g2 = 0.2  # coupling resonator-CPB2 (without charge matrix elements)\n",
    "hilbertspace.add_interaction(\n",
    "    g=g2,\n",
    "    op1=tmon2.n_operator,\n",
    "    op2=resonator.creation_operator,\n",
    "    add_hc=True\n",
    ")"
   ]
  },
  {
   "cell_type": "markdown",
   "metadata": {},
   "source": [
    "In this instance, op1 and op2 can take a tuple with the operator in the first position and the subsystem in the second position to specify subsystems directly. However, they can also take the operator alone, which will default to the subsystem that the operator is derived from. \n",
    "\n",
    "`add_hc = True` will add the hermitian conjugate to the hamiltonian.\n",
    "\n",
    "#### Option 2:\n",
    "\n",
    "The `add_interaction` method can also be used to define the interaction directly rather than defaulting to the standard form: "
   ]
  },
  {
   "cell_type": "code",
   "execution_count": 8,
   "metadata": {},
   "outputs": [],
   "source": [
    "hilbertspace_example = scq.HilbertSpace([tmon1, tmon2, resonator])\n",
    "\n",
    "g3 = 0.1\n",
    "hilbertspace_example.add_interaction(\n",
    "    expr=\"g3 * cos(t1) * adag\",\n",
    "    op1=(\"t1\", tmon1.n_operator),\n",
    "    op2 = (\"t2\", tmon2.n_operator),\n",
    "    op3=(\"adag\", resonator.creation_operator(), resonator),\n",
    "    add_hc=True\n",
    ")"
   ]
  },
  {
   "cell_type": "markdown",
   "metadata": {},
   "source": [
    "`expr` is used to define the interaction more explicitly. It should take the form of a python expression, using variables that are already defined as well as variables that are defined in `op1`, `op2`, `op3`, etc. When using `expr`, the `op` arguements should take the form of a tuple with the variable name string in the first position, then the operator in the second, then the optional subsystem in the third. \n",
    "\n",
    "Beyond simple python functions, acceptable functions to use in `expr` are as follows:\n",
    "\n",
    "|  Function             |   Function Translation          |\n",
    "|-----------------------|---------------------------------|\n",
    "| `'cos'`               | `'Qobj.cosm'`                   |\n",
    "| `'sin'`               | `'Qobj.sinm'`                   |\n",
    "| `'exp'`               | `'Qobj.expm'`                   |\n",
    "| `'dag'`               | `'Qobj.dag'`                    |\n",
    "| `'conj'`              | `'Qobj.conj'`                   |\n",
    "| `'trans'`             | `'Qobj.trans'`                  |\n",
    "| `'sqrt'`              | `'Qobj.sqrtm'`                  |\n",
    "\n",
    "\n",
    "#### Option 3:\n",
    "\n",
    "Finally `add_interaction` can also been used to add a `Qobj` object that has already been properly identity wrapped:"
   ]
  },
  {
   "cell_type": "code",
   "execution_count": 9,
   "metadata": {},
   "outputs": [],
   "source": [
    "# Generate a Qobj\n",
    "g = 0.1\n",
    "a = qt.destroy(4)\n",
    "kerr = a.dag() * a.dag() * a * a\n",
    "id = qt.qeye(4)\n",
    "V = g * qt.tensor(id, id, kerr)\n",
    "\n",
    "hilbertspace_example.add_interaction(qobj = V)"
   ]
  },
  {
   "cell_type": "markdown",
   "metadata": {},
   "source": [
    "In this case, the `add_interaction` method only requires the arguement of `qobj` which must be an object of the type `Qobj`. "
   ]
  },
  {
   "cell_type": "markdown",
   "metadata": {},
   "source": [
    "With the interactions specified, the full Hamiltonian of the coupled system can be obtained via the method `.hamiltonian()`. Again, this conveniently results in a `qubit.Qobj` operator:"
   ]
  },
  {
   "cell_type": "code",
   "execution_count": 10,
   "metadata": {
    "ExecuteTime": {
     "end_time": "2016-08-23T15:16:26.919100",
     "start_time": "2016-08-23T15:16:26.907082"
    },
    "pycharm": {
     "is_executing": false
    }
   },
   "outputs": [
    {
     "data": {
      "text/latex": [
       "Quantum object: dims = [[4, 4, 4], [4, 4, 4]], shape = (64, 64), type = oper, isherm = True\\begin{equation*}\\left(\\begin{array}{*{11}c}-48.968 & 0.030 & 0.0 & 0.0 & 0.0 & \\cdots & 0.0 & 0.0 & 0.0 & 0.0 & 0.0\\\\0.030 & -44.468 & 0.042 & 0.0 & 0.261 & \\cdots & 0.0 & 0.0 & 0.0 & 0.0 & 0.0\\\\0.0 & 0.042 & -39.968 & 0.052 & 0.0 & \\cdots & 0.0 & 0.0 & 0.0 & 0.0 & 0.0\\\\0.0 & 0.0 & 0.052 & -35.468 & 0.0 & \\cdots & 0.0 & 0.0 & 0.0 & 0.0 & 0.0\\\\0.0 & 0.261 & 0.0 & 0.0 & -44.881 & \\cdots & 0.0 & 0.0 & 0.0 & 0.0 & 0.0\\\\\\vdots & \\vdots & \\vdots & \\vdots & \\vdots & \\ddots & \\vdots & \\vdots & \\vdots & \\vdots & \\vdots\\\\0.0 & 0.0 & 0.0 & 0.0 & 0.0 & \\cdots & -4.723 & 0.0 & 0.0 & -0.749 & 0.0\\\\0.0 & 0.0 & 0.0 & 0.0 & 0.0 & \\cdots & 0.0 & -14.477 & 0.030 & 0.0 & 0.0\\\\0.0 & 0.0 & 0.0 & 0.0 & 0.0 & \\cdots & 0.0 & 0.030 & -9.977 & 0.042 & 0.0\\\\0.0 & 0.0 & 0.0 & 0.0 & 0.0 & \\cdots & -0.749 & 0.0 & 0.042 & -5.477 & 0.052\\\\0.0 & 0.0 & 0.0 & 0.0 & 0.0 & \\cdots & 0.0 & 0.0 & 0.0 & 0.052 & -0.977\\\\\\end{array}\\right)\\end{equation*}"
      ],
      "text/plain": [
       "Quantum object: dims = [[4, 4, 4], [4, 4, 4]], shape = (64, 64), type = oper, isherm = True\n",
       "Qobj data =\n",
       "[[-4.89675306e+01  3.00000000e-02  0.00000000e+00 ...  0.00000000e+00\n",
       "   0.00000000e+00  0.00000000e+00]\n",
       " [ 3.00000000e-02 -4.44675306e+01  4.24264069e-02 ...  0.00000000e+00\n",
       "   0.00000000e+00  0.00000000e+00]\n",
       " [ 0.00000000e+00  4.24264069e-02 -3.99675306e+01 ...  0.00000000e+00\n",
       "   0.00000000e+00  0.00000000e+00]\n",
       " ...\n",
       " [ 0.00000000e+00  0.00000000e+00  0.00000000e+00 ... -9.97661845e+00\n",
       "   4.24264070e-02  0.00000000e+00]\n",
       " [ 0.00000000e+00  0.00000000e+00  0.00000000e+00 ...  4.24264070e-02\n",
       "  -5.47661845e+00  5.19615243e-02]\n",
       " [ 0.00000000e+00  0.00000000e+00  0.00000000e+00 ...  0.00000000e+00\n",
       "   5.19615243e-02 -9.76618450e-01]]"
      ]
     },
     "execution_count": 10,
     "metadata": {},
     "output_type": "execute_result"
    }
   ],
   "source": [
    "dressed_hamiltonian = hilbertspace.hamiltonian()\n",
    "dressed_hamiltonian"
   ]
  },
  {
   "cell_type": "markdown",
   "metadata": {},
   "source": [
    "### Obtaining the eigenspectrum via QuTiP\n",
    "\n",
    "Since the Hamiltonian obtained this way is a proper `qutip.qobj`, all QuTiP routines are now available. In the first case, we are still making use of the scqubit `HilbertSpace.eigensys()` method. In the second, case, we use QuTiP's method `.eigenenergies()`:"
   ]
  },
  {
   "cell_type": "code",
   "execution_count": 11,
   "metadata": {
    "ExecuteTime": {
     "end_time": "2016-08-23T15:16:27.983649",
     "start_time": "2016-08-23T15:16:27.864493"
    },
    "pycharm": {
     "is_executing": false
    }
   },
   "outputs": [
    {
     "name": "stdout",
     "output_type": "stream",
     "text": [
      "[-48.97770317 -45.02707241 -44.36656205 -41.18438832]\n"
     ]
    }
   ],
   "source": [
    "evals, evecs = hilbertspace.eigensys(evals_count=4)\n",
    "print(evals)"
   ]
  },
  {
   "cell_type": "code",
   "execution_count": 12,
   "metadata": {},
   "outputs": [
    {
     "data": {
      "text/plain": [
       "array([-48.97770317, -45.02707241, -44.36656205, -41.18438832,\n",
       "       -41.1776098 , -40.46448065, -39.76202396, -37.45533167,\n",
       "       -37.22705488, -36.65156212, -36.56694139, -35.88617024,\n",
       "       -35.14255357, -33.58960343, -33.38439485, -33.12061816,\n",
       "       -32.66494366, -32.04065582, -31.96284558, -30.93536847,\n",
       "       -29.65538466, -29.63912664, -28.97946785, -28.85287223,\n",
       "       -28.64748897, -28.09427075, -27.35745603, -26.97461415,\n",
       "       -26.21586637, -25.79648462, -25.3216198 , -25.07747135,\n",
       "       -24.37567532, -24.24760531, -23.66618527, -23.15199748,\n",
       "       -22.2580349 , -22.06752989, -21.57303944, -21.26626732,\n",
       "       -20.85288717, -20.51511596, -19.78521899, -19.1938092 ,\n",
       "       -18.41228666, -17.73463904, -17.66080329, -16.93618597,\n",
       "       -16.66699841, -15.89010361, -15.58181323, -14.68288545,\n",
       "       -13.84725844, -13.27037775, -13.08388811, -12.34366698,\n",
       "       -11.62655644, -10.308913  ,  -9.23168892,  -8.32791939,\n",
       "        -8.13883089,  -5.82301882,  -4.18180351,  -0.88957289])"
      ]
     },
     "execution_count": 12,
     "metadata": {},
     "output_type": "execute_result"
    }
   ],
   "source": [
    "dressed_hamiltonian = hilbertspace.hamiltonian()\n",
    "dressed_hamiltonian.eigenenergies()"
   ]
  },
  {
   "cell_type": "code",
   "execution_count": null,
   "metadata": {},
   "outputs": [],
   "source": []
  }
 ],
 "metadata": {
  "celltoolbar": "Edit Metadata",
  "kernelspec": {
   "display_name": "Python 3",
   "language": "python",
   "name": "python3"
  },
  "language_info": {
   "codemirror_mode": {
    "name": "ipython",
    "version": 3
   },
   "file_extension": ".py",
   "mimetype": "text/x-python",
   "name": "python",
   "nbconvert_exporter": "python",
   "pygments_lexer": "ipython3",
   "version": "3.7.6"
  },
  "toc": {
   "toc_cell": false,
   "toc_number_sections": true,
   "toc_threshold": 6,
   "toc_window_display": false
  },
  "varInspector": {
   "cols": {
    "lenName": 16,
    "lenType": 16,
    "lenVar": 40
   },
   "kernels_config": {
    "python": {
     "delete_cmd_postfix": "",
     "delete_cmd_prefix": "del ",
     "library": "var_list.py",
     "varRefreshCmd": "print(var_dic_list())"
    },
    "r": {
     "delete_cmd_postfix": ") ",
     "delete_cmd_prefix": "rm(",
     "library": "var_list.r",
     "varRefreshCmd": "cat(var_dic_list()) "
    }
   },
   "types_to_exclude": [
    "module",
    "function",
    "builtin_function_or_method",
    "instance",
    "_Feature"
   ],
   "window_display": false
  }
 },
 "nbformat": 4,
 "nbformat_minor": 2
}
