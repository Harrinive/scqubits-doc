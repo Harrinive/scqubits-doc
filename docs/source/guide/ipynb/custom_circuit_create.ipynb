{
 "cells": [
  {
   "cell_type": "markdown",
   "id": "03507a0d-627c-494e-940f-b0e7077aa01b",
   "metadata": {
    "pycharm": {
     "name": "#%% md\n"
    }
   },
   "source": [
    "## Creating a `Circuit` object\n",
    "\n",
    "\n",
    "### Circuit input "
   ]
  },
  {
   "cell_type": "code",
   "execution_count": 8,
   "id": "e47f75b9",
   "metadata": {
    "pycharm": {
     "name": "#%%\n"
    },
    "tags": []
   },
   "outputs": [],
   "source": [
    "import scqubits as scq\n",
    "import numpy as np\n",
    "\n",
    "zp_yaml = \"\"\"# zero-pi\n",
    "branches:\n",
    "- [\"JJ\", 1,2, EJ = 10, 20]\n",
    "- [\"JJ\", 3,4, EJ, 20]\n",
    "- [\"L\", 2,3, 0.008]\n",
    "- [\"L\", 4,1, 0.008]\n",
    "- [\"C\", 1,3, 0.02]\n",
    "- [\"C\", 2,4, 0.02]\n",
    "\"\"\""
   ]
  },
  {
   "cell_type": "markdown",
   "id": "8d7e20d3",
   "metadata": {
    "pycharm": {
     "name": "#%% md\n"
    }
   },
   "source": [
    "### Create the `Circuit` object\n",
    "\n",
    "Using the yaml input, create a `Circuit` object:"
   ]
  },
  {
   "cell_type": "code",
   "execution_count": null,
   "id": "a148a73d",
   "metadata": {},
   "outputs": [],
   "source": [
    "zero_pi = scq.Circuit(zp_yaml, from_file=False)"
   ]
  },
  {
   "cell_type": "markdown",
   "id": "a8981132",
   "metadata": {
    "pycharm": {
     "name": "#%% md\n"
    }
   },
   "source": [
    "The creation of a `Circuit` object automatically runs methods for circuit analysis, quantization, and construction of the circuit Hamiltonian matrix. \n",
    "\n",
    "\n",
    "### Example: circuit Lagrangian\n",
    "\n",
    "One of the many `Circuit` methods returns the symbolic expression of the circuit Lagrangian:"
   ]
  },
  {
   "cell_type": "code",
   "execution_count": 9,
   "id": "de4421ff",
   "metadata": {},
   "outputs": [
    {
     "data": {
      "text/latex": [
       "$ \\left(0.5 \\dot{φ_1} \\cdot \\left(6.25625 \\dot{φ_1} - 6.25 \\dot{φ_3} - 0.00625 \\dot{φ_2}\\right) + 0.5 \\dot{φ_2} \\left(6.25625 \\dot{φ_2} - 6.25 \\dot{φ_4} - 0.00625 \\dot{φ_1}\\right) + 0.5 \\dot{φ_3} \\left(6.25625 \\dot{φ_3} - 6.25 \\dot{φ_1} - 0.00625 \\dot{φ_4}\\right) + 0.5 \\dot{φ_4} \\left(6.25625 \\dot{φ_4} - 6.25 \\dot{φ_2} - 0.00625 \\dot{φ_3}\\right)\\right) + \\left(- 0.004 \\left(φ_{1} - φ_{4}\\right)^{2} - 0.004 \\left(φ_{3} - φ_{2}\\right)^{2} + EJ \\cos{\\left(φ_{1} - φ_{2} \\right)} + EJ \\cos{\\left((2πΦ_{1}) + φ_{4} - φ_{3} \\right)}\\right) $"
      ],
      "text/plain": [
       "<IPython.core.display.Latex object>"
      ]
     },
     "metadata": {},
     "output_type": "display_data"
    }
   ],
   "source": [
    "zero_pi.sym_lagrangian()"
   ]
  },
  {
   "cell_type": "markdown",
   "id": "f73823e8",
   "metadata": {},
   "source": [
    "Here, each $\\varphi_j$ denotes the dimensionless phase variable associated with node $j$."
   ]
  }
 ],
 "metadata": {
  "celltoolbar": "Edit Metadata",
  "kernelspec": {
   "display_name": "Python 3 (ipykernel)",
   "language": "python",
   "name": "python3"
  },
  "language_info": {
   "codemirror_mode": {
    "name": "ipython",
    "version": 3
   },
   "file_extension": ".py",
   "mimetype": "text/x-python",
   "name": "python",
   "nbconvert_exporter": "python",
   "pygments_lexer": "ipython3",
   "version": "3.9.12"
  },
  "vscode": {
   "interpreter": {
    "hash": "c8d4bf36a74824303709ac4e007bea7414f53aa465ed117f157b5ab5806c56f7"
   }
  }
 },
 "nbformat": 4,
 "nbformat_minor": 5
}
