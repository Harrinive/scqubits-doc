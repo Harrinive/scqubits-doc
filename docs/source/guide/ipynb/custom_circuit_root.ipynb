{
 "cells": [
  {
   "cell_type": "markdown",
   "id": "a1533a21-0277-472a-af2e-b40a2e9e0c39",
   "metadata": {
    "pycharm": {
     "name": "#%% md\n"
    }
   },
   "source": [
    "# Custom Circuits\n",
    "The `Circuit` class provides functionality for the symbolic and numerical analysis of custom circuits.\n",
    "\n",
    "For a custom circuit, the code \n",
    "\n",
    "- **identifies the periodic and extended degrees of freedom**, \n",
    "- **eliminates the free and frozen modes**. \n",
    "\n",
    "With this, the symbolic expression of the Hamiltonian is generated in terms of an appropriate choice of variables.\n",
    "The `Circuit` class also performs the numerical diagonalization of the circuit Hamiltonian. \n",
    "Hierarchical diagonalization can be enabled for better runtime/memory perfomance.\n",
    "\n",
    "<img src=\"./circuit-flowchart.png\" alt=\"circuit quantization\" width=\"550\">"
   ]
  },
  {
   "cell_type": "markdown",
   "id": "635b5f05",
   "metadata": {
    "nbsphinx-toctree": {
     "hidden": true
    }
   },
   "source": [
    "[Defining a custom circuit](./custom_circuit_define.ipynb)\n",
    "\n",
    "[More on defining circuits](./custom_circuit_define_more.ipynb)\n",
    "\n",
    "[Creating a Circuit object](./custom_circuit_create.ipynb)\n",
    "\n",
    "[Lagrangian, variable transform](./custom_circuit_lagrangian.ipynb)\n",
    "\n",
    "[Hamiltonian, quantization](./custom_circuit_hamiltonian.ipynb)\n",
    "\n",
    "[Bases, truncation, and convergence](./custom_circuit_bases.ipynb)\n",
    "\n",
    "[Hierarchical diagonalization](./custom_circuit_hd.ipynb)\n",
    "\n",
    "[Magnetic flux, offset charges](./custom_circuit_offsets.ipynb)\n",
    "\n",
    "[Extra features and tips](./custom_circuit_extra.ipynb)"
   ]
  }
 ],
 "metadata": {
  "celltoolbar": "Edit Metadata",
  "kernelspec": {
   "display_name": "Python 3 (ipykernel)",
   "language": "python",
   "name": "python3"
  },
  "language_info": {
   "codemirror_mode": {
    "name": "ipython",
    "version": 3
   },
   "file_extension": ".py",
   "mimetype": "text/x-python",
   "name": "python",
   "nbconvert_exporter": "python",
   "pygments_lexer": "ipython3",
   "version": "3.9.12"
  },
  "vscode": {
   "interpreter": {
    "hash": "c8d4bf36a74824303709ac4e007bea7414f53aa465ed117f157b5ab5806c56f7"
   }
  }
 },
 "nbformat": 4,
 "nbformat_minor": 5
}
