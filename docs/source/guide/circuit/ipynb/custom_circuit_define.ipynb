{
 "cells": [
  {
   "attachments": {},
   "cell_type": "markdown",
   "id": "15992a56",
   "metadata": {},
   "source": [
    "## Defining a custom circuit\n",
    "The `Circuit` class supports all superconducting circuits consisting of **capacitances**, **inductances**, and **Josephson junctions**."
   ]
  },
  {
   "attachments": {},
   "cell_type": "markdown",
   "id": "4b930329",
   "metadata": {
    "pycharm": {
     "name": "#%% md\n"
    }
   },
   "source": [
    "### Example\n",
    "\n",
    "Consider the circuit of the zero-pi qubit:\n",
    "   \n",
    "<img src=\"./zeropi-circ.jpg\" alt=\"zero-pi circuit\" width=\"250\">\n",
    "   \n",
    "The circuit is specified branch by branch, using the following syntax:"
   ]
  },
  {
   "cell_type": "code",
   "execution_count": 1,
   "id": "480aba4d",
   "metadata": {
    "pycharm": {
     "name": "#%%\n"
    },
    "tags": []
   },
   "outputs": [],
   "source": [
    "zp_yaml = \"\"\"# zero-pi\n",
    "branches:\n",
    "- [\"JJ\", 1,2, EJ = 10, 20]\n",
    "- [\"JJ\", 3,4, EJ, 20]\n",
    "- [\"L\", 2,3, 0.008]\n",
    "- [\"L\", 4,1, 0.008]\n",
    "- [\"C\", 1,3, 0.02]\n",
    "- [\"C\", 2,4, 0.02]\n",
    "\"\"\""
   ]
  },
  {
   "attachments": {},
   "cell_type": "markdown",
   "id": "744085e7-bb67-4670-b5e8-6505e6b5dcd3",
   "metadata": {
    "pycharm": {
     "name": "#%% md\n"
    }
   },
   "source": [
    "Alternatively, circuit specifications can be stored and loaded as `yaml` files (same syntax as above). This is the necessary input to create a `Circuit` object. "
   ]
  },
  {
   "attachments": {},
   "cell_type": "markdown",
   "id": "c2aa7809",
   "metadata": {
    "pycharm": {
     "name": "#%% md\n"
    }
   },
   "source": [
    "### General procedure\n",
    "\n",
    "<div class=\"alert alert-info\">\n",
    "    \n",
    "Custom circuit definition\n",
    "    \n",
    "A custom circuit is defined in terms of its nodes and branches. To get started, label all circuit nodes with integer numbers n=1,2,3,... \n",
    "    \n",
    "For each branch connecting two nodes:\n",
    "   \n",
    "- specify branch type: \n",
    "    - `JJ` for Josephson junction, \n",
    "    - `L` for inductance, \n",
    "    - `C` for capacitance\n",
    "- record the labels of the two nodes connected by the branch\n",
    "- provide circuit-element parameters (EJ and ECJ, EL, and EC, respectively)\n",
    "</div>"
   ]
  },
  {
   "attachments": {},
   "cell_type": "markdown",
   "id": "4e7c4e3f",
   "metadata": {},
   "source": [
    "### Graphical user interface (GUI) for defining custom circuits\n",
    "\n",
    "Superconducting Circuit Builder (developed by Ben McDonough) is a separate package that offers the GUI for defining custom circuits: the user can draw a circuit, and can export a corresponding YAML string of the circuit. The package is available [here](https://github.com/benmcdonough20/SuperconductingCircuitBuilder)."
   ]
  }
 ],
 "metadata": {
  "celltoolbar": "Edit Metadata",
  "kernelspec": {
   "display_name": "Python 3 (ipykernel)",
   "language": "python",
   "name": "python3"
  },
  "language_info": {
   "codemirror_mode": {
    "name": "ipython",
    "version": 3
   },
   "file_extension": ".py",
   "mimetype": "text/x-python",
   "name": "python",
   "nbconvert_exporter": "python",
   "pygments_lexer": "ipython3",
   "version": "3.9.12"
  },
  "vscode": {
   "interpreter": {
    "hash": "c8d4bf36a74824303709ac4e007bea7414f53aa465ed117f157b5ab5806c56f7"
   }
  }
 },
 "nbformat": 4,
 "nbformat_minor": 5
}
