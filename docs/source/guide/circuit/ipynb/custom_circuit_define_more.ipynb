{
 "cells": [
  {
   "cell_type": "markdown",
   "id": "744085e7-bb67-4670-b5e8-6505e6b5dcd3",
   "metadata": {
    "pycharm": {
     "name": "#%% md\n"
    }
   },
   "source": [
    "## More on defining custom circuits"
   ]
  },
  {
   "cell_type": "code",
   "execution_count": null,
   "id": "8a6732f0",
   "metadata": {},
   "outputs": [],
   "source": [
    "zp_yaml = \"\"\"# zero-pi\n",
    "branches:\n",
    "- [\"JJ\", 1,2, EJ = 10, 20]\n",
    "- [\"JJ\", 3,4, EJ, 20]\n",
    "- [\"L\", 2,3, 0.008]\n",
    "- [\"L\", 4,1, 0.008]\n",
    "- [\"C\", 1,3, 0.02]\n",
    "- [\"C\", 2,4, 0.02]\n",
    "\"\"\""
   ]
  },
  {
   "cell_type": "markdown",
   "id": "00e9bfce",
   "metadata": {
    "pycharm": {
     "name": "#%% md\n"
    }
   },
   "source": [
    "The example above illustrates most of the syntax rules to be followed. Each branch is represented by \n",
    "\n",
    "```<branch-type>, <node_1>, <node_2>, <param-1> [, <param-2>]```\n",
    "\n",
    "### Branch types and parameters:\n",
    "\n",
    "- `C`:  branch parameter is the charging energy $E_C = \\frac{e^2}{2C}$\n",
    "- `L`:  branch parameter is the inductive energy $E_L = \\frac{\\Phi_0^2}{(2\\pi)^2 L}$\n",
    "- `JJ`: branch parameters are the Josephson energy $E_J$ and junction charging energy $E_{CJ}$\n",
    "\n",
    "*Example:* `\"C\", 1, 3, 0.02` is a capacitance connecting nodes 1 and node 3, with charging energy 0.02 GHz.\n",
    "\n",
    "### Symbolic vs. numerical branch parameters:\n",
    "\n",
    "- Branch parameters can be provided as float values, using the energy units set globally (default: GHz)\n",
    "- A symbol name can be specified, but must be introduced along with a value (e.g., `EJ = 10`). Note that the same symbol can afterwards be used to set any other compatible branch parameter. For instance, in the YAML description `zp_yaml`, the same parameter $EJ$ is used for the Josephson energies of the junctions connecting nodes $(1, 2)$ and $(3, 4).$\n",
    "- Symbolic output will generally maintain symbolic parameter names. However, for charging energies of systems with more than three nodes, numerical values are the default, since symbolic inversion of larger capacitance matrices is generally very slow and yields unwieldy expressions.\n",
    "\n",
    "<div class=\"alert alert-info\">\n",
    "    \n",
    "Accessing circuit parameters\n",
    "    \n",
    "- Only circuit parameters with an associated name (as in `EJ = 10`) are made accessible as attributes of the class instance: `<Circuit instance>.EJ`. \n",
    "    \n",
    "- Parameter sweeps (e.g., via `plot_evals_vs_paramvals()`) can only be performed for those circuit parameters that have been provided with a symbol name.\n",
    "</div>\n",
    "\n",
    "### Ground node:\n",
    "\n",
    "- The user can choose to include an explicit ground node by giving this node the label `0`. Such ground node serves as a reference node with generalized flux always $\\phi_0 = 0$."
   ]
  }
 ],
 "metadata": {
  "celltoolbar": "Edit Metadata",
  "kernelspec": {
   "display_name": "Python 3 (ipykernel)",
   "language": "python",
   "name": "python3"
  },
  "language_info": {
   "codemirror_mode": {
    "name": "ipython",
    "version": 3
   },
   "file_extension": ".py",
   "mimetype": "text/x-python",
   "name": "python",
   "nbconvert_exporter": "python",
   "pygments_lexer": "ipython3",
   "version": "3.9.12"
  },
  "vscode": {
   "interpreter": {
    "hash": "c8d4bf36a74824303709ac4e007bea7414f53aa465ed117f157b5ab5806c56f7"
   }
  }
 },
 "nbformat": 4,
 "nbformat_minor": 5
}
