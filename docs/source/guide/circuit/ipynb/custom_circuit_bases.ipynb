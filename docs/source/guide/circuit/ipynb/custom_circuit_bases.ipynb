{
 "cells": [
  {
   "cell_type": "markdown",
   "id": "a1533a21-0277-472a-af2e-b40a2e9e0c39",
   "metadata": {
    "pycharm": {
     "name": "#%% md\n"
    }
   },
   "source": [
    "## Bases, truncation, and convergence"
   ]
  },
  {
   "cell_type": "code",
   "execution_count": 1,
   "id": "e47f75b9",
   "metadata": {
    "pycharm": {
     "name": "#%%\n"
    },
    "tags": []
   },
   "outputs": [],
   "source": [
    "import scqubits as scq\n",
    "import numpy as np\n",
    "\n",
    "zp_yaml = \"\"\"# zero-pi\n",
    "branches:\n",
    "- [\"JJ\", 1,2, EJ = 10, 20]\n",
    "- [\"JJ\", 3,4, EJ, 20]\n",
    "- [\"L\", 2,3, 0.008]\n",
    "- [\"L\", 4,1, 0.008]\n",
    "- [\"C\", 1,3, 0.02]\n",
    "- [\"C\", 2,4, 0.02]\n",
    "\"\"\"\n",
    "\n",
    "zero_pi = scq.Circuit(zp_yaml, from_file=False)"
   ]
  },
  {
   "cell_type": "markdown",
   "id": "3adccf25",
   "metadata": {
    "pycharm": {
     "name": "#%% md\n"
    }
   },
   "source": [
    "### Basis choices\n",
    "\n",
    "For **periodic degrees of freedom** scqubits employs the discrete charge basis.\n",
    "\n",
    "For **extended degrees of freedom** two choices are available:\n",
    "- `ext_basis = \"discretized\"` (default)<br> Discretizes the variables for extended degrees of freedom.\n",
    "- `ext_basis = \"harmonic\"`<br>Employs the harmonic-oscillator basis for th extended degrees of freedom (taking the potential to be the one arising from the geometric inductance).\n",
    "\n",
    "For instance, the following would switch the treatment of the extended degrees of freedom to using harmonic-oscillator basis:\n",
    "\n",
    "`zero_pi = scq.Circuit(zp_yaml, from_file=False, ext_basis=\"harmonic\")`"
   ]
  },
  {
   "cell_type": "markdown",
   "id": "ef456b71",
   "metadata": {
    "pycharm": {
     "name": "#%% md\n"
    }
   },
   "source": [
    "### Truncation, cutoffs and convergence\n",
    "\n",
    "\n",
    "Each variable index comes with a **cutoff for basis truncation**. The corresponding attribute names can be listed like this:"
   ]
  },
  {
   "cell_type": "code",
   "execution_count": 2,
   "id": "59115710",
   "metadata": {
    "pycharm": {
     "name": "#%%\n"
    }
   },
   "outputs": [
    {
     "data": {
      "text/plain": [
       "['cutoff_n_1', 'cutoff_ext_2', 'cutoff_ext_3']"
      ]
     },
     "execution_count": 2,
     "metadata": {},
     "output_type": "execute_result"
    }
   ],
   "source": [
    "zero_pi.cutoff_names"
   ]
  },
  {
   "cell_type": "markdown",
   "id": "907982bc",
   "metadata": {
    "pycharm": {
     "name": "#%% md\n"
    }
   },
   "source": [
    "These cutoffs must be varied by the user to ensure convergence. \n",
    "We distinguish two cutoff types:\n",
    "\n",
    "#### Cutoffs for periodic degrees of freedom:\n",
    "- `cutoff_n_<i>` - use all the integer charge states in the range `[-cutoff_n_<i>, cutoff_n_<i>]` for the periodic degree of freedom $i$.\n",
    "\n",
    "#### Cutoffs for extended degrees of freedom:\n",
    "- `cutoff_ext_<i>` - the meaning of this cutoff differs according to the choice of  basis, specified via `ext_basis` upon initialization of the `Circuit` instance.\n",
    "    - `ext_basis = \"discretized\"`: <br>For discretization of $\\theta_i$, `cutoff_ext_<i>` sets the number of points used to in the \"spatial\" range given by the attribute `discretized_phi_range`.\n",
    "    - `ext_basis = \"harmonic\"`: <br>When using the harmonic oscillator basis, `cutoff_ext_<i>` sets the number of harmonic oscillator states admitted to the basis set for the extended degree of freedom $i$."
   ]
  },
  {
   "cell_type": "code",
   "execution_count": 3,
   "id": "25384719",
   "metadata": {
    "pycharm": {
     "name": "#%%\n"
    }
   },
   "outputs": [],
   "source": [
    "zero_pi.cutoff_n_1 = 5\n",
    "zero_pi.cutoff_ext_2 = 10\n",
    "zero_pi.cutoff_ext_3 = 10"
   ]
  },
  {
   "cell_type": "markdown",
   "id": "b7e7ebf2",
   "metadata": {
    "pycharm": {
     "name": "#%% md\n"
    }
   },
   "source": [
    "All the discretized variable ranges can be viewed as:"
   ]
  },
  {
   "cell_type": "code",
   "execution_count": 4,
   "id": "70ab6b90",
   "metadata": {
    "pycharm": {
     "name": "#%%\n"
    }
   },
   "outputs": [
    {
     "data": {
      "text/plain": [
       "{2: (-18.84955592153876, 18.84955592153876), 3: (-18.84955592153876, 18.84955592153876)}"
      ]
     },
     "execution_count": 4,
     "metadata": {},
     "output_type": "execute_result"
    }
   ],
   "source": [
    "zero_pi.discretized_phi_range"
   ]
  },
  {
   "cell_type": "markdown",
   "id": "98c397af",
   "metadata": {
    "pycharm": {
     "name": "#%% md\n"
    }
   },
   "source": [
    "These are the default range settings $[-6\\pi, 6\\pi]$; discretized variable ranges can be changed with "
   ]
  },
  {
   "cell_type": "code",
   "execution_count": 5,
   "id": "987329a7",
   "metadata": {
    "pycharm": {
     "name": "#%%\n"
    }
   },
   "outputs": [],
   "source": [
    "zero_pi.set_discretized_phi_range(var_indices=(2,3), phi_range=(-6*np.pi, 6*np.pi))"
   ]
  },
  {
   "cell_type": "markdown",
   "id": "d9383147",
   "metadata": {
    "pycharm": {
     "name": "#%% md\n"
    }
   },
   "source": [
    "### Example: eigenenergies\n",
    "\n",
    "Now, we can call `eigenvals()` to obtain **low-lying eigenenergies of the circuit Hamiltonian**: "
   ]
  },
  {
   "cell_type": "code",
   "execution_count": 6,
   "id": "e5b7ed1a",
   "metadata": {
    "pycharm": {
     "name": "#%%\n"
    }
   },
   "outputs": [
    {
     "data": {
      "text/plain": [
       "array([-13.25816395, -13.25645441, -13.24363991, -13.24193037,\n",
       "       -12.134373  , -12.13436007])"
      ]
     },
     "execution_count": 6,
     "metadata": {},
     "output_type": "execute_result"
    }
   ],
   "source": [
    "zero_pi.eigenvals()"
   ]
  },
  {
   "cell_type": "markdown",
   "id": "b767a49b",
   "metadata": {
    "pycharm": {
     "name": "#%% md\n"
    }
   },
   "source": [
    "Increasing the above cutoff values reveals that these eigenvalues have not converged yet. Increasing cutoff values increases the Hilbert space dimension and, thus, increases memory requirements and runtime. A strategy that can help mitigate this problem is the use of [Hierarchical diagonalization](./custom_circuit_hd.ipynb).\n"
   ]
  },
  {
   "cell_type": "markdown",
   "id": "4a880d84-4bd4-471b-8e7a-76512a02d36c",
   "metadata": {
    "pycharm": {
     "name": "#%% md\n"
    }
   },
   "source": [
    "## Chosing basis states for each of the subsystems\n",
    "It is also possible to chose a basis states for each of the subsystems independently."
   ]
  },
  {
   "cell_type": "code",
   "execution_count": 9,
   "id": "de0b9a36-4bee-4da2-aa29-2035e0232a62",
   "metadata": {},
   "outputs": [],
   "source": [
    "full_yaml = f\"\"\"branches:\n",
    "- [JJ, 0, 1, 10, 2.5]\n",
    "- [L, 2, 1, 0.5]\n",
    "- [L, 0 , 2 , 10]\n",
    "### coupling element\n",
    "- [C, 2, 3, 5]\n",
    "### tunable resonator\n",
    "- [JJ, 0, 3, 50, 2]\n",
    "- [C, 3, 4, 0.5]\n",
    "- [L, 4, 0, 8]\n",
    "\"\"\"\n",
    "\n",
    "circ = scq.Circuit(full_yaml, from_file=False, ext_basis=\"discretized\")\n",
    "trans_mat = np.array([[1, 0, 0, 0], \n",
    "                      [0, 1, 0, 0], \n",
    "                      [0, 0, 1, 0],\n",
    "                      [0, 0, 0, 1]])\n",
    "circ.configure(transformation_matrix=trans_mat, closure_branches=[circ.branches[0], circ.branches[-1]]) # chosing a transformation matrix, and closure branches for the two loops.\n",
    "circ._configure(system_hierarchy=[[[1], [2]], [3, 4]], subsystem_trunc_dims=[[10, [10, 10]], 20], ext_basis=[[\"harmonic\", \"discretized\"], \"discretized\"])\n"
   ]
  },
  {
   "cell_type": "code",
   "execution_count": null,
   "id": "648b851f-4367-4417-a310-7129d43d3add",
   "metadata": {},
   "outputs": [],
   "source": []
  }
 ],
 "metadata": {
  "celltoolbar": "Edit Metadata",
  "kernelspec": {
   "display_name": "Python 3 (ipykernel)",
   "language": "python",
   "name": "python3"
  },
  "language_info": {
   "codemirror_mode": {
    "name": "ipython",
    "version": 3
   },
   "file_extension": ".py",
   "mimetype": "text/x-python",
   "name": "python",
   "nbconvert_exporter": "python",
   "pygments_lexer": "ipython3",
   "version": "3.9.16"
  },
  "vscode": {
   "interpreter": {
    "hash": "c8d4bf36a74824303709ac4e007bea7414f53aa465ed117f157b5ab5806c56f7"
   }
  }
 },
 "nbformat": 4,
 "nbformat_minor": 5
}
